{
 "cells": [
  {
   "cell_type": "code",
   "execution_count": 2,
   "metadata": {
    "collapsed": true
   },
   "outputs": [],
   "source": [
    "from app.common.classes.EducationPlan import EducationPlan\n",
    "from app.common.func.api_get import check_api_db_response, api_get_db_table\n",
    "from app.common.func.education_plan import get_plan_curriculum_disciplines\n",
    "from config import ApeksConfig as Apeks\n",
    "\n",
    "\n",
    "plan_id = 145\n",
    "\n",
    "plan_disciplines = await get_plan_curriculum_disciplines(\n",
    "    plan_id #, department_id=department\n",
    ")\n",
    "\n",
    "plan_education_plans = await check_api_db_response(\n",
    "    await api_get_db_table(\n",
    "        Apeks.TABLES.get(\"plan_education_plans\"), id=plan_id\n",
    "    )\n",
    ")\n",
    "\n",
    "plan = EducationPlan(\n",
    "    education_plan_id=plan_id,\n",
    "    plan_education_plans=plan_education_plans,\n",
    "    plan_curriculum_disciplines=plan_disciplines,\n",
    ")"
   ]
  },
  {
   "cell_type": "code",
   "execution_count": 3,
   "outputs": [
    {
     "data": {
      "text/plain": "{10233: {'id': 10233,\n  'code': 'Б.1.О.1',\n  'name': 'Иностранный язык',\n  'department_id': '22',\n  'level': '3',\n  'type': None,\n  'left_node': '3'},\n 10234: {'id': 10234,\n  'code': 'Б.1.О.2',\n  'name': 'Философия',\n  'department_id': '16',\n  'level': '3',\n  'type': None,\n  'left_node': '5'},\n 10235: {'id': 10235,\n  'code': 'Б.1.О.3',\n  'name': 'Экономика',\n  'department_id': '10',\n  'level': '3',\n  'type': None,\n  'left_node': '7'},\n 10236: {'id': 10236,\n  'code': 'Б.1.О.4',\n  'name': 'Профессиональная этика и служебный этикет',\n  'department_id': '16',\n  'level': '3',\n  'type': None,\n  'left_node': '9'},\n 10237: {'id': 10237,\n  'code': 'Б.1.О.5',\n  'name': 'Русский язык в профессиональной служебной деятельности',\n  'department_id': '22',\n  'level': '3',\n  'type': None,\n  'left_node': '11'},\n 10238: {'id': 10238,\n  'code': 'Б.1.О.6',\n  'name': 'Социология',\n  'department_id': '16',\n  'level': '3',\n  'type': None,\n  'left_node': '13'},\n 10239: {'id': 10239,\n  'code': 'Б.1.О.7',\n  'name': 'Информационно-коммуникационные технологии в профессиональной служебной деятельности',\n  'department_id': '12',\n  'level': '3',\n  'type': None,\n  'left_node': '15'},\n 10240: {'id': 10240,\n  'code': 'Б.1.О.8',\n  'name': 'Теория государства и права',\n  'department_id': '11',\n  'level': '3',\n  'type': None,\n  'left_node': '17'},\n 10241: {'id': 10241,\n  'code': 'Б.1.О.9',\n  'name': 'История государства и права России',\n  'department_id': '11',\n  'level': '3',\n  'type': None,\n  'left_node': '19'},\n 10242: {'id': 10242,\n  'code': 'Б.1.О.10',\n  'name': 'История органов внутренних дел',\n  'department_id': '11',\n  'level': '3',\n  'type': None,\n  'left_node': '21'},\n 10243: {'id': 10243,\n  'code': 'Б.1.О.11',\n  'name': 'История государства и права зарубежных стран',\n  'department_id': '11',\n  'level': '3',\n  'type': None,\n  'left_node': '23'},\n 10244: {'id': 10244,\n  'code': 'Б.1.О.12',\n  'name': 'Конституционное право России',\n  'department_id': '11',\n  'level': '3',\n  'type': None,\n  'left_node': '25'},\n 10245: {'id': 10245,\n  'code': 'Б.1.О.13',\n  'name': 'Административное право',\n  'department_id': '9',\n  'level': '3',\n  'type': None,\n  'left_node': '27'},\n 10246: {'id': 10246,\n  'code': 'Б.1.О.14',\n  'name': 'Административно-процессуальное право',\n  'department_id': '9',\n  'level': '3',\n  'type': None,\n  'left_node': '29'},\n 10247: {'id': 10247,\n  'code': 'Б.1.О.15',\n  'name': 'Государственная служба в органах внутренних дел',\n  'department_id': '9',\n  'level': '3',\n  'type': None,\n  'left_node': '31'},\n 10248: {'id': 10248,\n  'code': 'Б.1.О.16',\n  'name': 'Правоохранительные органы',\n  'department_id': '19',\n  'level': '3',\n  'type': None,\n  'left_node': '33'},\n 10249: {'id': 10249,\n  'code': 'Б.1.О.17',\n  'name': 'Гражданское право',\n  'department_id': '10',\n  'level': '3',\n  'type': None,\n  'left_node': '35'},\n 10250: {'id': 10250,\n  'code': 'Б.1.О.18',\n  'name': 'Гражданское процессуальное право (гражданский процесс)',\n  'department_id': '10',\n  'level': '3',\n  'type': None,\n  'left_node': '37'},\n 10251: {'id': 10251,\n  'code': 'Б.1.О.19',\n  'name': 'Уголовное право',\n  'department_id': '18',\n  'level': '3',\n  'type': None,\n  'left_node': '39'},\n 10252: {'id': 10252,\n  'code': 'Б.1.О.20',\n  'name': 'Уголовно-процессуальное право (уголовный процесс)',\n  'department_id': '19',\n  'level': '3',\n  'type': None,\n  'left_node': '41'},\n 10253: {'id': 10253,\n  'code': 'Б.1.О.21',\n  'name': 'Прокурорский надзор',\n  'department_id': '19',\n  'level': '3',\n  'type': None,\n  'left_node': '43'},\n 10254: {'id': 10254,\n  'code': 'Б.1.О.22',\n  'name': 'Дознание в органах внутренних дел',\n  'department_id': '13',\n  'level': '3',\n  'type': None,\n  'left_node': '45'},\n 10255: {'id': 10255,\n  'code': 'Б.1.О.23',\n  'name': 'Криминалистика',\n  'department_id': '13',\n  'level': '3',\n  'type': None,\n  'left_node': '47'},\n 10256: {'id': 10256,\n  'code': 'Б.1.О.24',\n  'name': 'Судебная медицина и судебная психиатрия',\n  'department_id': '19',\n  'level': '3',\n  'type': None,\n  'left_node': '49'},\n 10257: {'id': 10257,\n  'code': 'Б.1.О.25',\n  'name': 'Криминология',\n  'department_id': '18',\n  'level': '3',\n  'type': None,\n  'left_node': '51'},\n 10258: {'id': 10258,\n  'code': 'Б.1.О.26',\n  'name': 'Предупреждение коррупции в органах внутренних дел и формирование антикоррупционного поведения сотрудников и работников органов внутренних дел',\n  'department_id': '18',\n  'level': '3',\n  'type': None,\n  'left_node': '53'},\n 10259: {'id': 10259,\n  'code': 'Б.1.О.27',\n  'name': 'Тактико-специальная подготовка',\n  'department_id': '17',\n  'level': '3',\n  'type': None,\n  'left_node': '55'},\n 10260: {'id': 10260,\n  'code': 'Б.1.О.28',\n  'name': 'Огневая подготовка',\n  'department_id': '17',\n  'level': '3',\n  'type': None,\n  'left_node': '57'},\n 10261: {'id': 10261,\n  'code': 'Б.1.О.29',\n  'name': 'Физическая подготовка',\n  'department_id': '20',\n  'level': '3',\n  'type': None,\n  'left_node': '59'},\n 10262: {'id': 10262,\n  'code': 'Б.1.О.30',\n  'name': 'Основы профессиональной служебной деятельности',\n  'department_id': '9',\n  'level': '3',\n  'type': None,\n  'left_node': '61'},\n 10263: {'id': 10263,\n  'code': 'Б.1.О.31',\n  'name': 'Личная безопасность сотрудников органов внутренних дел',\n  'department_id': '17',\n  'level': '3',\n  'type': None,\n  'left_node': '63'},\n 10264: {'id': 10264,\n  'code': 'Б.1.О.32',\n  'name': 'Первая помощь',\n  'department_id': '21',\n  'level': '3',\n  'type': None,\n  'left_node': '65'},\n 10265: {'id': 10265,\n  'code': 'Б.1.О.33',\n  'name': 'Специальная техника органов внутренних дел',\n  'department_id': '14',\n  'level': '3',\n  'type': None,\n  'left_node': '67'},\n 10266: {'id': 10266,\n  'code': 'Б.1.О.34',\n  'name': 'Делопроизводство и режим секретности в органах внутренних дел',\n  'department_id': '14',\n  'level': '3',\n  'type': None,\n  'left_node': '69'},\n 10267: {'id': 10267,\n  'code': 'Б.1.О.35',\n  'name': 'Основы управления в органах внутренних дел',\n  'department_id': '12',\n  'level': '3',\n  'type': None,\n  'left_node': '71'},\n 10268: {'id': 10268,\n  'code': 'Б.1.О.36',\n  'name': 'Основы кибербезопасности',\n  'department_id': '12',\n  'level': '3',\n  'type': None,\n  'left_node': '73'},\n 10269: {'id': 10269,\n  'code': 'Б.1.О.37',\n  'name': 'Психология и педагогика в профессиональной служебной деятельности сотрудников органов внутренних дел',\n  'department_id': '18',\n  'level': '3',\n  'type': None,\n  'left_node': '75'},\n 10270: {'id': 10270,\n  'code': 'Б.1.О.38',\n  'name': 'Административная деятельность полиции',\n  'department_id': '9',\n  'level': '3',\n  'type': None,\n  'left_node': '77'},\n 10274: {'id': 10274,\n  'code': 'Б.1.В.01',\n  'name': 'Организация дорожного движения',\n  'department_id': '15',\n  'level': '3',\n  'type': None,\n  'left_node': '87'},\n 10275: {'id': 10275,\n  'code': 'Б.1.В.02',\n  'name': 'Техническая эксплуатация автотранспорта',\n  'department_id': '15',\n  'level': '3',\n  'type': None,\n  'left_node': '89'},\n 10276: {'id': 10276,\n  'code': 'Б.1.В.03',\n  'name': 'Розыск автотранспортных средств',\n  'department_id': '14',\n  'level': '3',\n  'type': None,\n  'left_node': '91'},\n 10277: {'id': 10277,\n  'code': 'Б.1.В.04',\n  'name': 'Технический надзор и регистрационно-экзаменационная деятельность подразделений по обеспечению безопасности дорожного движения',\n  'department_id': '15',\n  'level': '3',\n  'type': None,\n  'left_node': '93'},\n 10278: {'id': 10278,\n  'code': 'Б.1.В.05',\n  'name': 'Использование специальных учетов и автоматизированных информационных систем в деятельности подразделений по обеспечению безопасности дорожного движения',\n  'department_id': '12',\n  'level': '3',\n  'type': None,\n  'left_node': '95'},\n 10279: {'id': 10279,\n  'code': 'Б.1.В.06',\n  'name': 'Реализация специальных криминалистических познаний сотрудниками подразделений по обеспечению безопасности дорожного движения',\n  'department_id': '13',\n  'level': '3',\n  'type': None,\n  'left_node': '97'},\n 10280: {'id': 10280,\n  'code': 'Б.1.В.07',\n  'name': 'Учения',\n  'department_id': '15',\n  'level': '3',\n  'type': None,\n  'left_node': '99'},\n 10281: {'id': 10281,\n  'code': 'Б.1.В.08',\n  'name': 'Актуальные проблемы обеспечения безопасности дорожного движения',\n  'department_id': '15',\n  'level': '3',\n  'type': None,\n  'left_node': '101'},\n 10288: {'id': 10288,\n  'code': 'Б.1.В.ЭД.1.01',\n  'name': 'Основы информационной безопасности органов внутренних дел',\n  'department_id': '12',\n  'level': '3',\n  'type': None,\n  'left_node': '107'},\n 10289: {'id': 10289,\n  'code': 'Б.1.В.ЭД.1.02',\n  'name': 'Компьютерная криминалистика',\n  'department_id': '13',\n  'level': '3',\n  'type': None,\n  'left_node': '109'},\n 10291: {'id': 10291,\n  'code': 'Б.1.В.ЭД.2.01',\n  'name': 'Социально-психологический тренинг профессионального общения',\n  'department_id': '18',\n  'level': '3',\n  'type': None,\n  'left_node': '119'},\n 10292: {'id': 10292,\n  'code': 'Б.1.В.ЭД.2.02',\n  'name': 'Методика расследования отдельных видов преступлений',\n  'department_id': '13',\n  'level': '3',\n  'type': None,\n  'left_node': '121'},\n 10295: {'id': 10295,\n  'code': 'Б.2.УП',\n  'name': 'Учебная практика',\n  'department_id': '15',\n  'level': '3',\n  'type': '1',\n  'left_node': '127'},\n 10296: {'id': 10296,\n  'code': 'Б.2.ПП',\n  'name': 'Производственная практика',\n  'department_id': '15',\n  'level': '3',\n  'type': '1',\n  'left_node': '129'},\n 10298: {'id': 10298,\n  'code': 'Б.3.ГИА',\n  'name': 'Подготовка к сдаче и сдача государственного экзамена по административной деятельности полиции и организации деятельности подразделений по обеспечению безопасности дорожного движения',\n  'department_id': '15',\n  'level': '3',\n  'type': None,\n  'left_node': '134'},\n 10301: {'id': 10301,\n  'code': 'ФТД.1',\n  'name': \"Профессиональная подготовка водителей транспортных средств категории ''В''\",\n  'department_id': '15',\n  'level': '3',\n  'type': None,\n  'left_node': '138'},\n 10302: {'id': 10302,\n  'code': 'ФТД.2',\n  'name': 'Повышение мастерства управления транспортными средствами',\n  'department_id': '15',\n  'level': '3',\n  'type': None,\n  'left_node': '140'},\n 10303: {'id': 10303,\n  'code': 'ФТД.3',\n  'name': \"Профессиональная подготовка водителей транспортных средств категории ''А''\",\n  'department_id': '15',\n  'level': '3',\n  'type': None,\n  'left_node': '142'},\n 10304: {'id': 10304,\n  'code': 'ФТД.4',\n  'name': 'Строевая подготовка',\n  'department_id': '20',\n  'level': '3',\n  'type': None,\n  'left_node': '144'},\n 10349: {'id': 10349,\n  'code': 'Б.1.В.ЭД.3.01',\n  'name': 'Религиоведение и основы противодействия религиозному экстремизму',\n  'department_id': '16',\n  'level': '3',\n  'type': None,\n  'left_node': '113'},\n 10350: {'id': 10350,\n  'code': 'Б.1.В.ЭД.3.02',\n  'name': 'Обеспечение прав человека в деятельности органов внутренних дел',\n  'department_id': '11',\n  'level': '3',\n  'type': None,\n  'left_node': '115'},\n 11075: {'id': 11075,\n  'code': 'Б.1.О.39',\n  'name': 'Практикум по административной юрисдикции органов внутренних дел',\n  'department_id': '9',\n  'level': '3',\n  'type': None,\n  'left_node': '79'},\n 11076: {'id': 11076,\n  'code': 'Б.1.О.40',\n  'name': 'Основы оперативно-розыскной деятельности органов внутренних дел',\n  'department_id': '14',\n  'level': '3',\n  'type': None,\n  'left_node': '81'},\n 11077: {'id': 11077,\n  'code': 'Б.1.О.41',\n  'name': 'Организация деятельности подразделений по обеспечению безопасности дорожного движения',\n  'department_id': '15',\n  'level': '3',\n  'type': None,\n  'left_node': '83'}}"
     },
     "execution_count": 3,
     "metadata": {},
     "output_type": "execute_result"
    }
   ],
   "source": [
    "plan.plan_curriculum_disciplines"
   ],
   "metadata": {
    "collapsed": false
   }
  },
  {
   "cell_type": "code",
   "execution_count": 4,
   "outputs": [
    {
     "data": {
      "text/plain": "[{'id': '1068',\n  'name': 'Рабочая программа (утвержденная)',\n  'curriculum_discipline_id': '10239',\n  'material_type_id': '9',\n  'approval_date': '2022-05-25',\n  'approval_document': 'Протокол № 12',\n  'status': '0',\n  'check_data': None,\n  'datetime': None,\n  'parent_id': None},\n {'id': '1984',\n  'name': 'ММ',\n  'curriculum_discipline_id': '10239',\n  'material_type_id': '4',\n  'approval_date': '2022-09-07',\n  'approval_document': 'Протокол № 16',\n  'status': '0',\n  'check_data': None,\n  'datetime': None,\n  'parent_id': None}]"
     },
     "execution_count": 4,
     "metadata": {},
     "output_type": "execute_result"
    }
   ],
   "source": [
    "mm_methodical_items = await check_api_db_response(\n",
    "    await api_get_db_table(\n",
    "        Apeks.TABLES.get(\"mm_methodical_items\"), curriculum_discipline_id=10239\n",
    "    )\n",
    ")\n",
    "mm_methodical_items"
   ],
   "metadata": {
    "collapsed": false
   }
  },
  {
   "cell_type": "code",
   "execution_count": 5,
   "outputs": [
    {
     "data": {
      "text/plain": "[{'id': '3389', 'methodical_item_id': '1984', 'file_id': '6006'}]"
     },
     "execution_count": 5,
     "metadata": {},
     "output_type": "execute_result"
    }
   ],
   "source": [
    "mm_methodical_items_files = await check_api_db_response(\n",
    "    await api_get_db_table(\n",
    "        Apeks.TABLES.get(\"mm_methodical_items_files\"), methodical_item_id=1984\n",
    "    )\n",
    ")\n",
    "mm_methodical_items_files"
   ],
   "metadata": {
    "collapsed": false
   }
  },
  {
   "cell_type": "code",
   "execution_count": 6,
   "outputs": [
    {
     "data": {
      "text/plain": "[{'id': '6006',\n  'name': 'Метод',\n  'uuid': 'd9fb22b7-f6fd-b3ec-0276-4475965bc20c'}]"
     },
     "execution_count": 6,
     "metadata": {},
     "output_type": "execute_result"
    }
   ],
   "source": [
    "system_files = await check_api_db_response(\n",
    "    await api_get_db_table(\n",
    "        Apeks.TABLES.get(\"system_files\"), id=6006\n",
    "    )\n",
    ")\n",
    "system_files"
   ],
   "metadata": {
    "collapsed": false
   }
  },
  {
   "cell_type": "code",
   "execution_count": 7,
   "outputs": [
    {
     "data": {
      "text/plain": "'Метод. мат. для гр. зан. и обесп. ср, 40.03.02, очная форма обучения, 2022-ИиИТвПСД.pdf'"
     },
     "execution_count": 7,
     "metadata": {},
     "output_type": "execute_result"
    }
   ],
   "source": [
    "import urllib.parse\n",
    "from urllib.request import urlopen\n",
    "\n",
    "uuid = 'd9fb22b7-f6fd-b3ec-0276-4475965bc20c'\n",
    "Apeks.FILE_LINK = f\"{Apeks.URL}/files/view?uuid=\"\n",
    "Apeks.FILE_UTF8_SEPARATOR = \"filename*=utf-8''\"\n",
    "\n",
    "def get_uuid_file_name(\n",
    "        uuid: str, url: str = Apeks.FILE_LINK,\n",
    "        separator: str = Apeks.FILE_UTF8_SEPARATOR\n",
    ") -> str:\n",
    "    \"\"\"Возвращает название файла по uuid.\"\"\"\n",
    "\n",
    "    url_data = urlopen(url + uuid)\n",
    "    head = url_data.getheader('Content-Disposition')\n",
    "    if separator in head:\n",
    "        file = head.split(separator).pop()\n",
    "        return urllib.parse.unquote(file)\n",
    "    else:\n",
    "        return url_data.headers.get_filename()\n",
    "\n",
    "get_uuid_file_name(uuid)"
   ],
   "metadata": {
    "collapsed": false
   }
  },
  {
   "cell_type": "code",
   "execution_count": 7,
   "outputs": [],
   "source": [
    "# Проверка количества лекций\n",
    "# Если есть практикум, контрольная ФОС + 1\n",
    "#"
   ],
   "metadata": {
    "collapsed": false
   }
  }
 ],
 "metadata": {
  "kernelspec": {
   "display_name": "Python 3",
   "language": "python",
   "name": "python3"
  },
  "language_info": {
   "codemirror_mode": {
    "name": "ipython",
    "version": 2
   },
   "file_extension": ".py",
   "mimetype": "text/x-python",
   "name": "python",
   "nbconvert_exporter": "python",
   "pygments_lexer": "ipython2",
   "version": "2.7.6"
  }
 },
 "nbformat": 4,
 "nbformat_minor": 0
}
