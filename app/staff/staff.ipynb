{
 "cells": [
  {
   "cell_type": "code",
   "execution_count": null,
   "outputs": [],
   "source": [
    "{\n",
    "    'date': '2023-12-27',\n",
    "    'departments': [\n",
    "        {\n",
    "            'id': 12,\n",
    "            'name': 'Подразделение',\n",
    "            'total': 5,\n",
    "            'absence': {\n",
    "                'illness': {\n",
    "                    54: 'Иванов И.И.'\n",
    "                },\n",
    "                'vacation': {},\n",
    "                'business_trip': {},\n",
    "                'duty': {},\n",
    "                'rest_time': {},\n",
    "                'internship': {},\n",
    "                'illegal': {}\n",
    "            },\n",
    "            'user': 'ivanova-ii',\n",
    "            'updated': '2024-08-09T18:31:42'\n",
    "        }\n",
    "    ],\n",
    "    'status': 'in progress'\n",
    "}\n"
   ],
   "metadata": {
    "collapsed": false
   },
   "id": "5d83f6cceaab790b"
  },
  {
   "cell_type": "code",
   "execution_count": 16,
   "outputs": [],
   "source": [
    "from app.common.func.organization import get_departments\n",
    "\n",
    "departments = await get_departments()"
   ],
   "metadata": {
    "collapsed": true,
    "ExecuteTime": {
     "end_time": "2023-12-21T11:39:29.137602500Z",
     "start_time": "2023-12-21T11:39:28.628025400Z"
    }
   },
   "id": "initial_id"
  },
  {
   "cell_type": "code",
   "execution_count": 17,
   "outputs": [],
   "source": [
    "from config import ApeksConfig as Apeks\n",
    "\n",
    "staff_departments = {key: {} for key in Apeks.DEPT_TYPES.values()}\n",
    "\n",
    "for dept in departments:\n",
    "    dept_data = departments[dept]\n",
    "    dept_type = dept_data.get('type')\n",
    "    if dept_type in staff_departments:\n",
    "        type_data = staff_departments[dept_type]\n",
    "        del[dept_data['type']]\n",
    "        type_data[dept] = dept_data\n",
    "    "
   ],
   "metadata": {
    "collapsed": false,
    "ExecuteTime": {
     "end_time": "2023-12-21T11:39:31.363502400Z",
     "start_time": "2023-12-21T11:39:31.357649100Z"
    }
   },
   "id": "304a9b466d9a4785"
  },
  {
   "cell_type": "code",
   "execution_count": 18,
   "outputs": [
    {
     "data": {
      "text/plain": "{'Подразделения': {1: {'full': 'Направление по работе с ветеранами',\n   'short': 'Напр. по работе с ветеранами'},\n  2: {'full': 'Правовая группа', 'short': 'Правовая группа'},\n  3: {'full': 'Учёный совет', 'short': 'Учёный совет'},\n  29: {'full': 'Отдел информационно-технического обеспечения учебного процесса',\n   'short': 'ОИТОУП'},\n  30: {'full': 'Учебный отдел', 'short': 'УО'},\n  31: {'full': 'Научно-исследовательский и редакционно-издательский отдел',\n   'short': 'НИиРИО'},\n  32: {'full': 'Отдел кадров', 'short': 'ОК'},\n  33: {'full': 'Отдел морально-психологического обеспечения', 'short': 'ОМПО'},\n  34: {'full': 'Библиотека', 'short': 'Библиотека'},\n  38: {'full': 'Комендантское отделение', 'short': 'Ком. отд.'}},\n 'Кафедры': {9: {'full': 'административного права и административной деятельности ОВД',\n   'short': 'АП и АД ОВД'},\n  10: {'full': 'гражданско-правовых  дисциплин', 'short': 'ГрПД'},\n  11: {'full': 'государственно-правовых дисциплин', 'short': 'ГПД'},\n  12: {'full': 'информационных технологий в деятельности ОВД',\n   'short': 'ИТ в ДОВД'},\n  13: {'full': 'криминалистики и предварительного расследования в ОВД',\n   'short': 'К и ПР в ОВД'},\n  14: {'full': 'оперативно-разыскной деятельности ОВД', 'short': 'ОРД ОВД'},\n  15: {'full': 'организации деятельности ГИБДД', 'short': 'ОД ГИБДД'},\n  16: {'full': 'социально-гуманитарных дисциплин', 'short': 'СГД'},\n  17: {'full': 'огневой подготовки и деятельности ОВД в особых условиях',\n   'short': 'ОП и ДОВД в ОУ'},\n  18: {'full': 'уголовного права и криминологии ', 'short': 'УП и К'},\n  19: {'full': 'уголовного процесса', 'short': 'УП'},\n  20: {'full': 'физической подготовки и спорта', 'short': 'ФП и С'},\n  21: {'full': 'специальной подготовки', 'short': 'СП'},\n  22: {'full': 'иностранных и русского языков', 'short': 'И и РЯ'}},\n 'Факультеты': {23: {'full': 'Профессиональной подготовки, переподготовки и повышения квалификации',\n   'short': 'ФПППиПК'},\n  24: {'full': 'Заочного обучения', 'short': 'ФЗО'},\n  25: {'full': 'Подготовки специалистов ГИБДД', 'short': 'ФПС ГИБДД'},\n  26: {'full': 'Подготовки следователей', 'short': 'ФПС'},\n  27: {'full': 'Специальный курс по подготовке кадров для зарубежных стран',\n   'short': 'Спец. курс. по ПК для ЗС'},\n  35: {'full': 'Адъюнктура', 'short': 'Адъюнктура'}}}"
     },
     "execution_count": 18,
     "metadata": {},
     "output_type": "execute_result"
    }
   ],
   "source": [
    "staff_departments"
   ],
   "metadata": {
    "collapsed": false,
    "ExecuteTime": {
     "end_time": "2023-12-21T11:39:33.235954600Z",
     "start_time": "2023-12-21T11:39:33.228866700Z"
    }
   },
   "id": "d0779c333bbbca6e"
  }
 ],
 "metadata": {
  "kernelspec": {
   "display_name": "Python 3",
   "language": "python",
   "name": "python3"
  },
  "language_info": {
   "codemirror_mode": {
    "name": "ipython",
    "version": 2
   },
   "file_extension": ".py",
   "mimetype": "text/x-python",
   "name": "python",
   "nbconvert_exporter": "python",
   "pygments_lexer": "ipython2",
   "version": "2.7.6"
  }
 },
 "nbformat": 4,
 "nbformat_minor": 5
}
