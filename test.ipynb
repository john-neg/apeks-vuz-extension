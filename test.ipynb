{
 "cells": [
  {
   "cell_type": "code",
   "execution_count": 3,
   "metadata": {
    "collapsed": true,
    "pycharm": {
     "name": "#%%\n"
    }
   },
   "outputs": [
    {
     "name": "stdout",
     "output_type": "stream",
     "text": [
      "2022-07-05 23:08:02,895 - [DEBUG] - api_get_db_table - Переданы параметры для запроса 'api_get_db_table': к таблице system_reports\n",
      "2022-07-05 23:08:03,096 - [DEBUG] - _send_single_request - HTTP Request: GET https://apeks.orui-mvd.ru/api/call/system-database/get?token=41695bc4-e880-4281-8a68-da88ea5e4696&table=system_reports&filter%5Bid%5D%5B%5D=3030 \"HTTP/1.1 200 OK\"\n",
      "2022-07-05 23:08:03,098 - [DEBUG] - wrapper - api_get_db_table. Запрос успешно выполнен: {'table': 'system_reports', 'filter[id][]': '3030'}\n"
     ]
    }
   ],
   "source": [
    "from common.func.api_get import api_get_db_table\n",
    "\n",
    "# 3030 system_reports\n",
    "\n",
    "data = await api_get_db_table('system_reports', id=3030)"
   ]
  },
  {
   "cell_type": "code",
   "execution_count": 9,
   "outputs": [],
   "source": [
    "settings = data['data'][0].get('settings')"
   ],
   "metadata": {
    "collapsed": false,
    "pycharm": {
     "name": "#%%\n"
    }
   }
  },
  {
   "cell_type": "code",
   "execution_count": 14,
   "outputs": [
    {
     "data": {
      "text/plain": "'a:10:{i:0;a:2:{s:4:\"name\";s:42:\"Настройки по умолчанию\";s:8:\"settings\";a:3:{s:14:\"title_template\";s:4:\"2674\";s:8:\"tem_plan\";s:4:\"2675\";s:18:\"selfWorkTableIndex\";s:0:\"\";}}i:1;a:2:{s:4:\"name\";s:46:\"РП Иностранные слушатели\";s:8:\"settings\";a:3:{s:14:\"title_template\";s:4:\"1796\";s:8:\"tem_plan\";s:4:\"1797\";s:18:\"selfWorkTableIndex\";s:0:\"\";}}i:2;a:2:{s:4:\"name\";s:25:\"РП Адъюнктура\";s:8:\"settings\";a:3:{s:14:\"title_template\";s:4:\"1798\";s:8:\"tem_plan\";s:0:\"\";s:18:\"selfWorkTableIndex\";s:0:\"\";}}i:3;a:2:{s:4:\"name\";s:27:\"РП Бакалавриат\";s:8:\"settings\";a:3:{s:14:\"title_template\";i:2682;s:8:\"tem_plan\";s:4:\"2680\";s:18:\"selfWorkTableIndex\";s:0:\"\";}}i:4;a:2:{s:4:\"name\";s:27:\"РП Специалитет\";s:8:\"settings\";a:3:{s:14:\"title_template\";s:4:\"2676\";s:8:\"tem_plan\";s:0:\"\";s:18:\"selfWorkTableIndex\";s:0:\"\";}}i:5;a:2:{s:4:\"name\";s:11:\"РП СПО\";s:8:\"settings\";a:3:{s:14:\"title_template\";s:0:\"\";s:8:\"tem_plan\";s:0:\"\";s:18:\"selfWorkTableIndex\";s:0:\"\";}}i:6;a:2:{s:4:\"name\";s:6:\"ГИА\";s:8:\"settings\";a:3:{s:14:\"title_template\";s:0:\"\";s:8:\"tem_plan\";s:0:\"\";s:18:\"selfWorkTableIndex\";s:0:\"\";}}i:7;a:2:{s:4:\"name\";s:16:\"Практика\";s:8:\"settings\";a:3:{s:14:\"title_template\";s:0:\"\";s:8:\"tem_plan\";s:0:\"\";s:18:\"selfWorkTableIndex\";s:0:\"\";}}i:8;a:2:{s:4:\"name\";s:37:\"Выгрузка параметров\";s:8:\"settings\";a:3:{s:14:\"title_template\";s:4:\"2677\";s:8:\"tem_plan\";s:0:\"\";s:18:\"selfWorkTableIndex\";s:0:\"\";}}i:9;a:2:{s:4:\"name\";s:6:\"Review\";s:8:\"settings\";a:3:{s:14:\"title_template\";s:4:\"2678\";s:8:\"tem_plan\";s:4:\"2679\";s:18:\"selfWorkTableIndex\";s:0:\"\";}}}'"
     },
     "execution_count": 14,
     "metadata": {},
     "output_type": "execute_result"
    }
   ],
   "source": [
    "settings"
   ],
   "metadata": {
    "collapsed": false,
    "pycharm": {
     "name": "#%%\n"
    }
   }
  },
  {
   "cell_type": "code",
   "execution_count": 12,
   "outputs": [],
   "source": [
    "from phpserialize import loads\n",
    "\n",
    "reports = dict(\n",
    "    loads(settings.encode(), decode_strings=True)\n",
    ")"
   ],
   "metadata": {
    "collapsed": false,
    "pycharm": {
     "name": "#%%\n"
    }
   }
  },
  {
   "cell_type": "code",
   "execution_count": 13,
   "outputs": [
    {
     "data": {
      "text/plain": "{0: {'name': 'Настройки по умолчанию',\n  'settings': {'title_template': '2674',\n   'tem_plan': '2675',\n   'selfWorkTableIndex': ''}},\n 1: {'name': 'РП Иностранные слушатели',\n  'settings': {'title_template': '1796',\n   'tem_plan': '1797',\n   'selfWorkTableIndex': ''}},\n 2: {'name': 'РП Адъюнктура',\n  'settings': {'title_template': '1798',\n   'tem_plan': '',\n   'selfWorkTableIndex': ''}},\n 3: {'name': 'РП Бакалавриат',\n  'settings': {'title_template': 2682,\n   'tem_plan': '2680',\n   'selfWorkTableIndex': ''}},\n 4: {'name': 'РП Специалитет',\n  'settings': {'title_template': '2676',\n   'tem_plan': '',\n   'selfWorkTableIndex': ''}},\n 5: {'name': 'РП СПО',\n  'settings': {'title_template': '',\n   'tem_plan': '',\n   'selfWorkTableIndex': ''}},\n 6: {'name': 'ГИА',\n  'settings': {'title_template': '',\n   'tem_plan': '',\n   'selfWorkTableIndex': ''}},\n 7: {'name': 'Практика',\n  'settings': {'title_template': '',\n   'tem_plan': '',\n   'selfWorkTableIndex': ''}},\n 8: {'name': 'Выгрузка параметров',\n  'settings': {'title_template': '2677',\n   'tem_plan': '',\n   'selfWorkTableIndex': ''}},\n 9: {'name': 'Review',\n  'settings': {'title_template': '2678',\n   'tem_plan': '2679',\n   'selfWorkTableIndex': ''}}}"
     },
     "execution_count": 13,
     "metadata": {},
     "output_type": "execute_result"
    }
   ],
   "source": [
    "reports"
   ],
   "metadata": {
    "collapsed": false,
    "pycharm": {
     "name": "#%%\n"
    }
   }
  }
 ],
 "metadata": {
  "kernelspec": {
   "display_name": "Python 3",
   "language": "python",
   "name": "python3"
  },
  "language_info": {
   "codemirror_mode": {
    "name": "ipython",
    "version": 2
   },
   "file_extension": ".py",
   "mimetype": "text/x-python",
   "name": "python",
   "nbconvert_exporter": "python",
   "pygments_lexer": "ipython2",
   "version": "2.7.6"
  }
 },
 "nbformat": 4,
 "nbformat_minor": 0
}