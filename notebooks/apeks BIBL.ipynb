{
 "cells": [
  {
   "cell_type": "code",
   "execution_count": 18,
   "id": "931dd054-d97e-430b-ab50-9343a705bf17",
   "metadata": {},
   "outputs": [],
   "source": [
    "import pandas as pd\n",
    "import requests\n",
    "from numpy import nan\n",
    "from app.main.func import plan_curriculum_disciplines, db_filter_req\n",
    "\n",
    "df = pd.DataFrame(pd.read_excel('Литература 40.03.01.xlsx'))\n",
    "df[df.columns[1]] = df[df.columns[1]].str.replace('\\t',' ')\n",
    "df[df.columns[2]] = df[df.columns[2]].str.replace('\\t',' ')\n",
    "df[df.columns[3]] = df[df.columns[3]].str.replace('\\t',' ')\n",
    "\n",
    "URL = 'https://avtorvuz.orurinst.site'\n",
    "TOKEN = 'b41dfa22-0a72-477f-9f05-995b8409863a'\n",
    "\n",
    "\n",
    "def load_bibl(work_program_id, field_id, load_data):  # Загрузка Литетратуры field = 1 (осн), 2(доп), 3(науч прод)\n",
    "    payload = {'table': 'mm_work_programs_data',\n",
    "            'filter[work_program_id]': work_program_id,\n",
    "            'filter[field_id]': field_id,\n",
    "            'fields[data]': load_data}\n",
    "    resp = requests.post(URL + '/api/call/system-database/edit?token=' + TOKEN, data=payload)"
   ]
  },
  {
   "cell_type": "code",
   "execution_count": 5,
   "outputs": [],
   "source": [
    "from openpyxl import load_workbook\n",
    "\n",
    "# Загрузка Компетенций из файла\n",
    "\n",
    "wb = load_workbook('Литература 40.03.01.xlsx')\n",
    "ws = wb.active\n",
    "\n",
    "# Normalize Data\n",
    "replace_dict = {\"  \": \" \", \"–\": \"-\", \"\\t\": \"\"}\n",
    "for key, val in replace_dict.items():\n",
    "    for r in range(1, ws.max_row + 1):\n",
    "        for c in range(1, 2):\n",
    "            s = str(ws.cell(r, c).value)\n",
    "            ws.cell(r, c).value = s.replace(key, val)\n",
    "\n",
    "def iter_rows(ws):\n",
    "    for row in ws.iter_rows():\n",
    "        yield [cell.value for cell in row]\n",
    "\n",
    "liblist = list(iter_rows(ws))\n",
    "del liblist[0]\n",
    "lib={}\n",
    "for l in liblist:\n",
    "    lib[l[0]] = [l[1], l[2], l[3]]\n"
   ],
   "metadata": {
    "collapsed": false,
    "pycharm": {
     "name": "#%%\n"
    }
   }
  },
  {
   "cell_type": "code",
   "execution_count": 8,
   "outputs": [
    {
     "data": {
      "text/plain": "['1. Маркушин, А. Г. Основы управления в органах внутренних дел [Электронный ресурс]: учебное пособие / А. Г. Маркушин, В. В. Казаков. – переизд., доп. и перераб. - Н. Новгород: НА МВД России, 2017. – 360 с. – URL: http://www.liborui.ru. – Режим доступа: для авторизир. пользователей\\n2. Организация управления органами внутренних дел [Текст]: учебник / ред.: А. М. Кононов, И. Ю. Захватов. - 2-е изд., перераб. и доп. - М.: ДГСК МВД России, 2017. - 296 с.\\n3. Основы управления в органах внутренних дел [Электронный ресурс]: учебное пособие / Т. М. Занина. - Воронеж: ВИ МВД России, 2018. - 202 с. - URL: http://www.liborui.ru. – Режим доступа: для авторизир. пользователей\\n4. Рублев, А. Г. Основы управления в органах внутренних дел [Электронный ресурс]: учебное пособие / А. Г. Рублев, Б. А. Кудрявцев. - Екатеринбург: УрЮИ МВД России, 2018. - 173 с. – URL: http://www.liborui.ru. – Режим доступа: для авторизир. пользователей \\n',\n '1. Анисина, С. С. Организация планирования в органах внутренних дел Российской Федерации [Электронный ресурс]: учебно-практическое пособие / С. С. Анисина, Э. Г. Юзиханова. - Тюмень: ТИПК МВД России, 2018. - 106 с. – URL: http://www.liborui.ru. – Режим доступа: для авторизир. пользователей\\n2. Бавсун, И. Г. Основы управления в органах внутренних дел [Электронный ресурс]: учебное пособие / И. Г. Бавсун. – Омск: Омская академия МВД России, 2017. – 152 с. – URL: http://www.liborui.ru. – Режим доступа: для авторизир. пользователей\\n3. Власов, Б. Е.  Программно-целевое управление в органах внутренних дел [Электронный ресурс]: учебное пособие / Б. Е. Власов. - М.: АУ МВД России, 2018. - 120 с. – URL: http://www.liborui.ru. – Режим доступа: для авторизир. пользователей\\n4. Михайлов, В. И. Функции руководителя по управлению служебным коллективом [Электронный ресурс]: учебное пособие / В. И. Михайлов, В. А. Колесников, Л. В. Чернышова; ред. А. С. Ханахмедов. - Уфа: УЮИ МВД России, 2018. - 38 с. – URL: http://www.liborui.ru. – Режим доступа: для авторизир. пользователей \\n5. Организация аналитической работы в органах внутренних дел [Электронный ресурс]: учебное пособие / А. Е. Линкевич [и др.]. - Уфа: УЮИ МВД России, 2017. - 78 с. – URL: http://www.liborui.ru. – Режим доступа: для авторизир. пользователей \\n6. Основы управления в органах внутренних дел [Электронный ресурс]: учебное наглядное пособие / А. Н. Осяк, К. А. Корчагина, Т. Н. Шаповалова. - Ростов н/Д: ФГКОУ ВО РЮИ МВД России, 2018. - 48 с. – URL: http://www.liborui.ru. – Режим доступа: для авторизир. пользователей\\n7. Планирование как важнейшая функция управления в ОВД [Электронный ресурс]: учебное пособие / А. Е. Линкевич, В. А. Колесников, В. И. Михайлов; под общ. ред. Ф. Б. Мухаметшина. - Уфа: УЮИ МВД России, 2017. - 50 с. – URL: http://www.liborui.ru. – Режим доступа: для авторизир. пользователей\\n8. Применение современных инфокоммуникационных технологий в управлении деятельностью подразделений органов внутренних дел [Текст]: учебно-практическое пособие / К. М. Бондарь [и др.]. - М.: ДГСК МВД России, 2018. - 192 с. \\n9. Служебное совещание в системе управления правоохранительными органами: учебник для студентов вузов / И. В. Грошев, И. А. Калиниченко, А. А. Краснослободцев [и др.]. - Москва: ЮНИТИ-ДАНА, 2017. - 183 c. - ISBN 978-5-238-02886-6. - Текст: электронный // Электронно-библиотечная система IPR BOOKS: [сайт]. - URL: http://www.iprbookshop.ru/71164.html. - Режим доступа: для авторизир. пользователей\\n10. Сухов, С. Н. Сервисы единой системы информационно-аналитического обеспечения деятельности МВД России [Электронный ресурс]: учебно-практическое пособие / С. Н. Сухов, С. А. Смирнов, А. В. Макаров. - Н. Новгород: НА МВД России, 2017. - 45 с. – URL: http://www.liborui.ru. – Режим доступа: для авторизир. пользователей \\n11. Теоретические основы и практика работы кадровых подразделений органов внутренних дел Российской Федерации по вопросам прохождения службы [Электронный ресурс]: учебно-практическое пособие / В.К. Русаков [и др.]. - М.: АУ МВД России, 2017. – 88 с. – URL: http://www.liborui.ru. – Режим доступа: для авторизир. пользователей\\n',\n None]"
     },
     "execution_count": 8,
     "metadata": {},
     "output_type": "execute_result"
    }
   ],
   "source": [
    "lib['Основы управления в органах внутренних дел']"
   ],
   "metadata": {
    "collapsed": false,
    "pycharm": {
     "name": "#%%\n"
    }
   }
  },
  {
   "cell_type": "code",
   "execution_count": 10,
   "outputs": [],
   "source": [
    "lib = iter_rows(ws)"
   ],
   "metadata": {
    "collapsed": false,
    "pycharm": {
     "name": "#%%\n"
    }
   }
  },
  {
   "cell_type": "code",
   "execution_count": null,
   "outputs": [],
   "source": [],
   "metadata": {
    "collapsed": false,
    "pycharm": {
     "name": "#%%\n"
    }
   }
  },
  {
   "cell_type": "code",
   "execution_count": 14,
   "outputs": [
    {
     "data": {
      "text/plain": "['Философия',\n '1. Мальков, Б. Н. Философия для юристов: учебное пособие для студентов вузов, обучающихся по специальности «Юриспруденция» / Б. Н. Мальков, Г. А. Торгашев. - Москва: ЮНИТИ-ДАНА, 2017. - 447 c. - ISBN 978-5-238-02404-2. - Текст: электронный // Электронно-библиотечная система IPR BOOKS: [сайт]. - URL: http://www.iprbookshop.ru/81582.html. - Режим доступа: для авторизир. пользователей\\n2. Миронов, В. В. Философия [Текст]: учебник / В. В. Миронов. – М.: Проспект, 2016. – 240 с. \\n3. Светлов, В. А. Философия: учебное пособие / В. А. Светлов. - 2-е изд. - Саратов: Ай Пи Эр Медиа, 2019. - 329 c. - ISBN 978-5-4486-0447-8. - Текст: электронный // Электронно-библиотечная система IPR BOOKS: [сайт]. - URL: http://www.iprbookshop.ru/79825.html. - Режим доступа: для авторизир. пользователей\\n',\n '1. Бельский, В. Ю. Философия [Электронный ресурс]: учебник для студентов вузов. Ч. 1 / В. Ю. Бельский, А. Л. Золкин. - М.: МосУ МВД России имени В. Я. Кикотя, 2018. - 325 с. – URL: http://www.liborui.ru. – Режим доступа: для авторизир. пользователей\\n2. Бельский, В. Ю. Философия [Электронный ресурс]: учебник для студентов вузов. Ч. 2 / В. Ю. Бельский, А. Л. Золкин. - М.: МосУ МВД России имени В. Я. Кикотя, 2018. - 311 с. – URL: http://www.liborui.ru. – Режим доступа: для авторизир. пользователей \\n3. Бучило, Н. Ф. Философия: учебное пособие / Н. Ф. Бучило, А. Н. Чумаков. - 3-е изд. - Москва, Саратов: ПЕР СЭ, Ай Пи Эр Медиа, 2019. - 448 c. - ISBN 978-5-4486-0836-0. - Текст: электронный // Электронно-библиотечная система IPR BOOKS: [сайт]. - URL: http://www.iprbookshop.ru/88238.html. - Режим доступа: для авторизир. пользователей\\n4. Вечканов, В. Э. Философия: учебное пособие / В. Э. Вечканов. - 2-е изд. - Саратов: Ай Пи Эр Медиа, 2019. - 210 c. - ISBN 978-5-4486-0446-1. - Текст: электронный // Электронно-библиотечная система IPR BOOKS: [сайт]. - URL: http://www.iprbookshop.ru/79824.html. - Режим доступа: для авторизир. пользователей\\n5. Жданкин, В. А. Философия [Электронный ресурс]: курс лекций / В. А. Жданкин. – Воронеж: ВИ МВД России, 2016. – 78 с. – URL: http://www.liborui.ru. – Режим доступа: для авторизир. пользователей \\n6. Иванова, Е. В. Философия [Электронный ресурс]: учебное пособие / Е. В. Иванова, О. Б. Ионайтис, П. Е. Суслонов. – Екатеринбург: УрЮИ МВД России, 2016. – 138 с. – URL: http://www.liborui.ru. – Режим доступа: для авторизир. пользователей \\n7. Квятковский, Д. О. Философия. Курс для бакалавров: учебное пособие / Д. О. Квятковский. - Москва: Университетская книга, 2016. - 268 c. - ISBN 978-5-98699-201-3. - Текст: электронный // Электронно-библиотечная система IPR BOOKS: [сайт]. - URL: http://www.iprbookshop.ru/66332.html. - Режим доступа: для авторизир. пользователей\\n8. Мельникова, Н. А. Философия: учебное пособие / Н. А. Мельникова, Н. А. Мальшина, В. О. Алексеев. - 2-е изд. - Саратов: Научная книга, 2019. - 159 c. - ISBN 978-5-9758-1817-1. - Текст: электронный // Электронно-библиотечная система IPR BOOKS: [сайт]. - URL: http://www.iprbookshop.ru/81067.html. - Режим доступа: для авторизир. пользователей\\n9. Морозов, А. А. Хрестоматия по учебной дисциплине «Философия» / А. А. Морозов. - Омск: Омская академия МВД России, 2019. - 48 c. - ISBN 978-5-88651-700-2. - Текст: электронный // Электронно-библиотечная система IPR BOOKS: [сайт]. - URL: http://www.iprbookshop.ru/93851.html. - Режим доступа: для авторизир. пользователей\\n10. Основные разделы философского знания для сотрудников органов внутренних дел Российской Федерации [Электронный ресурс]: учебное пособие / под ред. Е.А. Матвиенко. – Волгоград: ВА МВД России, 2017 – 176с. – URL: http://www.liborui.ru. – Режим доступа: для авторизир. пользователей\\n11. Прикладные аспекты философского знания для сотрудников органов внутренних дел Российской Федерации [Электронный ресурс]: учебное пособие / Е. А. Матвиенко [и др.]; под редакцией Е. А. Матвиенко. - Волгоград: ВА МВД России, 2019. - 92 с. – URL: http://www.liborui.ru. – Режим доступа: для авторизир. пользователей\\n12. Философия [Электронный ресурс]: хрестоматия. Ч. 1 / сост. О. С. Мантуров. - Екатеринбург: УрЮИ МВД России, 2017. - 116 с. – URL: http://www.liborui.ru. – Режим доступа: для авторизир. пользователей\\n13. Философия [Электронный ресурс]: хрестоматия. Ч. 2 / сост. О. С. Мантуров. - Екатеринбург: УрЮИ МВД России, 2018. - 128 с. – URL: http://www.liborui.ru. – Режим доступа: для авторизир. пользователей\\n\\n',\n 'Власов В.В. Религиоведение : учебное пособие.  [Электронный ресурс] - Орёл: ОрЮИ МВД России имени В.В. Лукьянова, 2020. – Режим доступа: http://portal.orui.ru.\\nСальников Е.В., Кузьменков В.А., Леонова И.А.  Философия : учебное пособие. [Электронный ресурс] - Орёл: ОрЮИ МВД России имени В.В. Лукьянова, 2020. – Режим доступа: http://portal.orui.ru.']"
     },
     "execution_count": 14,
     "metadata": {},
     "output_type": "execute_result"
    }
   ],
   "source": [
    "next(lib)"
   ],
   "metadata": {
    "collapsed": false,
    "pycharm": {
     "name": "#%%\n"
    }
   }
  },
  {
   "cell_type": "code",
   "execution_count": 10,
   "id": "5d6f0310-4f28-4adb-9467-d38d53bc7472",
   "metadata": {
    "tags": []
   },
   "outputs": [
    {
     "data": {
      "text/plain": [
       "'Основная литература'"
      ]
     },
     "execution_count": 10,
     "metadata": {},
     "output_type": "execute_result"
    }
   ],
   "source": [
    "df.columns[2]"
   ]
  },
  {
   "cell_type": "code",
   "execution_count": 19,
   "id": "b0a0f92b-7c33-4a5c-8302-cb8bc3aa1d2d",
   "metadata": {
    "collapsed": true,
    "jupyter": {
     "outputs_hidden": true
    },
    "tags": []
   },
   "outputs": [
    {
     "data": {
      "text/plain": "{'10463': ['Б.1.О.34',\n  'Делопроизводство и режим секретности в органах внутренних дел'],\n '10464': ['Б.1.О.35', 'Основы управления в органах внутренних дел'],\n '10465': ['Б.1.В.ЭД.3.02',\n  'Обеспечение прав человека в деятельности органов внутренних дел'],\n '10466': ['Б.1.О.25', 'Криминология'],\n '10550': ['Б.1.О.38', 'Административная деятельность полиции']}"
     },
     "execution_count": 19,
     "metadata": {},
     "output_type": "execute_result"
    }
   ],
   "source": [
    "plan_curriculum_disciplines(133)"
   ]
  },
  {
   "cell_type": "code",
   "execution_count": 25,
   "outputs": [
    {
     "name": "stdout",
     "output_type": "stream",
     "text": [
      "Не создана рабочая программа\n",
      "{'3787': 'УП Учебная практика', '3788': 'ПП Производственная практика'}\n",
      "-\n",
      "Список программ\n",
      "{'2998': 'Философия', '1564': 'История государства и права России', '1594': 'История государства и права зарубежных стран', '1277': 'Иностранный язык', '1413': 'Иностранный язык в сфере юриспруденции', '2960': 'Безопасность жизнедеятельности', '1601': 'Теория государства и права', '1710': 'Конституционное право', '2017': 'Административное право', '2984': 'Гражданское право', '3012': 'Гражданский процесс', '3003': 'Арбитражный процесс', '2982': 'Трудовое право', '3005': 'Уголовное право', '3018': 'Уголовный процесс', '2981': 'Экологическое право', '2983': 'Земельное право', '2987': 'Финансовое право', '2989': 'Налоговое право', '2986': 'Предпринимательское право', '3022': 'Международное право', '2979': 'Международное частное право', '3008': 'Криминалистика', '3004': 'Криминология', '2991': 'Право социального обеспечения', '2978': 'Семейное право', '1036': 'Информационные технологии в юридической деятельности', '1627': 'Правоохранительные органы', '3015': 'Административно-процессуальное право', '3002': 'Уголовно-исполнительное право', '1929': 'Экономика', '3025': 'Социология', '1388': 'Профессиональная этика и служебный этикет', '3000': 'Психология', '1357': 'Русский язык в деловой документации', '1395': 'Риторика', '2937': 'Физическая культура и спорт', '2990': 'Административная деятельность полиции', '2880': 'Основы оперативно-розыскной деятельности органов внутренних дел', '3014': 'Практикум по административной юрисдикции органов внутренних дел', '3010': 'Социально-психологический тренинг профессионального общения', '2992': 'Организация деятельности участкового уполномоченного полиции', '3013': 'Психология в деятельности сотрудников органов внутренних дел', '3016': 'Судебная медицина и судебная психиатрия', '2494': 'Основы управления в органах внутренних дел', '3023': 'Обеспечение прав человека в деятельности органов внутренних дел', '2895': 'Специальная техника органов внутренних дел', '1556': 'Делопроизводство и режим секретности', '2963': 'Тактико-специальная подготовка', '1773': 'Первая помощь', '3017': 'Предупреждение преступлений и административных правонарушений органами внутренних дел', '2031': 'Государственная служба в органах внутренних дел', '1575': 'История органов внутренних дел', '1049': 'Основы кибербезопасности', '3020': 'Актуальные проблемы административного права и административной деятельности полиции', '3011': 'Подготовка к сдаче и сдача государственного экзамена по административной  деятельности полиции и организации деятельности участкового уполномоченного полиции', '2666': 'Прокурорский надзор', '2995': 'Дознание в органах внутренних дел', '1412': 'Практикум по особенностям квалификации отдельных видов преступлений', '3009': 'Практикум по работе со следами преступлений', '2993': 'Правовая статистика', '2906': 'Основы информационной безопасности органов внутренних дел', '3019': 'Государственно-правовые основы миграции и миграционных процессов', '1449': 'Предупреждение коррупции в органах внутренних дел и формирование антикоррупционного поведения сотрудников и работников органов внутренних дел', '2997': 'Взаимодействие сотрудника полиции с лицами с ограниченными возможностями здоровья в социальной и профессиональной сферах', '2985': 'Огневая подготовка', '3094': 'Личная безопасность сотрудников органов внутренних дел'}\n"
     ]
    }
   ],
   "source": [
    "# Получение Id и названий рабочих программ\n",
    "disciplines = plan_curriculum_disciplines(41)\n",
    "workprogram = {}\n",
    "not_exist = {}\n",
    "for disc in disciplines:\n",
    "    response = db_filter_req('mm_work_programs', 'curriculum_discipline_id', disc)\n",
    "    if response:\n",
    "        wp_id = response[0]['id']\n",
    "        wp_name = response[0]['name']\n",
    "        workprogram[wp_id]=wp_name\n",
    "    else:\n",
    "        not_exist[disc] = \" \".join(disciplines[str(disc)])\n",
    "\n",
    "print('Не создана рабочая программа')\n",
    "print(not_exist)\n",
    "print('-')\n",
    "print('Список программ')\n",
    "print(workprogram)"
   ],
   "metadata": {
    "collapsed": false,
    "pycharm": {
     "name": "#%%\n"
    }
   }
  },
  {
   "cell_type": "code",
   "execution_count": 27,
   "outputs": [
    {
     "data": {
      "text/plain": "[{'id': '3564',\n  'education_plan_id': '41',\n  'code': 'Б.1',\n  'discipline_id': '2',\n  'credit_unit_value': None,\n  'hours': '8140',\n  'semesters': None,\n  'control_type_id': None,\n  'level': '1',\n  'type': None,\n  'department_id': None,\n  'left_node': '1',\n  'right_node': '146',\n  'settings': None},\n {'id': '3565',\n  'education_plan_id': '41',\n  'code': 'Б.1.Б',\n  'discipline_id': '328',\n  'credit_unit_value': None,\n  'hours': '5436',\n  'semesters': None,\n  'control_type_id': None,\n  'level': '2',\n  'type': None,\n  'department_id': None,\n  'left_node': '2',\n  'right_node': '77',\n  'settings': None},\n {'id': '3627',\n  'education_plan_id': '41',\n  'code': 'Б.2',\n  'discipline_id': '333',\n  'credit_unit_value': None,\n  'hours': '612',\n  'semesters': None,\n  'control_type_id': None,\n  'level': '1',\n  'type': '1',\n  'department_id': None,\n  'left_node': '147',\n  'right_node': '152',\n  'settings': None},\n {'id': '3630',\n  'education_plan_id': '41',\n  'code': 'Б.3',\n  'discipline_id': '95',\n  'credit_unit_value': None,\n  'hours': '216',\n  'semesters': None,\n  'control_type_id': None,\n  'level': '1',\n  'type': '4',\n  'department_id': None,\n  'left_node': '153',\n  'right_node': '156',\n  'settings': None},\n {'id': '3725',\n  'education_plan_id': '41',\n  'code': 'Б.1.О.1',\n  'discipline_id': '5',\n  'credit_unit_value': None,\n  'hours': None,\n  'semesters': None,\n  'control_type_id': None,\n  'level': '3',\n  'type': None,\n  'department_id': '16',\n  'left_node': '3',\n  'right_node': '4',\n  'settings': None},\n {'id': '3726',\n  'education_plan_id': '41',\n  'code': 'Б.1.О.2',\n  'discipline_id': '17',\n  'credit_unit_value': None,\n  'hours': None,\n  'semesters': None,\n  'control_type_id': None,\n  'level': '3',\n  'type': None,\n  'department_id': '11',\n  'left_node': '5',\n  'right_node': '6',\n  'settings': None},\n {'id': '3727',\n  'education_plan_id': '41',\n  'code': 'Б.1.О.3',\n  'discipline_id': '18',\n  'credit_unit_value': None,\n  'hours': None,\n  'semesters': None,\n  'control_type_id': None,\n  'level': '3',\n  'type': None,\n  'department_id': '11',\n  'left_node': '7',\n  'right_node': '8',\n  'settings': None},\n {'id': '3728',\n  'education_plan_id': '41',\n  'code': 'Б.1.О.4',\n  'discipline_id': '4',\n  'credit_unit_value': None,\n  'hours': None,\n  'semesters': None,\n  'control_type_id': None,\n  'level': '3',\n  'type': None,\n  'department_id': '22',\n  'left_node': '9',\n  'right_node': '10',\n  'settings': None},\n {'id': '3729',\n  'education_plan_id': '41',\n  'code': 'Б.1.О.5',\n  'discipline_id': '173',\n  'credit_unit_value': None,\n  'hours': None,\n  'semesters': None,\n  'control_type_id': None,\n  'level': '3',\n  'type': None,\n  'department_id': '22',\n  'left_node': '11',\n  'right_node': '12',\n  'settings': None},\n {'id': '3730',\n  'education_plan_id': '41',\n  'code': 'Б.1.О.6',\n  'discipline_id': '177',\n  'credit_unit_value': None,\n  'hours': None,\n  'semesters': None,\n  'control_type_id': None,\n  'level': '3',\n  'type': None,\n  'department_id': '17',\n  'left_node': '13',\n  'right_node': '14',\n  'settings': None},\n {'id': '3731',\n  'education_plan_id': '41',\n  'code': 'Б.1.О.7',\n  'discipline_id': '16',\n  'credit_unit_value': None,\n  'hours': None,\n  'semesters': None,\n  'control_type_id': None,\n  'level': '3',\n  'type': None,\n  'department_id': '11',\n  'left_node': '15',\n  'right_node': '16',\n  'settings': None},\n {'id': '3732',\n  'education_plan_id': '41',\n  'code': 'Б.1.О.8',\n  'discipline_id': '174',\n  'credit_unit_value': None,\n  'hours': None,\n  'semesters': None,\n  'control_type_id': None,\n  'level': '3',\n  'type': None,\n  'department_id': '11',\n  'left_node': '17',\n  'right_node': '18',\n  'settings': None},\n {'id': '3733',\n  'education_plan_id': '41',\n  'code': 'Б.1.О.9',\n  'discipline_id': '20',\n  'credit_unit_value': None,\n  'hours': None,\n  'semesters': None,\n  'control_type_id': None,\n  'level': '3',\n  'type': None,\n  'department_id': '9',\n  'left_node': '19',\n  'right_node': '20',\n  'settings': None},\n {'id': '3734',\n  'education_plan_id': '41',\n  'code': 'Б.1.О.10',\n  'discipline_id': '22',\n  'credit_unit_value': None,\n  'hours': None,\n  'semesters': None,\n  'control_type_id': None,\n  'level': '3',\n  'type': None,\n  'department_id': '10',\n  'left_node': '21',\n  'right_node': '22',\n  'settings': None},\n {'id': '3735',\n  'education_plan_id': '41',\n  'code': 'Б.1.О.11',\n  'discipline_id': '178',\n  'credit_unit_value': None,\n  'hours': None,\n  'semesters': None,\n  'control_type_id': None,\n  'level': '3',\n  'type': None,\n  'department_id': '10',\n  'left_node': '23',\n  'right_node': '24',\n  'settings': None},\n {'id': '3736',\n  'education_plan_id': '41',\n  'code': 'Б.1.О.12',\n  'discipline_id': '180',\n  'credit_unit_value': None,\n  'hours': None,\n  'semesters': None,\n  'control_type_id': None,\n  'level': '3',\n  'type': None,\n  'department_id': '10',\n  'left_node': '25',\n  'right_node': '26',\n  'settings': None},\n {'id': '3737',\n  'education_plan_id': '41',\n  'code': 'Б.1О.13',\n  'discipline_id': '161',\n  'credit_unit_value': None,\n  'hours': None,\n  'semesters': None,\n  'control_type_id': None,\n  'level': '3',\n  'type': None,\n  'department_id': '10',\n  'left_node': '27',\n  'right_node': '28',\n  'settings': None},\n {'id': '3738',\n  'education_plan_id': '41',\n  'code': 'Б.1О.14',\n  'discipline_id': '27',\n  'credit_unit_value': None,\n  'hours': None,\n  'semesters': None,\n  'control_type_id': None,\n  'level': '3',\n  'type': None,\n  'department_id': '18',\n  'left_node': '29',\n  'right_node': '30',\n  'settings': None},\n {'id': '3739',\n  'education_plan_id': '41',\n  'code': 'Б.1.О.15',\n  'discipline_id': '176',\n  'credit_unit_value': None,\n  'hours': None,\n  'semesters': None,\n  'control_type_id': None,\n  'level': '3',\n  'type': None,\n  'department_id': '19',\n  'left_node': '31',\n  'right_node': '32',\n  'settings': None},\n {'id': '3740',\n  'education_plan_id': '41',\n  'code': 'Б.1.О.16',\n  'discipline_id': '24',\n  'credit_unit_value': None,\n  'hours': None,\n  'semesters': None,\n  'control_type_id': None,\n  'level': '3',\n  'type': None,\n  'department_id': '10',\n  'left_node': '33',\n  'right_node': '34',\n  'settings': None},\n {'id': '3741',\n  'education_plan_id': '41',\n  'code': 'Б.1.О.17',\n  'discipline_id': '152',\n  'credit_unit_value': None,\n  'hours': None,\n  'semesters': None,\n  'control_type_id': None,\n  'level': '3',\n  'type': None,\n  'department_id': '10',\n  'left_node': '35',\n  'right_node': '36',\n  'settings': None},\n {'id': '3742',\n  'education_plan_id': '41',\n  'code': 'Б.1.О.18',\n  'discipline_id': '116',\n  'credit_unit_value': None,\n  'hours': None,\n  'semesters': None,\n  'control_type_id': None,\n  'level': '3',\n  'type': None,\n  'department_id': '10',\n  'left_node': '37',\n  'right_node': '38',\n  'settings': None},\n {'id': '3743',\n  'education_plan_id': '41',\n  'code': 'Б.1.О.19',\n  'discipline_id': '25',\n  'credit_unit_value': None,\n  'hours': None,\n  'semesters': None,\n  'control_type_id': None,\n  'level': '3',\n  'type': None,\n  'department_id': '10',\n  'left_node': '39',\n  'right_node': '40',\n  'settings': None},\n {'id': '3744',\n  'education_plan_id': '41',\n  'code': 'Б.1.О.20',\n  'discipline_id': '112',\n  'credit_unit_value': None,\n  'hours': None,\n  'semesters': None,\n  'control_type_id': None,\n  'level': '3',\n  'type': None,\n  'department_id': '10',\n  'left_node': '41',\n  'right_node': '42',\n  'settings': None},\n {'id': '3745',\n  'education_plan_id': '41',\n  'code': 'Б.1.О.21',\n  'discipline_id': '26',\n  'credit_unit_value': None,\n  'hours': None,\n  'semesters': None,\n  'control_type_id': None,\n  'level': '3',\n  'type': None,\n  'department_id': '11',\n  'left_node': '43',\n  'right_node': '44',\n  'settings': None},\n {'id': '3746',\n  'education_plan_id': '41',\n  'code': 'Б.1.О.22',\n  'discipline_id': '168',\n  'credit_unit_value': None,\n  'hours': None,\n  'semesters': None,\n  'control_type_id': None,\n  'level': '3',\n  'type': None,\n  'department_id': '10',\n  'left_node': '45',\n  'right_node': '46',\n  'settings': None},\n {'id': '3747',\n  'education_plan_id': '41',\n  'code': 'Б.1.О.23',\n  'discipline_id': '30',\n  'credit_unit_value': None,\n  'hours': None,\n  'semesters': None,\n  'control_type_id': None,\n  'level': '3',\n  'type': None,\n  'department_id': '13',\n  'left_node': '47',\n  'right_node': '48',\n  'settings': None},\n {'id': '3748',\n  'education_plan_id': '41',\n  'code': 'Б.1.О.24',\n  'discipline_id': '31',\n  'credit_unit_value': None,\n  'hours': None,\n  'semesters': None,\n  'control_type_id': None,\n  'level': '3',\n  'type': None,\n  'department_id': '18',\n  'left_node': '49',\n  'right_node': '50',\n  'settings': None},\n {'id': '3749',\n  'education_plan_id': '41',\n  'code': 'Б.1.О.25',\n  'discipline_id': '179',\n  'credit_unit_value': None,\n  'hours': None,\n  'semesters': None,\n  'control_type_id': None,\n  'level': '3',\n  'type': None,\n  'department_id': '10',\n  'left_node': '51',\n  'right_node': '52',\n  'settings': None},\n {'id': '3750',\n  'education_plan_id': '41',\n  'code': 'Б.1.О.26',\n  'discipline_id': '81',\n  'credit_unit_value': None,\n  'hours': None,\n  'semesters': None,\n  'control_type_id': None,\n  'level': '3',\n  'type': None,\n  'department_id': '10',\n  'left_node': '53',\n  'right_node': '54',\n  'settings': None},\n {'id': '3751',\n  'education_plan_id': '41',\n  'code': 'Б.1.О.27',\n  'discipline_id': '182',\n  'credit_unit_value': None,\n  'hours': None,\n  'semesters': None,\n  'control_type_id': None,\n  'level': '3',\n  'type': None,\n  'department_id': '12',\n  'left_node': '55',\n  'right_node': '56',\n  'settings': None},\n {'id': '3752',\n  'education_plan_id': '41',\n  'code': 'Б.1.О.28',\n  'discipline_id': '32',\n  'credit_unit_value': None,\n  'hours': None,\n  'semesters': None,\n  'control_type_id': None,\n  'level': '3',\n  'type': None,\n  'department_id': '19',\n  'left_node': '57',\n  'right_node': '58',\n  'settings': None},\n {'id': '3753',\n  'education_plan_id': '41',\n  'code': 'Б.1.О.29',\n  'discipline_id': '62',\n  'credit_unit_value': None,\n  'hours': None,\n  'semesters': None,\n  'control_type_id': None,\n  'level': '3',\n  'type': None,\n  'department_id': '9',\n  'left_node': '59',\n  'right_node': '60',\n  'settings': None},\n {'id': '3754',\n  'education_plan_id': '41',\n  'code': 'Б.1.О.30',\n  'discipline_id': '29',\n  'credit_unit_value': None,\n  'hours': None,\n  'semesters': None,\n  'control_type_id': None,\n  'level': '3',\n  'type': None,\n  'department_id': '18',\n  'left_node': '61',\n  'right_node': '62',\n  'settings': None},\n {'id': '3755',\n  'education_plan_id': '41',\n  'code': 'Б.1.О.31',\n  'discipline_id': '7',\n  'credit_unit_value': None,\n  'hours': None,\n  'semesters': None,\n  'control_type_id': None,\n  'level': '3',\n  'type': None,\n  'department_id': '10',\n  'left_node': '63',\n  'right_node': '64',\n  'settings': None},\n {'id': '3756',\n  'education_plan_id': '41',\n  'code': 'Б.1.О.32',\n  'discipline_id': '9',\n  'credit_unit_value': None,\n  'hours': None,\n  'semesters': None,\n  'control_type_id': None,\n  'level': '3',\n  'type': None,\n  'department_id': '16',\n  'left_node': '65',\n  'right_node': '66',\n  'settings': None},\n {'id': '3757',\n  'education_plan_id': '41',\n  'code': 'Б.1.О.33',\n  'discipline_id': '13',\n  'credit_unit_value': None,\n  'hours': None,\n  'semesters': None,\n  'control_type_id': None,\n  'level': '3',\n  'type': None,\n  'department_id': '16',\n  'left_node': '67',\n  'right_node': '68',\n  'settings': None},\n {'id': '3758',\n  'education_plan_id': '41',\n  'code': 'Б.1.О.34',\n  'discipline_id': '12',\n  'credit_unit_value': None,\n  'hours': None,\n  'semesters': None,\n  'control_type_id': None,\n  'level': '3',\n  'type': None,\n  'department_id': '18',\n  'left_node': '69',\n  'right_node': '70',\n  'settings': None},\n {'id': '3759',\n  'education_plan_id': '41',\n  'code': 'Б.1.О.35',\n  'discipline_id': '10',\n  'credit_unit_value': None,\n  'hours': None,\n  'semesters': None,\n  'control_type_id': None,\n  'level': '3',\n  'type': None,\n  'department_id': '22',\n  'left_node': '71',\n  'right_node': '72',\n  'settings': None},\n {'id': '3760',\n  'education_plan_id': '41',\n  'code': 'Б.1.О.36',\n  'discipline_id': '11',\n  'credit_unit_value': None,\n  'hours': None,\n  'semesters': None,\n  'control_type_id': None,\n  'level': '3',\n  'type': None,\n  'department_id': '22',\n  'left_node': '73',\n  'right_node': '74',\n  'settings': None},\n {'id': '3761',\n  'education_plan_id': '41',\n  'code': 'Б.1.О.37',\n  'discipline_id': '336',\n  'credit_unit_value': None,\n  'hours': None,\n  'semesters': None,\n  'control_type_id': None,\n  'level': '3',\n  'type': None,\n  'department_id': '20',\n  'left_node': '75',\n  'right_node': '76',\n  'settings': None},\n {'id': '3762',\n  'education_plan_id': '41',\n  'code': 'Б.1.В',\n  'discipline_id': '330',\n  'credit_unit_value': None,\n  'hours': None,\n  'semesters': None,\n  'control_type_id': None,\n  'level': '2',\n  'type': None,\n  'department_id': None,\n  'left_node': '78',\n  'right_node': '119',\n  'settings': None},\n {'id': '3763',\n  'education_plan_id': '41',\n  'code': 'Б.1.В.1',\n  'discipline_id': '50',\n  'credit_unit_value': None,\n  'hours': None,\n  'semesters': None,\n  'control_type_id': None,\n  'level': '3',\n  'type': None,\n  'department_id': '9',\n  'left_node': '79',\n  'right_node': '80',\n  'settings': None},\n {'id': '3764',\n  'education_plan_id': '41',\n  'code': 'Б.1.В.2',\n  'discipline_id': '51',\n  'credit_unit_value': None,\n  'hours': None,\n  'semesters': None,\n  'control_type_id': None,\n  'level': '3',\n  'type': None,\n  'department_id': '14',\n  'left_node': '81',\n  'right_node': '82',\n  'settings': None},\n {'id': '3765',\n  'education_plan_id': '41',\n  'code': 'Б.1.В.3',\n  'discipline_id': '52',\n  'credit_unit_value': None,\n  'hours': None,\n  'semesters': None,\n  'control_type_id': None,\n  'level': '3',\n  'type': None,\n  'department_id': '9',\n  'left_node': '83',\n  'right_node': '84',\n  'settings': None},\n {'id': '3766',\n  'education_plan_id': '41',\n  'code': 'Б.1.В.4',\n  'discipline_id': '53',\n  'credit_unit_value': None,\n  'hours': None,\n  'semesters': None,\n  'control_type_id': None,\n  'level': '3',\n  'type': None,\n  'department_id': '18',\n  'left_node': '85',\n  'right_node': '86',\n  'settings': None},\n {'id': '3767',\n  'education_plan_id': '41',\n  'code': 'Б.1.В.5',\n  'discipline_id': '184',\n  'credit_unit_value': None,\n  'hours': None,\n  'semesters': None,\n  'control_type_id': None,\n  'level': '3',\n  'type': None,\n  'department_id': '9',\n  'left_node': '87',\n  'right_node': '88',\n  'settings': None},\n {'id': '3768',\n  'education_plan_id': '41',\n  'code': 'Б.1.В.6',\n  'discipline_id': '83',\n  'credit_unit_value': None,\n  'hours': None,\n  'semesters': None,\n  'control_type_id': None,\n  'level': '3',\n  'type': None,\n  'department_id': '18',\n  'left_node': '89',\n  'right_node': '90',\n  'settings': None},\n {'id': '3769',\n  'education_plan_id': '41',\n  'code': 'Б.1.В.7',\n  'discipline_id': '37',\n  'credit_unit_value': None,\n  'hours': None,\n  'semesters': None,\n  'control_type_id': None,\n  'level': '3',\n  'type': None,\n  'department_id': '19',\n  'left_node': '91',\n  'right_node': '92',\n  'settings': None},\n {'id': '3770',\n  'education_plan_id': '41',\n  'code': 'Б.1.В.8',\n  'discipline_id': '33',\n  'credit_unit_value': None,\n  'hours': None,\n  'semesters': None,\n  'control_type_id': None,\n  'level': '3',\n  'type': None,\n  'department_id': '12',\n  'left_node': '93',\n  'right_node': '94',\n  'settings': None},\n {'id': '3771',\n  'education_plan_id': '41',\n  'code': 'Б.1.В.9',\n  'discipline_id': '134',\n  'credit_unit_value': None,\n  'hours': None,\n  'semesters': None,\n  'control_type_id': None,\n  'level': '3',\n  'type': None,\n  'department_id': '11',\n  'left_node': '95',\n  'right_node': '96',\n  'settings': None},\n {'id': '3772',\n  'education_plan_id': '41',\n  'code': 'Б.1.В.10',\n  'discipline_id': '183',\n  'credit_unit_value': None,\n  'hours': None,\n  'semesters': None,\n  'control_type_id': None,\n  'level': '3',\n  'type': None,\n  'department_id': '14',\n  'left_node': '97',\n  'right_node': '98',\n  'settings': None},\n {'id': '3773',\n  'education_plan_id': '41',\n  'code': 'Б.1.В.11',\n  'discipline_id': '218',\n  'credit_unit_value': None,\n  'hours': None,\n  'semesters': None,\n  'control_type_id': None,\n  'level': '3',\n  'type': None,\n  'department_id': '14',\n  'left_node': '99',\n  'right_node': '100',\n  'settings': None},\n {'id': '3774',\n  'education_plan_id': '41',\n  'code': 'Б.1.В.13',\n  'discipline_id': '39',\n  'credit_unit_value': None,\n  'hours': None,\n  'semesters': None,\n  'control_type_id': None,\n  'level': '3',\n  'type': None,\n  'department_id': '17',\n  'left_node': '103',\n  'right_node': '104',\n  'settings': None},\n {'id': '3775',\n  'education_plan_id': '41',\n  'code': 'Б.1.В.16',\n  'discipline_id': '42',\n  'credit_unit_value': None,\n  'hours': None,\n  'semesters': None,\n  'control_type_id': None,\n  'level': '3',\n  'type': None,\n  'department_id': '21',\n  'left_node': '109',\n  'right_node': '110',\n  'settings': None},\n {'id': '3776',\n  'education_plan_id': '41',\n  'code': 'Б.1.В.17',\n  'discipline_id': '111',\n  'credit_unit_value': None,\n  'hours': None,\n  'semesters': None,\n  'control_type_id': None,\n  'level': '3',\n  'type': None,\n  'department_id': '18',\n  'left_node': '111',\n  'right_node': '112',\n  'settings': None},\n {'id': '3777',\n  'education_plan_id': '41',\n  'code': 'Б.1.В.18',\n  'discipline_id': '63',\n  'credit_unit_value': None,\n  'hours': None,\n  'semesters': None,\n  'control_type_id': None,\n  'level': '3',\n  'type': None,\n  'department_id': '9',\n  'left_node': '113',\n  'right_node': '114',\n  'settings': None},\n {'id': '3778',\n  'education_plan_id': '41',\n  'code': 'Б.1.В.19',\n  'discipline_id': '36',\n  'credit_unit_value': None,\n  'hours': None,\n  'semesters': None,\n  'control_type_id': None,\n  'level': '3',\n  'type': None,\n  'department_id': '11',\n  'left_node': '115',\n  'right_node': '116',\n  'settings': None},\n {'id': '3779',\n  'education_plan_id': '41',\n  'code': 'Б.1.В.20',\n  'discipline_id': '331',\n  'credit_unit_value': None,\n  'hours': None,\n  'semesters': None,\n  'control_type_id': None,\n  'level': '3',\n  'type': None,\n  'department_id': '12',\n  'left_node': '117',\n  'right_node': '118',\n  'settings': None},\n {'id': '3787',\n  'education_plan_id': '41',\n  'code': 'УП',\n  'discipline_id': '93',\n  'credit_unit_value': None,\n  'hours': None,\n  'semesters': None,\n  'control_type_id': None,\n  'level': '3',\n  'type': '1',\n  'department_id': '9',\n  'left_node': '148',\n  'right_node': '149',\n  'settings': None},\n {'id': '3788',\n  'education_plan_id': '41',\n  'code': 'ПП',\n  'discipline_id': '197',\n  'credit_unit_value': None,\n  'hours': None,\n  'semesters': None,\n  'control_type_id': None,\n  'level': '3',\n  'type': '1',\n  'department_id': '9',\n  'left_node': '150',\n  'right_node': '151',\n  'settings': None},\n {'id': '3885',\n  'education_plan_id': '41',\n  'code': 'ФТД',\n  'discipline_id': '306',\n  'credit_unit_value': None,\n  'hours': None,\n  'semesters': None,\n  'control_type_id': None,\n  'level': '1',\n  'type': None,\n  'department_id': None,\n  'left_node': '157',\n  'right_node': '160',\n  'settings': None},\n {'id': '3886',\n  'education_plan_id': '41',\n  'code': 'ФТД1',\n  'discipline_id': '231',\n  'credit_unit_value': None,\n  'hours': None,\n  'semesters': None,\n  'control_type_id': None,\n  'level': '3',\n  'type': None,\n  'department_id': '9',\n  'left_node': '158',\n  'right_node': '159',\n  'settings': None},\n {'id': '4192',\n  'education_plan_id': '41',\n  'code': 'Б.3.1',\n  'discipline_id': '200',\n  'credit_unit_value': None,\n  'hours': None,\n  'semesters': None,\n  'control_type_id': None,\n  'level': '3',\n  'type': None,\n  'department_id': '9',\n  'left_node': '154',\n  'right_node': '155',\n  'settings': None},\n {'id': '4500',\n  'education_plan_id': '41',\n  'code': 'Б.1В.ЭД',\n  'discipline_id': '332',\n  'credit_unit_value': None,\n  'hours': None,\n  'semesters': None,\n  'control_type_id': None,\n  'level': '2',\n  'type': None,\n  'department_id': None,\n  'left_node': '120',\n  'right_node': '121',\n  'settings': None},\n {'id': '4503',\n  'education_plan_id': '41',\n  'code': 'Б.1В.ЭД.2',\n  'discipline_id': '302',\n  'credit_unit_value': None,\n  'hours': None,\n  'semesters': None,\n  'control_type_id': None,\n  'level': '2',\n  'type': '8',\n  'department_id': None,\n  'left_node': '128',\n  'right_node': '133',\n  'settings': None},\n {'id': '4504',\n  'education_plan_id': '41',\n  'code': 'Б.1В.ЭД.2.1',\n  'discipline_id': '84',\n  'credit_unit_value': None,\n  'hours': None,\n  'semesters': None,\n  'control_type_id': None,\n  'level': '3',\n  'type': None,\n  'department_id': '19',\n  'left_node': '129',\n  'right_node': '130',\n  'settings': None},\n {'id': '4505',\n  'education_plan_id': '41',\n  'code': 'Б.1В.ЭД.2.2',\n  'discipline_id': '64',\n  'credit_unit_value': None,\n  'hours': None,\n  'semesters': None,\n  'control_type_id': None,\n  'level': '3',\n  'type': None,\n  'department_id': '13',\n  'left_node': '131',\n  'right_node': '132',\n  'settings': None},\n {'id': '4506',\n  'education_plan_id': '41',\n  'code': 'Б.1В.ЭД.3',\n  'discipline_id': '302',\n  'credit_unit_value': None,\n  'hours': None,\n  'semesters': None,\n  'control_type_id': None,\n  'level': '2',\n  'type': '8',\n  'department_id': None,\n  'left_node': '134',\n  'right_node': '139',\n  'settings': None},\n {'id': '4507',\n  'education_plan_id': '41',\n  'code': 'Б.1В.ЭД.3.1',\n  'discipline_id': '140',\n  'credit_unit_value': None,\n  'hours': None,\n  'semesters': None,\n  'control_type_id': None,\n  'level': '3',\n  'type': None,\n  'department_id': '18',\n  'left_node': '135',\n  'right_node': '136',\n  'settings': None},\n {'id': '4508',\n  'education_plan_id': '41',\n  'code': 'Б.1В.ЭД.3.2',\n  'discipline_id': '157',\n  'credit_unit_value': None,\n  'hours': None,\n  'semesters': None,\n  'control_type_id': None,\n  'level': '3',\n  'type': None,\n  'department_id': '13',\n  'left_node': '137',\n  'right_node': '138',\n  'settings': None},\n {'id': '4509',\n  'education_plan_id': '41',\n  'code': 'Б.1В.ЭД.1',\n  'discipline_id': '302',\n  'credit_unit_value': None,\n  'hours': None,\n  'semesters': None,\n  'control_type_id': None,\n  'level': '2',\n  'type': '8',\n  'department_id': None,\n  'left_node': '122',\n  'right_node': '127',\n  'settings': None},\n {'id': '4513',\n  'education_plan_id': '41',\n  'code': 'Б.1.В.ЭД.1.1',\n  'discipline_id': '71',\n  'credit_unit_value': None,\n  'hours': None,\n  'semesters': None,\n  'control_type_id': None,\n  'level': '3',\n  'type': None,\n  'department_id': '12',\n  'left_node': '123',\n  'right_node': '124',\n  'settings': None},\n {'id': '4514',\n  'education_plan_id': '41',\n  'code': 'Б.1.В.ЭД.1.2',\n  'discipline_id': '324',\n  'credit_unit_value': None,\n  'hours': None,\n  'semesters': None,\n  'control_type_id': None,\n  'level': '3',\n  'type': None,\n  'department_id': '12',\n  'left_node': '125',\n  'right_node': '126',\n  'settings': '\"{\\\\\"practiceHoursType\\\\\":\\\\\"1\\\\\"}\"'},\n {'id': '4515',\n  'education_plan_id': '41',\n  'code': 'Б.1В.ЭД.4',\n  'discipline_id': '302',\n  'credit_unit_value': None,\n  'hours': None,\n  'semesters': None,\n  'control_type_id': None,\n  'level': '2',\n  'type': '8',\n  'department_id': None,\n  'left_node': '140',\n  'right_node': '145',\n  'settings': None},\n {'id': '4516',\n  'education_plan_id': '41',\n  'code': 'Б.1В.ЭД.4.1',\n  'discipline_id': '337',\n  'credit_unit_value': None,\n  'hours': None,\n  'semesters': None,\n  'control_type_id': None,\n  'level': '3',\n  'type': None,\n  'department_id': '9',\n  'left_node': '141',\n  'right_node': '142',\n  'settings': None},\n {'id': '4517',\n  'education_plan_id': '41',\n  'code': 'Б.1В.ЭД.4.2',\n  'discipline_id': '272',\n  'credit_unit_value': None,\n  'hours': None,\n  'semesters': None,\n  'control_type_id': None,\n  'level': '3',\n  'type': None,\n  'department_id': '18',\n  'left_node': '143',\n  'right_node': '144',\n  'settings': None},\n {'id': '9841',\n  'education_plan_id': '41',\n  'code': 'Б.1.В.12',\n  'discipline_id': '329',\n  'credit_unit_value': None,\n  'hours': None,\n  'semesters': None,\n  'control_type_id': None,\n  'level': '3',\n  'type': None,\n  'department_id': '22',\n  'left_node': '101',\n  'right_node': '102',\n  'settings': None},\n {'id': '9842',\n  'education_plan_id': '41',\n  'code': 'Б.1.В.14',\n  'discipline_id': '40',\n  'credit_unit_value': None,\n  'hours': None,\n  'semesters': None,\n  'control_type_id': None,\n  'level': '3',\n  'type': None,\n  'department_id': '17',\n  'left_node': '105',\n  'right_node': '106',\n  'settings': None},\n {'id': '9858',\n  'education_plan_id': '41',\n  'code': 'Б.1.В.15',\n  'discipline_id': '41',\n  'credit_unit_value': None,\n  'hours': None,\n  'semesters': None,\n  'control_type_id': None,\n  'level': '3',\n  'type': None,\n  'department_id': '17',\n  'left_node': '107',\n  'right_node': '108',\n  'settings': None}]"
     },
     "execution_count": 27,
     "metadata": {},
     "output_type": "execute_result"
    }
   ],
   "source": [
    "db_filter_req(\n",
    "        \"plan_curriculum_disciplines\", \"education_plan_id\", 41\n",
    "    )"
   ],
   "metadata": {
    "collapsed": false,
    "pycharm": {
     "name": "#%%\n"
    }
   }
  },
  {
   "cell_type": "code",
   "execution_count": 31,
   "outputs": [
    {
     "data": {
      "text/plain": "[{'id': '6',\n  'name': 'Логика',\n  'name_short': 'Логика',\n  'level': '3',\n  'auto_create': None,\n  'department_id': '16'}]"
     },
     "execution_count": 31,
     "metadata": {},
     "output_type": "execute_result"
    }
   ],
   "source": [
    "\n",
    "\n",
    "db_filter_req(\"plan_disciplines\", \"id\", 6)"
   ],
   "metadata": {
    "collapsed": false,
    "pycharm": {
     "name": "#%%\n"
    }
   }
  },
  {
   "cell_type": "code",
   "execution_count": 3,
   "id": "4ac81617-9274-49f4-9b01-5481806ec181",
   "metadata": {
    "collapsed": true,
    "jupyter": {
     "outputs_hidden": true
    },
    "tags": []
   },
   "outputs": [
    {
     "name": "stdout",
     "output_type": "stream",
     "text": [
      "Философия - есть\n",
      "История государства и права России - есть\n",
      "История государства и права зарубежных стран - есть\n",
      "Иностранный язык - есть\n",
      "Иностранный язык в сфере юриспруденции - есть\n",
      "Безопасность жизнедеятельности - есть\n",
      "Теория государства и права - есть\n",
      "Конституционное право - есть\n",
      "Административное право - есть\n",
      "Гражданское право - есть\n",
      "Гражданский процесс - есть\n",
      "Арбитражный процесс - есть\n",
      "Трудовое право - есть\n",
      "Уголовное право - есть\n",
      "Экологическое право - есть\n",
      "Земельное право - есть\n",
      "Финансовое право - есть\n",
      "Налоговое право - есть\n",
      "Предпринимательское право - есть\n",
      "Международное частное право - есть\n",
      "Криминалистика - есть\n",
      "Криминология - есть\n",
      "Право социального обеспечения - есть\n",
      "Семейное право - есть\n",
      "Информационные технологии в юридической деятельности - есть\n",
      "Правоохранительные органы - есть\n",
      "Административно-процессуальное право - есть\n",
      "Уголовно-исполнительное право - есть\n",
      "Экономика - есть\n",
      "Профессиональная этика и служебный этикет - есть\n",
      "Психология - есть\n",
      "Русский язык в деловой документации - есть\n",
      "Риторика - есть\n",
      "Физическая культура и спорт - есть\n",
      "Административная деятельность полиции - есть\n",
      "Основы оперативно-розыскной деятельности органов внутренних дел - есть\n",
      "Практикум по административной юрисдикции органов внутренних дел - есть\n",
      "Социально-психологический тренинг профессионального общения - есть\n",
      "Организация деятельности участкового уполномоченного полиции - есть\n",
      "Психология в деятельности сотрудников органов внутренних дел - есть\n",
      "Судебная медицина и судебная психиатрия - есть\n",
      "Основы управления в органах внутренних дел - есть\n",
      "Специальная техника органов внутренних дел - есть\n",
      "Делопроизводство и режим секретности - есть\n",
      "Тактико-специальная подготовка - есть\n",
      "Первая помощь - есть\n",
      "Предупреждение преступлений и административных правонарушений органами внутренних дел - есть\n",
      "Государственная служба в органах внутренних дел - есть\n",
      "История органов внутренних дел - есть\n",
      "Основы кибербезопасности - есть\n",
      "Подготовка к сдаче и сдача государственного экзамена по административной  деятельности полиции и организации деятельности участкового уполномоченного полиции - есть\n",
      "Прокурорский надзор - есть\n",
      "Дознание в органах внутренних дел - есть\n",
      "Практикум по особенностям квалификации отдельных видов преступлений - есть\n",
      "Практикум по работе со следами преступлений - есть\n",
      "Правовая статистика - есть\n",
      "Основы информационной безопасности органов внутренних дел - есть\n",
      "Государственно-правовые основы миграции и миграционных процессов - есть\n",
      "Предупреждение коррупции в органах внутренних дел и формирование антикоррупционного поведения сотрудников и работников органов внутренних дел - есть\n",
      "Взаимодействие сотрудника полиции с лицами с ограниченными возможностями здоровья в социальной и профессиональной сферах - есть\n",
      "Огневая подготовка - есть\n",
      "Личная безопасность сотрудников органов внутренних дел - есть\n"
     ]
    }
   ],
   "source": [
    "# ищем существующие программы в загруженном файле\n",
    "\n",
    "for wp_id in workprogram:\n",
    "    if workprogram.get(str(wp_id)) in list(df[df.columns[0]]):\n",
    "        print(workprogram.get(str(wp_id)), '- есть')\n",
    "    else:\n",
    "        print(workprogram.get(str(wp_id)), '- нет')"
   ]
  },
  {
   "cell_type": "code",
   "execution_count": 8,
   "id": "cc289cc0-d30b-44d5-b88f-ec8c108ebe22",
   "metadata": {},
   "outputs": [],
   "source": [
    "# ищем программы которых нет в загруженном файле\n",
    "\n",
    "for wp_id in workprogram:\n",
    "    if workprogram.get(wp_id) not in list(df[df.columns[0]]):\n",
    "        print(workprogram.get(wp_id), '- нет')"
   ]
  },
  {
   "cell_type": "code",
   "execution_count": 5,
   "id": "cf48abeb-45b4-46ec-bdfd-6b0973915870",
   "metadata": {},
   "outputs": [],
   "source": [
    "# загрузка данных\n",
    "\n",
    "BIBL_MAIN = 1\n",
    "BIBL_ADD = 2\n",
    "BIBL_NP = 3\n",
    "\n",
    "for wp_id in workprogram:\n",
    "    if workprogram.get(wp_id) in list(df[df.columns[0]]):\n",
    "        for i in range(len(df[df.columns[0]])):\n",
    "            if workprogram.get(wp_id) == df.at[i, df.columns[0]]:\n",
    "                load_bibl(wp_id, BIBL_MAIN, df.at[i, df.columns[BIBL_MAIN]])\n",
    "                load_bibl(wp_id, BIBL_ADD, df.at[i, df.columns[BIBL_ADD]])\n",
    "                if df.at[i, df.columns[BIBL_NP]] is not nan:\n",
    "                    load_bibl(wp_id, BIBL_NP, df.at[i, df.columns[BIBL_NP]])\n",
    "                else:\n",
    "                    load_bibl(wp_id, BIBL_NP, '')\n",
    "                # print(df.at[i, df.columns[BIBL_MAIN]])\n",
    "        # print(wp_id)\n",
    "        # rawdata = df.loc[df['Дисциплина'] == workprogram.get(wp_id)]\n",
    "        # print(rawdata.at[0, rawdata.columns[1]])\n",
    "        # print(workprogram.get(wp_id), '- загружено')    \n",
    "# rawdata"
   ]
  },
  {
   "cell_type": "code",
   "execution_count": 11,
   "id": "d5cbba2f-1c09-4ff6-98c0-611a5d6a756f",
   "metadata": {},
   "outputs": [
    {
     "name": "stdout",
     "output_type": "stream",
     "text": [
      "nan\n"
     ]
    }
   ],
   "source": [
    "print(df.at[44, df.columns[3]])"
   ]
  },
  {
   "cell_type": "code",
   "execution_count": 20,
   "id": "09ae847e-4e00-4e51-ba12-7b8812f3da9a",
   "metadata": {},
   "outputs": [
    {
     "data": {
      "text/plain": [
       "False"
      ]
     },
     "execution_count": 20,
     "metadata": {},
     "output_type": "execute_result"
    }
   ],
   "source": [
    "df.at[44, df.columns[3]] is not nan"
   ]
  },
  {
   "cell_type": "code",
   "execution_count": 224,
   "id": "6f289507-d820-48a0-a2ce-71f280a977ac",
   "metadata": {},
   "outputs": [
    {
     "name": "stdout",
     "output_type": "stream",
     "text": [
      "False\n"
     ]
    }
   ],
   "source": [
    "print(workprogram.get(str(2994)) in df.Дисциплина)"
   ]
  },
  {
   "cell_type": "code",
   "execution_count": 256,
   "id": "c76339f6-2075-4700-b8f6-7fa1260a3af0",
   "metadata": {},
   "outputs": [
    {
     "data": {
      "text/plain": [
       "'Основы управления в органах внутренних дел'"
      ]
     },
     "execution_count": 256,
     "metadata": {},
     "output_type": "execute_result"
    }
   ],
   "source": [
    "df[df.columns[0]][0]"
   ]
  },
  {
   "cell_type": "code",
   "execution_count": 212,
   "id": "5d0e0fa9-d570-43b1-b0cd-872bd79c3050",
   "metadata": {},
   "outputs": [
    {
     "data": {
      "text/html": [
       "<div>\n",
       "<style scoped>\n",
       "    .dataframe tbody tr th:only-of-type {\n",
       "        vertical-align: middle;\n",
       "    }\n",
       "\n",
       "    .dataframe tbody tr th {\n",
       "        vertical-align: top;\n",
       "    }\n",
       "\n",
       "    .dataframe thead th {\n",
       "        text-align: right;\n",
       "    }\n",
       "</style>\n",
       "<table border=\"1\" class=\"dataframe\">\n",
       "  <thead>\n",
       "    <tr style=\"text-align: right;\">\n",
       "      <th></th>\n",
       "      <th>Дисциплина</th>\n",
       "      <th>Основная литература</th>\n",
       "      <th>Дополнительная литература</th>\n",
       "      <th>Научная продукция</th>\n",
       "    </tr>\n",
       "  </thead>\n",
       "  <tbody>\n",
       "  </tbody>\n",
       "</table>\n",
       "</div>"
      ],
      "text/plain": [
       "Empty DataFrame\n",
       "Columns: [Дисциплина, Основная литература, Дополнительная литература , Научная продукция]\n",
       "Index: []"
      ]
     },
     "execution_count": 212,
     "metadata": {},
     "output_type": "execute_result"
    }
   ],
   "source": [
    "df.loc[df['Дисциплина'] == workprogram.get(wp_id)]"
   ]
  },
  {
   "cell_type": "code",
   "execution_count": 90,
   "id": "82097178-a7bc-499d-b7ee-c09c8470c331",
   "metadata": {
    "tags": []
   },
   "outputs": [
    {
     "data": {
      "text/plain": [
       "{'status': 1,\n",
       " 'data': [{'id': '35632',\n",
       "   'work_program_id': '2994',\n",
       "   'field_id': '1',\n",
       "   'data': 'Test1',\n",
       "   'check': '1'}]}"
      ]
     },
     "execution_count": 90,
     "metadata": {},
     "output_type": "execute_result"
    }
   ],
   "source": [
    "payload = {'table': 'mm_work_programs_data',\n",
    "           'filter[work_program_id]': '2994',\n",
    "           'filter[field_id]': '1'}\n",
    "\n",
    "resp = requests.get(URL + '/api/call/system-database/get?token=' + TOKEN, params=payload)\n",
    "\n",
    "resp.json()"
   ]
  },
  {
   "cell_type": "code",
   "execution_count": 320,
   "id": "b3d4263c-08cb-4d2c-8bc8-ef59cb66ffcf",
   "metadata": {},
   "outputs": [],
   "source": [
    "df[df.columns[1]] = df[df.columns[1]].str.replace('\\t',' ')"
   ]
  },
  {
   "cell_type": "code",
   "execution_count": 321,
   "id": "83e48c56-f868-4013-8c86-119e1c344a07",
   "metadata": {},
   "outputs": [
    {
     "data": {
      "text/plain": [
       "'1. Бавсун, И. Г. Основы управления в органах внутренних дел [Электронный ресурс]: учебное пособие / И. Г. Бавсун. – Омск: Омская академия МВД России, 2017. – 152 с. – URL: http://www.liborui.ru. – Режим доступа: для авторизир. пользователей\\n2. Маркушин, А. Г. Основы управления в органах внутренних дел [Электронный ресурс]: учебное пособие / А. Г. Маркушин, В. В. Казаков. – переизд., доп. и перераб. - Н. Новгород: НА МВД России, 2017. – 360 с. – URL: http://www.liborui.ru. – Режим доступа: для авторизир. пользователей\\n3. Организация управления органами внутренних дел [Текст]: учебник / ред.: А. М. Кононов, И. Ю. Захватов. - 2-е изд., перераб. и доп. - М.: ДГСК МВД России, 2017. - 296 с.\\n4. Рублев, А. Г. Основы управления в органах внутренних дел [Электронный ресурс]: учебное пособие / А. Г. Рублев, Б. А. Кудрявцев. - Екатеринбург: УрЮИ МВД России, 2018. - 173 с. – URL: http://www.liborui.ru. – Режим доступа: для авторизир. пользователей'"
      ]
     },
     "execution_count": 321,
     "metadata": {},
     "output_type": "execute_result"
    }
   ],
   "source": [
    "df.at[1, df.columns[1]]"
   ]
  },
  {
   "cell_type": "code",
   "execution_count": 102,
   "id": "5eb98746-7c03-43c4-a1d7-69d1705f1c5d",
   "metadata": {},
   "outputs": [
    {
     "name": "stdout",
     "output_type": "stream",
     "text": [
      "{'status': 1, 'data': 1}\n"
     ]
    }
   ],
   "source": [
    "# Загрузка Лиетратуры из файла\n",
    "\n",
    "# for i in range(len(df)): #len(df)\n",
    "\n",
    "data = {'table': 'mm_work_programs_data',\n",
    "        'filter[work_program_id]': '2994',\n",
    "        'filter[field_id]': '1',\n",
    "        'fields[data]': df.at[1, df.columns[1]]}\n",
    "\n",
    "resp = requests.post(URL + '/api/call/system-database/edit?token=' + TOKEN, data=data)\n",
    "\n",
    "print(resp.json())"
   ]
  },
  {
   "cell_type": "code",
   "execution_count": 92,
   "id": "c074dbdd-7283-4d44-b22e-6689a5cf47be",
   "metadata": {
    "tags": []
   },
   "outputs": [
    {
     "data": {
      "text/plain": [
       "{'status': 1, 'data': 0}"
      ]
     },
     "execution_count": 92,
     "metadata": {},
     "output_type": "execute_result"
    }
   ],
   "source": [
    "resp.json()"
   ]
  }
 ],
 "metadata": {
  "kernelspec": {
   "display_name": "Python 3 (ipykernel)",
   "language": "python",
   "name": "python3"
  },
  "language_info": {
   "codemirror_mode": {
    "name": "ipython",
    "version": 3
   },
   "file_extension": ".py",
   "mimetype": "text/x-python",
   "name": "python",
   "nbconvert_exporter": "python",
   "pygments_lexer": "ipython3",
   "version": "3.8.10"
  }
 },
 "nbformat": 4,
 "nbformat_minor": 5
}