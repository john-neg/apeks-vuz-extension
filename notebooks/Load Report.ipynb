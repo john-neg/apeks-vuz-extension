{
 "cells": [
  {
   "cell_type": "code",
   "execution_count": null,
   "metadata": {
    "collapsed": true
   },
   "outputs": [],
   "source": [
    "from app.main.models import EducationStaff\n",
    "import requests\n",
    "from config import ApeksAPI\n",
    "from app.main.func import db_filter_req, db_request\n",
    "from datetime import date\n",
    "from calendar import monthrange\n",
    "\n",
    "class LoadReport(EducationStaff):\n",
    "    def __init__(self, year, month, department_id):\n",
    "        super().__init__(year, month, department_id)\n",
    "        self.lessons = self.get_lessons()\n",
    "\n",
    "    def get_lessons(self):\n",
    "        \"\"\"List of lessons for selected month\"\"\"\n",
    "        first_day = 1\n",
    "        last_day = monthrange(self.year, self.month)[1]\n",
    "\n",
    "        params = {\n",
    "            \"token\": ApeksAPI.TOKEN,\n",
    "            \"table\": 'schedule_day_schedule_lessons',\n",
    "            \"filter\": \"date between '\" + date(self.year, self.month, first_day).isoformat() + \"' and '\" + date(self.year, self.month, last_day).isoformat() + \"'\"\n",
    "        }\n",
    "        resp = requests.get(\n",
    "            ApeksAPI.URL + \"/api/call/system-database/get\", params=params)\n",
    "        return resp.json()['data']\n"
   ]
  }
 ],
 "metadata": {
  "kernelspec": {
   "display_name": "Python 3",
   "language": "python",
   "name": "python3"
  },
  "language_info": {
   "codemirror_mode": {
    "name": "ipython",
    "version": 2
   },
   "file_extension": ".py",
   "mimetype": "text/x-python",
   "name": "python",
   "nbconvert_exporter": "python",
   "pygments_lexer": "ipython2",
   "version": "2.7.6"
  }
 },
 "nbformat": 4,
 "nbformat_minor": 0
}