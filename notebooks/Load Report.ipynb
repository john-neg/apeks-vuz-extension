{
 "cells": [
  {
   "cell_type": "code",
   "execution_count": 6,
   "metadata": {
    "collapsed": true
   },
   "outputs": [],
   "source": [
    "from app.main.models import EducationStaff\n",
    "import requests\n",
    "from config import ApeksAPI\n",
    "from app.main.func import db_filter_req, db_request\n",
    "from datetime import date\n",
    "from calendar import monthrange\n",
    "\n",
    "class LoadReport(EducationStaff):\n",
    "    def __init__(self, year, month, department_id):\n",
    "        super().__init__(year, month, department_id)\n",
    "        self.lessons = self.get_lessons()\n",
    "\n",
    "    def get_lessons(self):\n",
    "        \"\"\"List of lessons for selected month\"\"\"\n",
    "        first_day = 1\n",
    "        last_day = monthrange(self.year, self.month)[1]\n",
    "\n",
    "        params = {\n",
    "            \"token\": ApeksAPI.TOKEN,\n",
    "            \"table\": 'schedule_day_schedule_lessons',\n",
    "            \"filter\": \"date between '\" + date(self.year, self.month, first_day).isoformat() + \"' and '\" + date(self.year, self.month, last_day).isoformat() + \"'\"\n",
    "        }\n",
    "        resp = requests.get(\n",
    "            ApeksAPI.URL + \"/api/call/system-database/get\", params=params)\n",
    "        return resp.json()['data']\n",
    "\n"
   ]
  },
  {
   "cell_type": "code",
   "execution_count": 15,
   "outputs": [],
   "source": [
    "load = LoadReport(2021, 12, 12)"
   ],
   "metadata": {
    "collapsed": false,
    "pycharm": {
     "name": "#%%\n"
    }
   }
  },
  {
   "cell_type": "code",
   "execution_count": 19,
   "outputs": [],
   "source": [
    "staff = load.staff_list()"
   ],
   "metadata": {
    "collapsed": false,
    "pycharm": {
     "name": "#%%\n"
    }
   }
  },
  {
   "cell_type": "code",
   "execution_count": 18,
   "outputs": [],
   "source": [
    "lessons = load.get_lessons()"
   ],
   "metadata": {
    "collapsed": false,
    "pycharm": {
     "name": "#%%\n"
    }
   }
  },
  {
   "cell_type": "code",
   "execution_count": 20,
   "outputs": [
    {
     "ename": "ValueError",
     "evalue": "list.remove(x): x not in list",
     "output_type": "error",
     "traceback": [
      "\u001B[1;31m---------------------------------------------------------------------------\u001B[0m",
      "\u001B[1;31mValueError\u001B[0m                                Traceback (most recent call last)",
      "\u001B[1;32m~\\AppData\\Local\\Temp/ipykernel_14172/2800274076.py\u001B[0m in \u001B[0;36m<module>\u001B[1;34m\u001B[0m\n\u001B[0;32m      5\u001B[0m             \u001B[0mlesson\u001B[0m\u001B[1;33m[\u001B[0m\u001B[1;34m'staff_id'\u001B[0m\u001B[1;33m]\u001B[0m \u001B[1;33m=\u001B[0m \u001B[0mi\u001B[0m\u001B[1;33m[\u001B[0m\u001B[1;34m'staff_id'\u001B[0m\u001B[1;33m]\u001B[0m\u001B[1;33m\u001B[0m\u001B[1;33m\u001B[0m\u001B[0m\n\u001B[0;32m      6\u001B[0m         \u001B[1;32melse\u001B[0m\u001B[1;33m:\u001B[0m\u001B[1;33m\u001B[0m\u001B[1;33m\u001B[0m\u001B[0m\n\u001B[1;32m----> 7\u001B[1;33m             \u001B[0mlessons\u001B[0m\u001B[1;33m.\u001B[0m\u001B[0mremove\u001B[0m\u001B[1;33m(\u001B[0m\u001B[0mlesson\u001B[0m\u001B[1;33m)\u001B[0m\u001B[1;33m\u001B[0m\u001B[1;33m\u001B[0m\u001B[0m\n\u001B[0m",
      "\u001B[1;31mValueError\u001B[0m: list.remove(x): x not in list"
     ]
    }
   ],
   "source": [
    "for lesson in lessons:\n",
    "    lesson_staff = db_filter_req('schedule_day_schedule_lessons_staff', 'lesson_id', lesson.get('id'))\n",
    "    for i in lesson_staff:\n",
    "        if i['staff_id'] in staff:\n",
    "            lesson['staff_id'] = i['staff_id']\n",
    "        else:\n",
    "            lessons.remove(lesson)"
   ],
   "metadata": {
    "collapsed": false,
    "pycharm": {
     "name": "#%%\n"
    }
   }
  }
 ],
 "metadata": {
  "kernelspec": {
   "display_name": "Python 3",
   "language": "python",
   "name": "python3"
  },
  "language_info": {
   "codemirror_mode": {
    "name": "ipython",
    "version": 2
   },
   "file_extension": ".py",
   "mimetype": "text/x-python",
   "name": "python",
   "nbconvert_exporter": "python",
   "pygments_lexer": "ipython2",
   "version": "2.7.6"
  }
 },
 "nbformat": 4,
 "nbformat_minor": 0
}