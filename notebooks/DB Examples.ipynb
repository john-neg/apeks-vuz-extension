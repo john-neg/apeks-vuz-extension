{
 "cells": [
  {
   "cell_type": "code",
   "execution_count": 53,
   "metadata": {
    "collapsed": true
   },
   "outputs": [
    {
     "data": {
      "text/plain": "[{'id': '3229',\n  'curriculum_discipline_id': '10464',\n  'name': 'Основы управления в органах внутренних дел',\n  'description': None,\n  'authors': '',\n  'reviewers_int': None,\n  'reviewers_ext': 'Test',\n  'date_create': None,\n  'date_approval': '2016-11-11',\n  'date_department': '2021-12-14',\n  'document_department': '1111',\n  'date_methodical': '2021-11-13',\n  'document_methodical': '5',\n  'date_academic': '2021-11-13',\n  'document_academic': '8',\n  'status': None,\n  'user_id': '9',\n  'settings': '{\"printSettingsRange\":\"\"}'}]"
     },
     "execution_count": 53,
     "metadata": {},
     "output_type": "execute_result"
    }
   ],
   "source": [
    "from app.main.func import db_filter_req\n",
    "\n",
    "curriculum_discipline_id = 10464\n",
    "data = db_filter_req(\"mm_work_programs\", \"curriculum_discipline_id\", curriculum_discipline_id)\n",
    "data"
   ]
  },
  {
   "cell_type": "code",
   "execution_count": 71,
   "outputs": [
    {
     "data": {
      "text/plain": "[{'id': '1906',\n  'work_program_id': '3229',\n  'topic_id': None,\n  'purposes': 'Цели',\n  'tasks': 'Задачи',\n  'place_in_structure': 'Место в структуре',\n  'knowledge': '',\n  'skills': '',\n  'abilities': '',\n  'ownerships': ''}]"
     },
     "execution_count": 71,
     "metadata": {},
     "output_type": "execute_result"
    }
   ],
   "source": [
    "work_program_id = 3229\n",
    "data = db_filter_req(\"mm_sections\", \"work_program_id\", work_program_id)\n",
    "data"
   ],
   "metadata": {
    "collapsed": false,
    "pycharm": {
     "name": "#%%\n"
    }
   }
  },
  {
   "cell_type": "code",
   "execution_count": 4,
   "outputs": [
    {
     "data": {
      "text/plain": "[{'id': '42316',\n  'work_program_id': '3229',\n  'field_id': '1',\n  'data': 'ТЕСТ\\n',\n  'check': '1'},\n {'id': '42317',\n  'work_program_id': '3229',\n  'field_id': '2',\n  'data': '1. Анисина, С. С. Организация планирования в органах внутренних дел Российской Федерации [Электронный ресурс]: учебно-практическое пособие / С. С. Анисина, Э. Г. Юзиханова. - Тюмень: ТИПК МВД России, 2018. - 106 с. - URL: http://www.liborui.ru. - Режим доступа: для авторизир. пользователей\\n2. Бавсун, И. Г. Основы управления в органах внутренних дел [Электронный ресурс]: учебное пособие / И. Г. Бавсун. - Омск: Омская академия МВД России, 2017. - 152 с. - URL: http://www.liborui.ru. - Режим доступа: для авторизир. пользователей\\n3. Власов, Б. Е. Программно-целевое управление в органах внутренних дел [Электронный ресурс]: учебное пособие / Б. Е. Власов. - М.: АУ МВД России, 2018. - 120 с. - URL: http://www.liborui.ru. - Режим доступа: для авторизир. пользователей\\n4. Михайлов, В. И. Функции руководителя по управлению служебным коллективом [Электронный ресурс]: учебное пособие / В. И. Михайлов, В. А. Колесников, Л. В. Чернышова; ред. А. С. Ханахмедов. - Уфа: УЮИ МВД России, 2018. - 38 с. - URL: http://www.liborui.ru. - Режим доступа: для авторизир. пользователей \\n5. Организация аналитической работы в органах внутренних дел [Электронный ресурс]: учебное пособие / А. Е. Линкевич [и др.]. - Уфа: УЮИ МВД России, 2017. - 78 с. - URL: http://www.liborui.ru. - Режим доступа: для авторизир. пользователей \\n6. Основы управления в органах внутренних дел [Электронный ресурс]: учебное наглядное пособие / А. Н. Осяк, К. А. Корчагина, Т. Н. Шаповалова. - Ростов н/Д: ФГКОУ ВО РЮИ МВД России, 2018. - 48 с. - URL: http://www.liborui.ru. - Режим доступа: для авторизир. пользователей\\n7. Планирование как важнейшая функция управления в ОВД [Электронный ресурс]: учебное пособие / А. Е. Линкевич, В. А. Колесников, В. И. Михайлов; под общ. ред. Ф. Б. Мухаметшина. - Уфа: УЮИ МВД России, 2017. - 50 с. - URL: http://www.liborui.ru. - Режим доступа: для авторизир. пользователей\\n8. Применение современных инфокоммуникационных технологий в управлении деятельностью подразделений органов внутренних дел [Текст]: учебно-практическое пособие / К. М. Бондарь [и др.]. - М.: ДГСК МВД России, 2018. - 192 с. \\n9. Служебное совещание в системе управления правоохранительными органами: учебник для студентов вузов / И. В. Грошев, И. А. Калиниченко, А. А. Краснослободцев [и др.]. - Москва: ЮНИТИ-ДАНА, 2017. - 183 c. - ISBN 978-5-238-02886-6. - Текст: электронный // Электронно-библиотечная система IPR BOOKS: [сайт]. - URL: http://www.iprbookshop.ru/71164.html. - Режим доступа: для авторизир. пользователей\\n10. Сухов, С. Н. Сервисы единой системы информационно-аналитического обеспечения деятельности МВД России [Электронный ресурс]: учебно-практическое пособие / С. Н. Сухов, С. А. Смирнов, А. В. Макаров. - Н. Новгород: НА МВД России, 2017. - 45 с. - URL: http://www.liborui.ru. - Режим доступа: для авторизир. пользователей \\n11. Теоретические основы и практика работы кадровых подразделений органов внутренних дел Российской Федерации по вопросам прохождения службы [Электронный ресурс]: учебно-практическое пособие / В.К. Русаков [и др.]. - М.: АУ МВД России, 2017. - 88 с. - URL: http://www.liborui.ru. - Режим доступа: для авторизир. пользователей\\n',\n  'check': '1'},\n {'id': '42318',\n  'work_program_id': '3229',\n  'field_id': '3',\n  'data': 'Загружено ТЕСТ',\n  'check': '1'},\n {'id': '42319',\n  'work_program_id': '3229',\n  'field_id': '8',\n  'data': 'Обеспечение самостоятельной работы',\n  'check': '1'},\n {'id': '42320',\n  'work_program_id': '3229',\n  'field_id': '9',\n  'data': 'задачи',\n  'check': '1'},\n {'id': '42321',\n  'work_program_id': '3229',\n  'field_id': '10',\n  'data': 'практикум',\n  'check': '1'},\n {'id': '42322',\n  'work_program_id': '3229',\n  'field_id': '11',\n  'data': None,\n  'check': '1'},\n {'id': '42323',\n  'work_program_id': '3229',\n  'field_id': '12',\n  'data': 'тематика курс работ',\n  'check': '1'},\n {'id': '42324',\n  'work_program_id': '3229',\n  'field_id': '13',\n  'data': 'тематика контр работ',\n  'check': '1'},\n {'id': '42325',\n  'work_program_id': '3229',\n  'field_id': '15',\n  'data': 'Программное обеспечение',\n  'check': '1'},\n {'id': '42326',\n  'work_program_id': '3229',\n  'field_id': '16',\n  'data': 'Нормативные акты',\n  'check': '1'},\n {'id': '42327',\n  'work_program_id': '3229',\n  'field_id': '17',\n  'data': 'Базы данных, информационно-справочные и поисковые системы',\n  'check': '1'},\n {'id': '42328',\n  'work_program_id': '3229',\n  'field_id': '18',\n  'data': 'Ресурсы информационно-телекоммуникационной сети \"Интернет\"',\n  'check': '1'},\n {'id': '42329',\n  'work_program_id': '3229',\n  'field_id': '19',\n  'data': 'тесты',\n  'check': '1'},\n {'id': '42330',\n  'work_program_id': '3229',\n  'field_id': '20',\n  'data': 'Описание материально-технической базы, необходимой для осуществления образовательного процесса по дисциплине',\n  'check': '1'},\n {'id': '42331',\n  'work_program_id': '3229',\n  'field_id': '29',\n  'data': 'Автор(ы) рабочей программы (для печати',\n  'check': '1'},\n {'id': '42332',\n  'work_program_id': '3229',\n  'field_id': '30',\n  'data': 'Пояснение к таблице с последующими дисциплинами',\n  'check': '1'},\n {'id': '42333',\n  'work_program_id': '3229',\n  'field_id': '31',\n  'data': 'Примечание к тематическому плану ',\n  'check': '1'},\n {'id': '42334',\n  'work_program_id': '3229',\n  'field_id': '32',\n  'data': 'критерии оценки для сдачи пром аттестации',\n  'check': '1'},\n {'id': '42335',\n  'work_program_id': '3229',\n  'field_id': '33',\n  'data': 'Примерные оценочные средства для проведения промежуточной аттестации обучающихся по дисциплине',\n  'check': '1'}]"
     },
     "execution_count": 4,
     "metadata": {},
     "output_type": "execute_result"
    }
   ],
   "source": [
    "work_program_id = 3229\n",
    "data = db_filter_req(\"mm_work_programs_data\", \"work_program_id\", work_program_id)\n",
    "data"
   ],
   "metadata": {
    "collapsed": false,
    "pycharm": {
     "name": "#%%\n"
    }
   }
  },
  {
   "cell_type": "code",
   "execution_count": 6,
   "outputs": [
    {
     "data": {
      "text/plain": "[{'id': '19938',\n  'work_program_id': '3229',\n  'competency_id': '4565',\n  'field_id': '1',\n  'value': '1'}]"
     },
     "execution_count": 6,
     "metadata": {},
     "output_type": "execute_result"
    }
   ],
   "source": [
    "work_program_id = 3229\n",
    "data = db_filter_req(\"mm_work_programs_competencies_data\", \"work_program_id\", work_program_id)\n",
    "data"
   ],
   "metadata": {
    "collapsed": false,
    "pycharm": {
     "name": "#%%\n"
    }
   }
  },
  {
   "cell_type": "code",
   "execution_count": 18,
   "outputs": [],
   "source": [
    "import requests\n",
    "from app.main.func import db_filter_req, plan_curriculum_disciplines\n",
    "from config import ApeksAPI\n",
    "from app.programs.func import plan_department_disciplines\n",
    "\n",
    "class WorkProgram:\n",
    "    def __init__(self, curriculum_discipline_id):\n",
    "        self.curriculum_discipline_id = curriculum_discipline_id\n",
    "        self.mm_work_programs = db_filter_req(\n",
    "            \"mm_work_programs\", \"curriculum_discipline_id\", curriculum_discipline_id\n",
    "        )\n",
    "        self.work_program_id = self.mm_work_programs[0][\"id\"]\n",
    "        self.name = self.mm_work_programs[0][\"name\"]\n",
    "\n",
    "        self.mm_work_programs_items = {\n",
    "            \"name\": \"name\",  # Название программы\n",
    "            \"reviewers_ext\": \"reviewers_ext\",  # Рецензенты\n",
    "            \"date_approval\": \"date_approval\",\n",
    "            \"date_methodical\": \"date_methodical\",\n",
    "            \"document_methodical\": \"document_methodical\",\n",
    "            \"date_academic\": \"date_academic\",\n",
    "            \"document_academic\": \"document_academic\",\n",
    "        }\n",
    "        self.special = {\n",
    "            \"date_department\": \"date_department\",  # Дата заседания кафедры\n",
    "            \"document_department\": \"document_department\",  # Протокол заседания кафедры\n",
    "        }\n",
    "\n",
    "\n",
    "        self.mm_sections_items = {\n",
    "            \"purposes\": \"purposes\",  # Цели\n",
    "            \"tasks\": \"tasks\",  # Задачи\n",
    "            \"place_in_structure\": \"place_in_structure\",  # Место в структуре ООП\n",
    "        }\n",
    "        self.mm_work_programs_data_items = {\n",
    "            \"authorprint\": 29,  # Автор(ы) рабочей программы (для печати)\n",
    "            \"no_next_disc\": 30,  # Пояснение к таблице с последующими дисциплинами (информация об отсутствии)\n",
    "            \"templan_info\": 31,  # Примечание к тематическому плану\n",
    "            \"self_provision\": 8,  # Обеспечение самостоятельной работы\n",
    "            \"test_criteria\": 32,  # Критерии оценки для сдачи промежуточной аттестации в форме тестирования\n",
    "            \"course_works\": 12,  # Тематика курсовых работ\n",
    "            \"practice\": 10,  # Практикум\n",
    "            \"control_works\": 13,  # Тематика контрольных работ\n",
    "            \"exam_form_desc\": 33,  # Примерные оценочные средства для проведения промежуточной аттестации\n",
    "            \"task_works\": 9,  # Задачи\n",
    "            \"tests\": 19,  # Тесты\n",
    "            \"regulations\": 16,  # Нормативные акты\n",
    "            \"library_main\": 1,  # Основная литература\n",
    "            \"library_add\": 2,  # Дополнительная литература\n",
    "            \"library_np\": 3,  # Научная продукция\n",
    "            \"internet\": 18,  # Ресурсы информационно-телекоммуникационной сети Интернет\n",
    "            \"software\": 15,  # Программное обеспечение\n",
    "            \"ref_system\": 17,  # Базы данных, информационно-справочные и поисковые системы\n",
    "            \"materials_base\": 20,  # Описание материально-технической базы\n",
    "        }\n",
    "\n",
    "    def get(self, parameter):\n",
    "        if parameter in self.mm_work_programs_items:\n",
    "            return self.mm_work_programs[0][self.mm_work_programs_items.get(parameter)]\n",
    "        elif parameter in self.special:\n",
    "            date_department = self.mm_work_programs[-1][\"date_department\"]\n",
    "            document_department = self.mm_work_programs[-1][\"document_department\"]\n",
    "            if date_department:\n",
    "                date = date_department.split(\"-\")\n",
    "                date_department = f\"{date[-1]}.{date[-2]}.{date[-3]}\"\n",
    "            else:\n",
    "                date_department = \"[Не заполнена]\"\n",
    "            if document_department is None:\n",
    "                document_department = \"[Отсутствует]\"\n",
    "            return f\"Дата заседания кафедры: {date_department}\\r\\nПротокол № {document_department}\"\n",
    "        elif parameter in self.mm_sections_items:\n",
    "            return db_filter_req(\n",
    "                \"mm_sections\", \"work_program_id\", self.work_program_id\n",
    "            )[-1][self.mm_sections_items.get(parameter)]\n",
    "        elif parameter in self.mm_work_programs_data_items:\n",
    "            try:\n",
    "                params = {\n",
    "                    \"token\": ApeksAPI.TOKEN,\n",
    "                    \"table\": \"mm_work_programs_data\",\n",
    "                    \"filter[work_program_id]\": self.work_program_id,\n",
    "                    \"filter[field_id]\": str(\n",
    "                        self.mm_work_programs_data_items.get(parameter)\n",
    "                    ),\n",
    "                }\n",
    "                return requests.get(\n",
    "                    ApeksAPI.URL + \"/api/call/system-database/get\", params=params\n",
    "                ).json()[\"data\"][-1][\"data\"]\n",
    "            except IndexError:\n",
    "                return \"\"\n",
    "        else:\n",
    "            return \"Wrong parameter\"\n",
    "\n",
    "    def edit(self, parameter, load_data):\n",
    "        if parameter in self.mm_work_programs_items:\n",
    "            params = {\"token\": ApeksAPI.TOKEN}\n",
    "            data = {\n",
    "                \"table\": \"mm_work_programs\",\n",
    "                \"filter[id]\": self.work_program_id,\n",
    "                \"fields[\"\n",
    "                + self.mm_work_programs_items.get(parameter)\n",
    "                + \"]\": str(load_data),\n",
    "            }\n",
    "            requests.post(\n",
    "                ApeksAPI.URL + \"/api/call/system-database/edit\",\n",
    "                params=params,\n",
    "                data=data,\n",
    "            )\n",
    "            self.mm_work_programs = db_filter_req(\n",
    "                \"mm_work_programs\",\n",
    "                \"curriculum_discipline_id\",\n",
    "                self.curriculum_discipline_id,\n",
    "            )\n",
    "\n",
    "        elif parameter in self.mm_sections_items:\n",
    "            params = {\"token\": ApeksAPI.TOKEN}\n",
    "            data = {\n",
    "                \"table\": \"mm_sections\",\n",
    "                \"filter[work_program_id]\": self.work_program_id,\n",
    "                \"fields[\" + self.mm_sections_items.get(parameter) + \"]\": str(load_data),\n",
    "            }\n",
    "            r = requests.post(\n",
    "                ApeksAPI.URL + \"/api/call/system-database/edit\",\n",
    "                params=params,\n",
    "                data=data,\n",
    "            )\n",
    "            return r.json()\n",
    "        elif parameter in self.mm_work_programs_data_items:\n",
    "            params = {\"token\": ApeksAPI.TOKEN}\n",
    "            data = {\n",
    "                \"table\": \"mm_work_programs_data\",\n",
    "                \"filter[work_program_id]\": self.work_program_id,\n",
    "                \"filter[field_id]\": self.mm_work_programs_data_items.get(parameter),\n",
    "                \"fields[data]\": str(load_data),\n",
    "            }\n",
    "            r = requests.post(\n",
    "                ApeksAPI.URL + \"/api/call/system-database/edit\",\n",
    "                params=params,\n",
    "                data=data,\n",
    "            )\n",
    "            return r.json()\n",
    "        else:\n",
    "            return \"Wrong parameter\"\n",
    "\n",
    "\n",
    "class WorkProgramBunchData:\n",
    "    def __init__(self, parameter, education_plan_id):\n",
    "        self.parameter = parameter\n",
    "        self.education_plan_id = education_plan_id\n",
    "\n",
    "    def all(self):\n",
    "        disc_list = plan_curriculum_disciplines(self.education_plan_id)\n",
    "        return self.wp_list_processing(disc_list)\n",
    "\n",
    "    def department (self, department_id):\n",
    "        disc_list = plan_department_disciplines(self.education_plan_id, department_id)\n",
    "        return self.wp_list_processing(disc_list)\n",
    "\n",
    "    def wp_list_processing(self, disc_list):\n",
    "        result = {}\n",
    "        for disc in disc_list:\n",
    "            try:\n",
    "                wp = WorkProgram(disc)\n",
    "            except IndexError:\n",
    "                result[\" \".join(disc_list[disc])] = \"-->Программа отсутствует<--\"\n",
    "                break\n",
    "            try:\n",
    "                result[\" \".join(disc_list[disc])] = wp.get(self.parameter)\n",
    "            except IndexError:\n",
    "                result[\" \".join(disc_list[disc])] = \"\"\n",
    "        return result"
   ],
   "metadata": {
    "collapsed": false,
    "pycharm": {
     "name": "#%%\n"
    }
   }
  },
  {
   "cell_type": "code",
   "execution_count": 19,
   "outputs": [],
   "source": [
    "test = WorkProgramBunchData('date_department', 49)"
   ],
   "metadata": {
    "collapsed": false,
    "pycharm": {
     "name": "#%%\n"
    }
   }
  },
  {
   "cell_type": "code",
   "execution_count": 20,
   "outputs": [
    {
     "data": {
      "text/plain": "{'Б.1.О.11 Информатика и информационные технологии в профессиональной деятельности': 'Дата заседания кафедры: 02.06.2021\\r\\nПротокол № 11',\n 'Б.1.В.3 Основы управления в органах внутренних дел': 'Дата заседания кафедры: 02.06.2021\\r\\nПротокол № 11',\n 'Б.1.В.8 Основы кибербезопасности': 'Дата заседания кафедры: 02.06.2021\\r\\nПротокол № 11',\n 'Б.1.В.ЭД.2.01 Правовая статистика': 'Дата заседания кафедры: 02.06.2021\\r\\nПротокол № 11',\n 'Б.1.В.ЭД.4.01 Основы информационной безопасности органов внутренних дел': 'Дата заседания кафедры: 02.06.2021\\r\\nПротокол № 11',\n 'Б.1.В.ЭД.4.02 Криминальная среда и современные информационные технологии': 'Дата заседания кафедры: 02.06.2021\\r\\nПротокол № 11'}"
     },
     "execution_count": 20,
     "metadata": {},
     "output_type": "execute_result"
    }
   ],
   "source": [
    "test.department(12)"
   ],
   "metadata": {
    "collapsed": false,
    "pycharm": {
     "name": "#%%\n"
    }
   }
  },
  {
   "cell_type": "code",
   "execution_count": 21,
   "outputs": [
    {
     "data": {
      "text/plain": "{'Б.1.О.1 Иностранный язык': 'Дата заседания кафедры: 10.06.2021\\r\\nПротокол № 11 ',\n 'Б.1.О.2 Философия': 'Дата заседания кафедры: 02.06.2021\\r\\nПротокол № 11',\n 'Б.1.О.3 Логика': 'Дата заседания кафедры: 02.06.2021\\r\\nПротокол № 11',\n 'Б.1.О.4 Экономика': 'Дата заседания кафедры: 16.06.2021\\r\\nПротокол № 14',\n 'Б.1.О.5 Политология': 'Дата заседания кафедры: 02.06.2021\\r\\nПротокол № 11',\n 'Б.1.О.6 Социология': 'Дата заседания кафедры: 02.06.2021\\r\\nПротокол № 11',\n 'Б.1.О.7 Профессиональная этика и служебный этикет': 'Дата заседания кафедры: 02.06.2021\\r\\nПротокол № 11',\n 'Б.1.О.8 Психология': 'Дата заседания кафедры: 16.06.2021\\r\\nПротокол № 15',\n 'Б.1.О.9 Русский язык в деловой документации': 'Дата заседания кафедры: 10.06.2021\\r\\nПротокол № 11',\n 'Б.1.О.10 Риторика': 'Дата заседания кафедры: 10.06.2021\\r\\nПротокол № 11',\n 'Б.1.О.11 Информатика и информационные технологии в профессиональной деятельности': 'Дата заседания кафедры: 02.06.2021\\r\\nПротокол № 11',\n 'Б.1.О.12 Теория государства и права': 'Дата заседания кафедры: 02.06.2021\\r\\nПротокол № 13',\n 'Б.1.О.13 История государства и права России': 'Дата заседания кафедры: 16.06.2021\\r\\nПротокол № 14',\n 'Б.1.О.14 История государства и права зарубежных стран': 'Дата заседания кафедры: 02.06.2021\\r\\nПротокол № 13',\n 'Б.1.О.15 Конституционное право России': 'Дата заседания кафедры: 02.06.2021\\r\\nПротокол № 13',\n 'Б.1.О.16 Административное право': 'Дата заседания кафедры: 16.06.2021\\r\\nПротокол № Протокол № 13',\n 'Б.1.О.17 Муниципальное право': 'Дата заседания кафедры: 16.06.2021\\r\\nПротокол № 14',\n 'Б.1.О.18 Гражданское право': 'Дата заседания кафедры: 16.06.2021\\r\\nПротокол № 14',\n 'Б.1.О.19 Гражданское процессуальное право (гражданский процесс)': 'Дата заседания кафедры: 16.06.2021\\r\\nПротокол № 14',\n 'Б.1.О.20 Финансовое право': 'Дата заседания кафедры: 02.06.2021\\r\\nПротокол № 14',\n 'Б.1.О.21 Экологическое право': 'Дата заседания кафедры: 16.06.2021\\r\\nПротокол № 14',\n 'Б.1.О.22 Предпринимательское право': 'Дата заседания кафедры: 16.06.2021\\r\\nПротокол № 14',\n 'Б.1.О.23 Международное право': 'Дата заседания кафедры: 16.06.2021\\r\\nПротокол № 14',\n 'Б.1.О.24 Уголовное право': 'Дата заседания кафедры: 16.06.2021\\r\\nПротокол № 15',\n 'Б.1.О.25 Уголовно-процессуальное право (уголовный процесс)': 'Дата заседания кафедры: 02.06.2021\\r\\nПротокол № 14',\n 'Б.1.О.26 Уголовно-исполнительное право': 'Дата заседания кафедры: 16.06.2021\\r\\nПротокол № 15',\n 'Б.1.О.27 Криминалистика': 'Дата заседания кафедры: 04.06.2021\\r\\nПротокол № 11',\n 'Б.1.О.28 Криминология': 'Дата заседания кафедры: 16.06.2021\\r\\nПротокол № 15',\n 'Б.1.О.29 Правоохранительные органы': 'Дата заседания кафедры: 02.06.2021\\r\\nПротокол № 14',\n 'Б.1.О.30 Основы теории национальной безопасности': 'Дата заседания кафедры: 02.06.2021\\r\\nПротокол № 13',\n 'Б.1.О.31 Юридическая психология': 'Дата заседания кафедры: 16.06.2021\\r\\nПротокол № 15',\n 'Б.1.О.32 История органов внутренних дел': 'Дата заседания кафедры: 16.06.2021\\r\\nПротокол № 14',\n 'Б.1.О.33 Государственная служба в органах внутренних дел': 'Дата заседания кафедры: 16.06.2021\\r\\nПротокол № 13',\n 'Б.1.О.34 Тактико-специальная подготовка': 'Дата заседания кафедры: 16.06.2021\\r\\nПротокол № 13',\n 'Б.1.О.35 Огневая подготовка': 'Дата заседания кафедры: 16.06.2021\\r\\nПротокол № 13',\n 'Б.1.О.36 Личная безопасность сотрудников органов внутренних дел': 'Дата заседания кафедры: 16.06.2021\\r\\nПротокол № 13 ',\n 'Б.1.О.37 Первая помощь': 'Дата заседания кафедры: 16.06.2021\\r\\nПротокол № 12',\n 'Б.1.О.38 Специальная техника органов внутренних дел': 'Дата заседания кафедры: 16.06.2021\\r\\nПротокол № 12',\n 'Б.1.О.39 Делопроизводство и режим секретности в органах внутренних дел': 'Дата заседания кафедры: 16.06.2021\\r\\nПротокол № 12',\n 'Б.1.В.1 Основы оперативно-розыскной деятельности органов внутренних дел': 'Дата заседания кафедры: 10.11.2021\\r\\nПротокол № 21',\n 'Б.1.В.2 Судебная медицина и судебная психиатрия': 'Дата заседания кафедры: 02.06.2021\\r\\nПротокол № 14',\n 'Б.1.В.3 Основы управления в органах внутренних дел': 'Дата заседания кафедры: 02.06.2021\\r\\nПротокол № 11',\n 'Б.1.В.4 Обеспечение прав человека в деятельности органов внутренних дел': 'Дата заседания кафедры: 16.06.2021\\r\\nПротокол № 14 ',\n 'Б.1.В.5 Практикум по особенностям квалификации отдельных видов преступлений': 'Дата заседания кафедры: 16.06.2021\\r\\nПротокол № 15',\n 'Б.1.В.6 Предупреждение преступлений и административных правонарушений органами внутренних дел': 'Дата заседания кафедры: 16.06.2021\\r\\nПротокол № 15',\n 'Б.1.В.7 Учения': 'Дата заседания кафедры: 04.06.2021\\r\\nПротокол № 11',\n 'Б.1.В.8 Основы кибербезопасности': 'Дата заседания кафедры: 02.06.2021\\r\\nПротокол № 11',\n 'Б.1.В.ЭД.1.01 Юридическая техника': 'Дата заседания кафедры: 16.06.2021\\r\\nПротокол № 14',\n 'Б.1.В.ЭД.1.02 Судебная бухгалтерия': 'Дата заседания кафедры: 02.06.2021\\r\\nПротокол № 14',\n 'Б.1.В.ЭД.2.01 Правовая статистика': 'Дата заседания кафедры: 02.06.2021\\r\\nПротокол № 11',\n 'Б.1.В.ЭД.2.02 Семейное право': 'Дата заседания кафедры: 16.06.2021\\r\\nПротокол № 14',\n 'Б.1.В.ЭД.3.01 Налоговое право': 'Дата заседания кафедры: 16.06.2021\\r\\nПротокол № 14',\n 'Б.1.В.ЭД.3.02 Международная правовая помощь по гражданским, семейным и уголовным делам ': 'Дата заседания кафедры: 02.06.2021\\r\\nПротокол № 14',\n 'Б.1.В.ЭД.4.01 Основы информационной безопасности органов внутренних дел': 'Дата заседания кафедры: 02.06.2021\\r\\nПротокол № 11',\n 'Б.1.В.ЭД.4.02 Криминальная среда и современные информационные технологии': 'Дата заседания кафедры: 02.06.2021\\r\\nПротокол № 11',\n 'Б.1.В.ЭД.5.01 Организация раскрытия и расследования преступлений отдельных видов ': 'Дата заседания кафедры: 04.06.2021\\r\\nПротокол № 11',\n 'Б.1.В.ЭД.5.02 Практикум по уголовному процессу': 'Дата заседания кафедры: 02.06.2021\\r\\nПротокол № 14',\n 'Б.1.В.ЭД.6.01 Практикум по проведению отдельных следственных действий': 'Дата заседания кафедры: 04.06.2021\\r\\nПротокол № 11',\n 'Б.1.В.ЭД.6.02 Практикум по работе со следами преступлений': 'Дата заседания кафедры: 04.06.2021\\r\\nПротокол № 11',\n 'УП Учебная практика': '-->Программа отсутствует<--'}"
     },
     "execution_count": 21,
     "metadata": {},
     "output_type": "execute_result"
    }
   ],
   "source": [
    "test.all()"
   ],
   "metadata": {
    "collapsed": false,
    "pycharm": {
     "name": "#%%\n"
    }
   }
  },
  {
   "cell_type": "code",
   "execution_count": 45,
   "outputs": [
    {
     "data": {
      "text/plain": "{}"
     },
     "execution_count": 45,
     "metadata": {},
     "output_type": "execute_result"
    }
   ],
   "source": [
    "plan_department_disciplines(133, 12)"
   ],
   "metadata": {
    "collapsed": false,
    "pycharm": {
     "name": "#%%\n"
    }
   }
  },
  {
   "cell_type": "code",
   "execution_count": 84,
   "outputs": [],
   "source": [
    "\n",
    "\n",
    "wp = WorkProgram(4553)"
   ],
   "metadata": {
    "collapsed": false,
    "pycharm": {
     "name": "#%%\n"
    }
   }
  },
  {
   "cell_type": "code",
   "execution_count": 89,
   "outputs": [
    {
     "data": {
      "text/plain": "'дать обучающимся знания в области истории и методологии социологической науки, ознакомить их с современными социологическими концепциями и течениями;\\r\\nсформировать у обучающихся научное социологическое представление об обществе как сложной социокультурной системе, о социальных проблемах современного российского общества и тенденциях его развития;\\r\\nвыработать уобучающихся понимание значения общественных факторов социализации личности, ее социальных ролей и причин девиантного поведения;\\r\\nспособствовать формированию у обучающихся понимания причин социальных конфликтов и способов их разрешения в интересах обеспечения общественной безопасности, а также навыков толерантного поведения в многосоставном полиэтничном обществе;\\r\\nпривить обучающимся элементарные навыки самостоятельного сбора и оценки первичной социологической информации, научного анализа общественных проблем, в том числе связанных с профессиональной деятельностью.'"
     },
     "execution_count": 89,
     "metadata": {},
     "output_type": "execute_result"
    }
   ],
   "source": [
    "wp.get('tasks')"
   ],
   "metadata": {
    "collapsed": false,
    "pycharm": {
     "name": "#%%\n"
    }
   }
  },
  {
   "cell_type": "code",
   "execution_count": 86,
   "outputs": [
    {
     "data": {
      "text/plain": "{'status': 1, 'data': 2}"
     },
     "execution_count": 86,
     "metadata": {},
     "output_type": "execute_result"
    }
   ],
   "source": [
    "wp.edit('templan_info', 'Семинарское занятие по теме №2 проводится с использованием активных и интерактивных форм обучения\\r\\nПрактическое занятие №3 реализуется в форме практической подготовки.')"
   ],
   "metadata": {
    "collapsed": false,
    "pycharm": {
     "name": "#%%\n"
    }
   }
  }
 ],
 "metadata": {
  "kernelspec": {
   "display_name": "Python 3",
   "language": "python",
   "name": "python3"
  },
  "language_info": {
   "codemirror_mode": {
    "name": "ipython",
    "version": 2
   },
   "file_extension": ".py",
   "mimetype": "text/x-python",
   "name": "python",
   "nbconvert_exporter": "python",
   "pygments_lexer": "ipython2",
   "version": "2.7.6"
  }
 },
 "nbformat": 4,
 "nbformat_minor": 0
}