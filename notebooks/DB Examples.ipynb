{
 "cells": [
  {
   "cell_type": "code",
   "execution_count": 1,
   "metadata": {
    "collapsed": true
   },
   "outputs": [
    {
     "data": {
      "text/plain": "[{'id': '3229',\n  'curriculum_discipline_id': '10464',\n  'name': 'Основы управления в органах внутренних дел',\n  'description': None,\n  'authors': '',\n  'reviewers_int': None,\n  'reviewers_ext': '',\n  'date_create': None,\n  'date_approval': '2016-11-11',\n  'date_department': '2021-12-14',\n  'document_department': '1111',\n  'date_methodical': '2021-11-13',\n  'document_methodical': '5',\n  'date_academic': '2021-11-13',\n  'document_academic': '8',\n  'status': None,\n  'user_id': '9',\n  'settings': '{\"printSettingsRange\":\"\"}'}]"
     },
     "execution_count": 1,
     "metadata": {},
     "output_type": "execute_result"
    }
   ],
   "source": [
    "from app.main.func import db_filter_req\n",
    "\n",
    "curriculum_discipline_id = 10464\n",
    "data = db_filter_req(\"mm_work_programs\", \"curriculum_discipline_id\", curriculum_discipline_id)\n",
    "data"
   ]
  },
  {
   "cell_type": "code",
   "execution_count": 3,
   "outputs": [
    {
     "data": {
      "text/plain": "[{'id': '1906',\n  'work_program_id': '3229',\n  'topic_id': None,\n  'purposes': 'Цели',\n  'tasks': 'Задачи',\n  'place_in_structure': 'Место в структуре',\n  'knowledge': '',\n  'skills': '',\n  'abilities': '',\n  'ownerships': ''}]"
     },
     "execution_count": 3,
     "metadata": {},
     "output_type": "execute_result"
    }
   ],
   "source": [
    "work_program_id = 3229\n",
    "data = db_filter_req(\"mm_sections\", \"work_program_id\", work_program_id)\n",
    "data"
   ],
   "metadata": {
    "collapsed": false,
    "pycharm": {
     "name": "#%%\n"
    }
   }
  },
  {
   "cell_type": "code",
   "execution_count": 4,
   "outputs": [
    {
     "data": {
      "text/plain": "[{'id': '42316',\n  'work_program_id': '3229',\n  'field_id': '1',\n  'data': 'ТЕСТ\\n',\n  'check': '1'},\n {'id': '42317',\n  'work_program_id': '3229',\n  'field_id': '2',\n  'data': '1. Анисина, С. С. Организация планирования в органах внутренних дел Российской Федерации [Электронный ресурс]: учебно-практическое пособие / С. С. Анисина, Э. Г. Юзиханова. - Тюмень: ТИПК МВД России, 2018. - 106 с. - URL: http://www.liborui.ru. - Режим доступа: для авторизир. пользователей\\n2. Бавсун, И. Г. Основы управления в органах внутренних дел [Электронный ресурс]: учебное пособие / И. Г. Бавсун. - Омск: Омская академия МВД России, 2017. - 152 с. - URL: http://www.liborui.ru. - Режим доступа: для авторизир. пользователей\\n3. Власов, Б. Е. Программно-целевое управление в органах внутренних дел [Электронный ресурс]: учебное пособие / Б. Е. Власов. - М.: АУ МВД России, 2018. - 120 с. - URL: http://www.liborui.ru. - Режим доступа: для авторизир. пользователей\\n4. Михайлов, В. И. Функции руководителя по управлению служебным коллективом [Электронный ресурс]: учебное пособие / В. И. Михайлов, В. А. Колесников, Л. В. Чернышова; ред. А. С. Ханахмедов. - Уфа: УЮИ МВД России, 2018. - 38 с. - URL: http://www.liborui.ru. - Режим доступа: для авторизир. пользователей \\n5. Организация аналитической работы в органах внутренних дел [Электронный ресурс]: учебное пособие / А. Е. Линкевич [и др.]. - Уфа: УЮИ МВД России, 2017. - 78 с. - URL: http://www.liborui.ru. - Режим доступа: для авторизир. пользователей \\n6. Основы управления в органах внутренних дел [Электронный ресурс]: учебное наглядное пособие / А. Н. Осяк, К. А. Корчагина, Т. Н. Шаповалова. - Ростов н/Д: ФГКОУ ВО РЮИ МВД России, 2018. - 48 с. - URL: http://www.liborui.ru. - Режим доступа: для авторизир. пользователей\\n7. Планирование как важнейшая функция управления в ОВД [Электронный ресурс]: учебное пособие / А. Е. Линкевич, В. А. Колесников, В. И. Михайлов; под общ. ред. Ф. Б. Мухаметшина. - Уфа: УЮИ МВД России, 2017. - 50 с. - URL: http://www.liborui.ru. - Режим доступа: для авторизир. пользователей\\n8. Применение современных инфокоммуникационных технологий в управлении деятельностью подразделений органов внутренних дел [Текст]: учебно-практическое пособие / К. М. Бондарь [и др.]. - М.: ДГСК МВД России, 2018. - 192 с. \\n9. Служебное совещание в системе управления правоохранительными органами: учебник для студентов вузов / И. В. Грошев, И. А. Калиниченко, А. А. Краснослободцев [и др.]. - Москва: ЮНИТИ-ДАНА, 2017. - 183 c. - ISBN 978-5-238-02886-6. - Текст: электронный // Электронно-библиотечная система IPR BOOKS: [сайт]. - URL: http://www.iprbookshop.ru/71164.html. - Режим доступа: для авторизир. пользователей\\n10. Сухов, С. Н. Сервисы единой системы информационно-аналитического обеспечения деятельности МВД России [Электронный ресурс]: учебно-практическое пособие / С. Н. Сухов, С. А. Смирнов, А. В. Макаров. - Н. Новгород: НА МВД России, 2017. - 45 с. - URL: http://www.liborui.ru. - Режим доступа: для авторизир. пользователей \\n11. Теоретические основы и практика работы кадровых подразделений органов внутренних дел Российской Федерации по вопросам прохождения службы [Электронный ресурс]: учебно-практическое пособие / В.К. Русаков [и др.]. - М.: АУ МВД России, 2017. - 88 с. - URL: http://www.liborui.ru. - Режим доступа: для авторизир. пользователей\\n',\n  'check': '1'},\n {'id': '42318',\n  'work_program_id': '3229',\n  'field_id': '3',\n  'data': 'Загружено ТЕСТ',\n  'check': '1'},\n {'id': '42319',\n  'work_program_id': '3229',\n  'field_id': '8',\n  'data': 'Обеспечение самостоятельной работы',\n  'check': '1'},\n {'id': '42320',\n  'work_program_id': '3229',\n  'field_id': '9',\n  'data': 'задачи',\n  'check': '1'},\n {'id': '42321',\n  'work_program_id': '3229',\n  'field_id': '10',\n  'data': 'практикум',\n  'check': '1'},\n {'id': '42322',\n  'work_program_id': '3229',\n  'field_id': '11',\n  'data': None,\n  'check': '1'},\n {'id': '42323',\n  'work_program_id': '3229',\n  'field_id': '12',\n  'data': 'тематика курс работ',\n  'check': '1'},\n {'id': '42324',\n  'work_program_id': '3229',\n  'field_id': '13',\n  'data': 'тематика контр работ',\n  'check': '1'},\n {'id': '42325',\n  'work_program_id': '3229',\n  'field_id': '15',\n  'data': 'Программное обеспечение',\n  'check': '1'},\n {'id': '42326',\n  'work_program_id': '3229',\n  'field_id': '16',\n  'data': 'Нормативные акты',\n  'check': '1'},\n {'id': '42327',\n  'work_program_id': '3229',\n  'field_id': '17',\n  'data': 'Базы данных, информационно-справочные и поисковые системы',\n  'check': '1'},\n {'id': '42328',\n  'work_program_id': '3229',\n  'field_id': '18',\n  'data': 'Ресурсы информационно-телекоммуникационной сети \"Интернет\"',\n  'check': '1'},\n {'id': '42329',\n  'work_program_id': '3229',\n  'field_id': '19',\n  'data': 'тесты',\n  'check': '1'},\n {'id': '42330',\n  'work_program_id': '3229',\n  'field_id': '20',\n  'data': 'Описание материально-технической базы, необходимой для осуществления образовательного процесса по дисциплине',\n  'check': '1'},\n {'id': '42331',\n  'work_program_id': '3229',\n  'field_id': '29',\n  'data': 'Автор(ы) рабочей программы (для печати',\n  'check': '1'},\n {'id': '42332',\n  'work_program_id': '3229',\n  'field_id': '30',\n  'data': 'Пояснение к таблице с последующими дисциплинами',\n  'check': '1'},\n {'id': '42333',\n  'work_program_id': '3229',\n  'field_id': '31',\n  'data': 'Примечание к тематическому плану ',\n  'check': '1'},\n {'id': '42334',\n  'work_program_id': '3229',\n  'field_id': '32',\n  'data': 'критерии оценки для сдачи пром аттестации',\n  'check': '1'},\n {'id': '42335',\n  'work_program_id': '3229',\n  'field_id': '33',\n  'data': 'Примерные оценочные средства для проведения промежуточной аттестации обучающихся по дисциплине',\n  'check': '1'}]"
     },
     "execution_count": 4,
     "metadata": {},
     "output_type": "execute_result"
    }
   ],
   "source": [
    "work_program_id = 3229\n",
    "data = db_filter_req(\"mm_work_programs_data\", \"work_program_id\", work_program_id)\n",
    "data"
   ],
   "metadata": {
    "collapsed": false,
    "pycharm": {
     "name": "#%%\n"
    }
   }
  },
  {
   "cell_type": "code",
   "execution_count": 6,
   "outputs": [
    {
     "data": {
      "text/plain": "[{'id': '19938',\n  'work_program_id': '3229',\n  'competency_id': '4565',\n  'field_id': '1',\n  'value': '1'}]"
     },
     "execution_count": 6,
     "metadata": {},
     "output_type": "execute_result"
    }
   ],
   "source": [
    "work_program_id = 3229\n",
    "data = db_filter_req(\"mm_work_programs_competencies_data\", \"work_program_id\", work_program_id)\n",
    "data"
   ],
   "metadata": {
    "collapsed": false,
    "pycharm": {
     "name": "#%%\n"
    }
   }
  }
 ],
 "metadata": {
  "kernelspec": {
   "display_name": "Python 3",
   "language": "python",
   "name": "python3"
  },
  "language_info": {
   "codemirror_mode": {
    "name": "ipython",
    "version": 2
   },
   "file_extension": ".py",
   "mimetype": "text/x-python",
   "name": "python",
   "nbconvert_exporter": "python",
   "pygments_lexer": "ipython2",
   "version": "2.7.6"
  }
 },
 "nbformat": 4,
 "nbformat_minor": 0
}