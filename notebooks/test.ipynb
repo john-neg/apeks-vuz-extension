{
 "cells": [
  {
   "cell_type": "code",
   "execution_count": null,
   "metadata": {
    "collapsed": true
   },
   "outputs": [],
   "source": []
  },
  {
   "cell_type": "code",
   "execution_count": 3,
   "outputs": [
    {
     "name": "stdout",
     "output_type": "stream",
     "text": [
      "{'Дисциплины (модули), в том числе направленные на подготовку к сдаче кандидатских экзаменов': ['None', 'УК-4'], 'Иностранный язык': ['None'], 'История и философия науки': ['None'], 'Уголовный процесс': ['None'], 'Дисциплины (модули), в том числе направленные на подготовку к преподавательской деятельности': ['None'], 'Педагогика и психология высшей школы (модуль)': ['None'], 'Введение в педагогическую профессию': ['None'], 'Педагогика высшей школы': ['УК-6'], 'Педагогическая психология высшей школы': [], 'Технологии профессионально-ориентированного обучения (модуль)': ['None'], 'Культура и техника труда преподавателя высшей школы': ['None'], 'Технологии и методика профессионально-ориентированного обучения': ['УК-4', 'ОПК-3'], 'Методология и методы научного исследования (модуль)': ['None'], 'Методология подготовки и проведения научного исследования': ['None'], 'Этика научного исследования': ['None'], 'Философия права': ['None'], 'Философия образования': ['УК-6'], 'Прикладные методы научного исследования': ['None'], 'Информационные технологии в науке и образовании': ['ОПК-3'], 'Практика по получению профессиональных умений и опыта профессиональной деятельности (педагогическая практика)': ['None'], 'Практика по получению профессиональных умений и опыта профессиональной деятельности (научно-исследовательская практика)': ['УК-5'], 'Научно-исследовательская деятельность': ['None'], 'Подготовка научно-квалификационной работы (диссертации) на соискание ученой степени кандидата наук': ['УК-6'], 'Подготовка к сдаче и сдача государственного экзамена по педагогике и психологии высшей школы': ['None'], 'Научный доклад об основных результатах подготовленной научно-квалификационной работы (диссертации)': ['УК-4'], 'Организация научной деятельности в образовательных и научных организациях МВД России': ['None'], 'Организация учебного процесса в образовательных организациях высшего образования МВД России': ['None']}\n",
      "\n",
      "[]\n"
     ]
    }
   ],
   "source": [
    "from app.plans.models import CompPlan\n",
    "from app.main.func import xlsx_iter_rows\n",
    "from openpyxl import load_workbook\n",
    "\n",
    "plan = CompPlan(117)\n",
    "filename = 'Матрица.xlsx'\n",
    "\n",
    "wb = load_workbook(filename)\n",
    "ws = wb.active\n",
    "liblist = list(xlsx_iter_rows(ws))\n",
    "report = {}\n",
    "comp_code_errors = []\n",
    "for disc in plan.disciplines:\n",
    "    report[plan.disciplines[disc][1]] = []\n",
    "    for line in liblist:\n",
    "        if plan.disciplines[disc][1] == line[1]:\n",
    "            for i in range(2, len(line)):\n",
    "                if str(line[i]) == \"+\":\n",
    "                    report[plan.disciplines[disc][1]].append(liblist[0][i])\n",
    "            if not report[plan.disciplines[disc][1]]:\n",
    "                report[plan.disciplines[disc][1]] = ['None']\n",
    "for i in range(2, len(liblist[0])):\n",
    "    if not plan.get_comp_id_by_code(liblist[0][i]):\n",
    "        comp_code_errors.append(liblist[0][i])\n",
    "\n",
    "print(report)\n",
    "print()\n",
    "print(comp_code_errors)"
   ],
   "metadata": {
    "collapsed": false,
    "pycharm": {
     "name": "#%%\n"
    }
   }
  },
  {
   "cell_type": "code",
   "execution_count": 2,
   "outputs": [
    {
     "name": "stdout",
     "output_type": "stream",
     "text": [
      "9499 4557\n",
      "9503 4557\n",
      "9508 4559\n",
      "9512 4557\n",
      "9512 4562\n",
      "9519 4559\n",
      "9523 4562\n",
      "9527 4558\n",
      "9531 4559\n",
      "9535 4557\n"
     ]
    }
   ],
   "source": [
    "from app.plans.func import disciplines_comp_load\n",
    "\n",
    "wb = load_workbook(filename)\n",
    "ws = wb.active\n",
    "liblist = list(xlsx_iter_rows(ws))\n",
    "load_data = {}\n",
    "for disc in plan.disciplines:\n",
    "    load_data[disc] = []\n",
    "    for line in liblist:\n",
    "        if plan.disciplines[disc][1] == line[1]:\n",
    "            for i in range(2, len(line)):\n",
    "                if str(line[i]) == \"+\":\n",
    "                    load_data[disc].append(plan.get_comp_id_by_code(liblist[0][i]))\n",
    "for data in load_data:\n",
    "    if load_data.get(data):\n",
    "        for comp in load_data.get(data):\n",
    "            if comp is not None:\n",
    "                print(data, comp)"
   ],
   "metadata": {
    "collapsed": false,
    "pycharm": {
     "name": "#%%\n"
    }
   }
  }
 ],
 "metadata": {
  "kernelspec": {
   "display_name": "Python 3",
   "language": "python",
   "name": "python3"
  },
  "language_info": {
   "codemirror_mode": {
    "name": "ipython",
    "version": 2
   },
   "file_extension": ".py",
   "mimetype": "text/x-python",
   "name": "python",
   "nbconvert_exporter": "python",
   "pygments_lexer": "ipython2",
   "version": "2.7.6"
  }
 },
 "nbformat": 4,
 "nbformat_minor": 0
}