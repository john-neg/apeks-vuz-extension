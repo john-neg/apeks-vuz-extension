{
 "cells": [
  {
   "cell_type": "code",
   "execution_count": null,
   "metadata": {
    "collapsed": true
   },
   "outputs": [],
   "source": [
    "from lxml import etree\n",
    "\n",
    "xml = '<cube color=\"blue\"><cube color=\"red\"><cube color=\"green\"></cube></cube><cube color=\"red\"></cube></cube>'\n",
    "\n",
    "\n",
    "def xmlfunc(level, number):\n",
    "    number += 1\n",
    "    if len(level):\n",
    "        for i in range(len(level)):\n",
    "            res[level[i].get(\"color\")] += number\n",
    "            if len(level[i]):\n",
    "                xmlfunc(level[i], number)\n",
    "\n",
    "\n",
    "res = {\"red\": 0, \"green\": 0, \"blue\": 0}\n",
    "root = etree.fromstring(xml)\n",
    "res[root.get(\"color\")] += 1\n",
    "xmlfunc(root, 1)\n",
    "print(res[\"red\"], res[\"green\"], res[\"blue\"])"
   ]
  },
  {
   "cell_type": "code",
   "execution_count": 5,
   "outputs": [],
   "source": [
    "from app.plans.models import CompPlan\n",
    "from app.main.func import xlsx_iter_rows, db_filter_req\n",
    "from openpyxl import load_workbook\n",
    "\n",
    "plan = CompPlan(149)"
   ],
   "metadata": {
    "collapsed": false,
    "pycharm": {
     "name": "#%%\n"
    }
   }
  },
  {
   "cell_type": "code",
   "execution_count": 8,
   "outputs": [],
   "source": [
    "plan_data = db_filter_req(\n",
    "            \"plan_curriculum_disciplines\", \"education_plan_id\", 52\n",
    "        )"
   ],
   "metadata": {
    "collapsed": false,
    "pycharm": {
     "name": "#%%\n"
    }
   }
  },
  {
   "cell_type": "code",
   "execution_count": 1,
   "outputs": [],
   "source": [
    "from app.main.func import plan_curriculum_disciplines\n",
    "\n",
    "d = plan_curriculum_disciplines(149)"
   ],
   "metadata": {
    "collapsed": false,
    "pycharm": {
     "name": "#%%\n"
    }
   }
  },
  {
   "cell_type": "code",
   "execution_count": 2,
   "outputs": [
    {
     "data": {
      "text/plain": "{'10424': ['Б.1.Б.01.02', 'История и философия науки'],\n '10427': ['Б.1.В.01.01', 'Административное право; административный процесс'],\n '10430': ['Б.1.В.02.01.01', 'Введение в педагогическую профессию'],\n '10431': ['Б.1.В.02.01.02', 'Педагогика высшей школы'],\n '10432': ['Б.1.В.02.01.03', 'Педагогическая психология высшей школы'],\n '10434': ['Б.1.В.02.02.01',\n  'Культура и техника труда преподавателя высшей школы'],\n '10435': ['Б.1.В.02.02.02',\n  'Технологии и методика профессионально-ориентированного обучения'],\n '10437': ['Б.1.В.02.03.01',\n  'Методология подготовки и проведения научного исследования'],\n '10438': ['Б.1.В.02.03.02', 'Этика научного исследования'],\n '10441': ['Б.1.В.ДВ.01.01', 'Философия права'],\n '10442': ['Б.1.В.ДВ.01.02', 'Философия образования'],\n '10445': ['Б.1.В.ДВ.02.01', 'Прикладные методы научного исследования'],\n '10446': ['Б.1.В.ДВ.02.02',\n  'Информационные технологии в науке и образовании'],\n '10449': ['Б.2.В.1',\n  'Практика по получению профессиональных умений и опыта профессиональной деятельности (педагогическая практика)'],\n '10450': ['Б.2.В.2',\n  'Практика по получению профессиональных умений и опыта профессиональной деятельности (научно-исследовательская практика)'],\n '10453': ['Б.3.В.1', 'Научно-исследовательская деятельность'],\n '10454': ['Б.3.В.2',\n  'Подготовка научно-квалификационной работы (диссертации) на соискание ученой степени кандидата наук'],\n '10457': ['Б.4.Б.1',\n  'Подготовка к сдаче и сдача государственного экзамена по педагогике и психологии высшей школы'],\n '10458': ['Б.4.Б.2',\n  'Научный доклад об основных результатах подготовленной научно-квалификационной работы (диссертации)'],\n '10461': ['ФТД.01',\n  'Организация научной деятельности в образовательных и научных организациях МВД России'],\n '10462': ['ФТД.02',\n  'Организация учебного процесса в образовательных организациях высшего образования МВД России'],\n '10802': ['Б.1.Б.01.01', 'Иностранный язык']}"
     },
     "execution_count": 2,
     "metadata": {},
     "output_type": "execute_result"
    }
   ],
   "source": [
    "d"
   ],
   "metadata": {
    "collapsed": false,
    "pycharm": {
     "name": "#%%\n"
    }
   }
  },
  {
   "cell_type": "code",
   "execution_count": 12,
   "outputs": [
    {
     "name": "stdout",
     "output_type": "stream",
     "text": [
      "{'id': '4896', 'education_plan_id': '52', 'code': 'Б.2', 'discipline_id': '92', 'credit_unit_value': None, 'hours': None, 'semesters': None, 'control_type_id': None, 'level': '1', 'type': '1', 'department_id': None, 'left_node': '185', 'right_node': '190', 'settings': None}\n",
      "{'id': '4897', 'education_plan_id': '52', 'code': 'УП', 'discipline_id': '93', 'credit_unit_value': None, 'hours': None, 'semesters': None, 'control_type_id': None, 'level': '3', 'type': '1', 'department_id': '13', 'left_node': '186', 'right_node': '187', 'settings': None}\n",
      "{'id': '4898', 'education_plan_id': '52', 'code': 'ПП', 'discipline_id': '94', 'credit_unit_value': None, 'hours': None, 'semesters': None, 'control_type_id': None, 'level': '3', 'type': '1', 'department_id': '13', 'left_node': '188', 'right_node': '189', 'settings': None}\n",
      "{'id': '4899', 'education_plan_id': '52', 'code': 'Б.3', 'discipline_id': '95', 'credit_unit_value': None, 'hours': None, 'semesters': None, 'control_type_id': None, 'level': '1', 'type': '4', 'department_id': None, 'left_node': '191', 'right_node': '196', 'settings': None}\n",
      "{'id': '4900', 'education_plan_id': '52', 'code': 'Б.3.1', 'discipline_id': '235', 'credit_unit_value': None, 'hours': None, 'semesters': None, 'control_type_id': None, 'level': '3', 'type': '4', 'department_id': '18', 'left_node': '192', 'right_node': '193', 'settings': None}\n",
      "{'id': '4901', 'education_plan_id': '52', 'code': 'Б.3.2', 'discipline_id': '236', 'credit_unit_value': None, 'hours': None, 'semesters': None, 'control_type_id': None, 'level': '3', 'type': '4', 'department_id': '13', 'left_node': '194', 'right_node': '195', 'settings': None}\n",
      "{'id': '5563', 'education_plan_id': '52', 'code': 'Б.1.В.ЭД.1', 'discipline_id': '302', 'credit_unit_value': None, 'hours': None, 'semesters': None, 'control_type_id': None, 'level': '2', 'type': '8', 'department_id': None, 'left_node': '124', 'right_node': '129', 'settings': None}\n",
      "{'id': '5566', 'education_plan_id': '52', 'code': 'Б.1.В.ЭД.2', 'discipline_id': '302', 'credit_unit_value': None, 'hours': None, 'semesters': None, 'control_type_id': None, 'level': '2', 'type': '8', 'department_id': None, 'left_node': '130', 'right_node': '135', 'settings': None}\n",
      "{'id': '5569', 'education_plan_id': '52', 'code': 'Б.1.В.ЭД.3', 'discipline_id': '302', 'credit_unit_value': None, 'hours': None, 'semesters': None, 'control_type_id': None, 'level': '2', 'type': '8', 'department_id': None, 'left_node': '136', 'right_node': '141', 'settings': None}\n",
      "{'id': '5572', 'education_plan_id': '52', 'code': 'Б.1.В.ЭД.4', 'discipline_id': '302', 'credit_unit_value': None, 'hours': None, 'semesters': None, 'control_type_id': None, 'level': '2', 'type': '8', 'department_id': None, 'left_node': '142', 'right_node': '147', 'settings': None}\n",
      "{'id': '5575', 'education_plan_id': '52', 'code': 'Б.1.В.ЭД.5', 'discipline_id': '302', 'credit_unit_value': None, 'hours': None, 'semesters': None, 'control_type_id': None, 'level': '2', 'type': '8', 'department_id': None, 'left_node': '148', 'right_node': '153', 'settings': None}\n",
      "{'id': '5578', 'education_plan_id': '52', 'code': 'Б.1.В.ЭД.6', 'discipline_id': '302', 'credit_unit_value': None, 'hours': None, 'semesters': None, 'control_type_id': None, 'level': '2', 'type': '8', 'department_id': None, 'left_node': '154', 'right_node': '159', 'settings': None}\n",
      "{'id': '5581', 'education_plan_id': '52', 'code': 'Б.1.В.ЭД.7', 'discipline_id': '302', 'credit_unit_value': None, 'hours': None, 'semesters': None, 'control_type_id': None, 'level': '2', 'type': '8', 'department_id': None, 'left_node': '160', 'right_node': '165', 'settings': None}\n",
      "{'id': '5584', 'education_plan_id': '52', 'code': 'Б.1.В.ЭД.8', 'discipline_id': '302', 'credit_unit_value': None, 'hours': None, 'semesters': None, 'control_type_id': None, 'level': '2', 'type': '8', 'department_id': None, 'left_node': '166', 'right_node': '171', 'settings': None}\n",
      "{'id': '5587', 'education_plan_id': '52', 'code': 'Б.1.В.ЭД.9', 'discipline_id': '302', 'credit_unit_value': None, 'hours': None, 'semesters': None, 'control_type_id': None, 'level': '2', 'type': '8', 'department_id': None, 'left_node': '172', 'right_node': '177', 'settings': None}\n",
      "{'id': '5590', 'education_plan_id': '52', 'code': 'Б.1.В.ЭД.10', 'discipline_id': '302', 'credit_unit_value': None, 'hours': None, 'semesters': None, 'control_type_id': None, 'level': '2', 'type': '8', 'department_id': None, 'left_node': '178', 'right_node': '183', 'settings': None}\n"
     ]
    }
   ],
   "source": [
    "for i in plan_data:\n",
    "    if i['type'] is not None:\n",
    "        print(i)"
   ],
   "metadata": {
    "collapsed": false,
    "pycharm": {
     "name": "#%%\n"
    }
   }
  },
  {
   "cell_type": "code",
   "execution_count": 134,
   "outputs": [],
   "source": [
    "from config import FlaskConfig\n",
    "from app.plans.models import MatrixIndicatorsFile\n",
    "\n",
    "matrix = MatrixIndicatorsFile(FlaskConfig.UPLOAD_FILE_DIR + '40.03.01 Юриспруденция 3++ (Ответы).xlsx')"
   ],
   "metadata": {
    "collapsed": false,
    "pycharm": {
     "name": "#%%\n"
    }
   }
  },
  {
   "cell_type": "code",
   "execution_count": 132,
   "outputs": [
    {
     "data": {
      "text/plain": "True"
     },
     "execution_count": 132,
     "metadata": {},
     "output_type": "execute_result"
    }
   ],
   "source": [
    "matrix.file_data[160][1] == 'None'"
   ],
   "metadata": {
    "collapsed": false,
    "pycharm": {
     "name": "#%%\n"
    }
   }
  },
  {
   "cell_type": "code",
   "execution_count": 135,
   "outputs": [
    {
     "data": {
      "text/plain": "['Б.1.О.1 Философия',\n 'Б.1.О.2 История государства и права России',\n 'Б.1.О.3 История государства и права зарубежных стран',\n 'Б.1.О.4 Иностранный язык',\n 'Б.1.О.5 Иностранный язык в сфере юриспруденции',\n 'Б.1.О.6 Безопасность жизнедеятельности',\n 'Б.1.О.7 Теория государства и права',\n 'Б.1.О.8 Конституционное право',\n 'Б.1.О.9 Административное право',\n 'Б.1.О.10 Гражданское право',\n 'Б.1.О.11 Гражданский процесс',\n 'Б.1.О.12 Арбитражный процесс',\n 'Б.1О.13 Трудовое право',\n 'Б.1О.14 Уголовное право',\n 'Б.1.О.15 Уголовный процесс',\n 'Б.1.О.16 Экологическое право',\n 'Б.1.О.17 Земельное право',\n 'Б.1.О.18 Финансовое право',\n 'Б.1.О.19 Налоговое право',\n 'Б.1.О.20 Предпринимательское право',\n 'Б.1.О.21 Международное право',\n 'Б.1.О.22 Международное частное право',\n 'Б.1.О.23 Криминалистика',\n 'Б.1.О.24 Криминология',\n 'Б.1.О.25 Право социального обеспечения',\n 'Б.1.О.26 Семейное право',\n 'Б.1.О.27 Информационные технологии в юридической деятельности',\n 'Б.1.О.28 Правоохранительные органы',\n 'Б.1.О.29 Административно-процессуальное право',\n 'Б.1.О.30 Уголовно-исполнительное право',\n 'Б.1.О.31 Экономика',\n 'Б.1.О.32 Социология',\n 'Б.1.О.33 Профессиональная этика и служебный этикет',\n 'Б.1.О.34 Психология',\n 'Б.1.О.35 Русский язык в деловой документации',\n 'Б.1.О.36 Риторика',\n 'Б.1.О.37 Физическая культура и спорт',\n 'Б.1.В.1 Административная деятельность полиции',\n 'Б.1.В.2 Основы оперативно-розыскной деятельности органов внутренних дел',\n 'Б.1.В.3 Практикум по административной юрисдикции органов внутренних дел',\n 'Б.1.В.4 Социально-психологический тренинг профессионального общения',\n 'Б.1.В.5 Организация деятельности участкового уполномоченного полиции',\n 'Б.1.В.6 Психология в деятельности сотрудников органов внутренних дел',\n 'Б.1.В.7 Судебная медицина и судебная психиатрия',\n 'Б.1.В.8 Основы управления в органах внутренних дел',\n 'Б.1.В.9 Обеспечение прав человека в деятельности органов внутренних дел',\n 'Б.1.В.10 Специальная техника органов внутренних дел',\n 'Б.1.В.11 Делопроизводство и режим секретности',\n 'Б.1.В.12 Взаимодействие сотрудника полиции с лицами с ограниченными возможностями здоровья в социальной и профессиональной сферах',\n 'Б.1.В.13 Тактико-специальная подготовка',\n 'Б.1.В.14 Огневая подготовка',\n 'Б.1.В.15 Личная безопасность сотрудников органов внутренних дел',\n 'Б.1.В.16 Первая помощь',\n 'Б.1.В.17 Предупреждение преступлений и административных правонарушений органами внутренних дел',\n 'Б.1.В.18 Государственная служба в органах внутренних дел',\n 'Б.1.В.19 История органов внутренних дел',\n 'Б.1.В.20 Основы кибербезопасности',\n 'Б.1.В.ЭД.1.1 Правовая статистика',\n 'Б.1.В.ЭД.1.2 Основы информационной безопасности органов внутренних дел',\n 'Б.1В.ЭД.2.1 Прокурорский надзор',\n 'Б.1В.ЭД.2.2 Дознание в органах внутренних дел',\n 'Б.1В.ЭД.3.1 Практикум по особенностям квалификации отдельных видов преступлений',\n 'Б.1В.ЭД.3.2 Практикум по работе со следами преступлений',\n 'Б.1В.ЭД.4.1 Государственно-правовые основы миграции и миграционных процессов',\n 'Б.1В.ЭД.4.2 Предупреждение коррупции в органах внутренних дел и формирование антикоррупционного поведения сотрудников и работников органов внутренних дел',\n 'ФТД1 Актуальные проблемы административного права и административной деятельности полиции']"
     },
     "execution_count": 135,
     "metadata": {},
     "output_type": "execute_result"
    }
   ],
   "source": [
    "disc_list = []\n",
    "for row in range(1, len(matrix.file_data)):\n",
    "    if matrix.file_data[row][1] and matrix.file_data[row][1] != 'None':\n",
    "        disc_list.append(matrix.file_data[row][1])\n",
    "disc_list"
   ],
   "metadata": {
    "collapsed": false,
    "pycharm": {
     "name": "#%%\n"
    }
   }
  },
  {
   "cell_type": "code",
   "execution_count": 51,
   "outputs": [
    {
     "data": {
      "text/plain": "['Б.1.О.1 Философия',\n 'Б.1.О.2 История государства и права России',\n 'Б.1.О.3 История государства и права зарубежных стран',\n 'Б.1.О.4 Иностранный язык',\n 'Б.1.О.5 Иностранный язык в сфере юриспруденции',\n 'Б.1.О.6 Безопасность жизнедеятельности',\n 'Б.1.О.7 Теория государства и права',\n 'Б.1.О.8 Конституционное право',\n 'Б.1.О.9 Административное право',\n 'Б.1.О.10 Гражданское право',\n 'Б.1.О.11 Гражданский процесс',\n 'Б.1.О.12 Арбитражный процесс',\n 'Б.1О.13 Трудовое право',\n 'Б.1О.14 Уголовное право',\n 'Б.1.О.15 Уголовный процесс',\n 'Б.1.О.16 Экологическое право',\n 'Б.1.О.17 Земельное право',\n 'Б.1.О.18 Финансовое право',\n 'Б.1.О.19 Налоговое право',\n 'Б.1.О.20 Предпринимательское право',\n 'Б.1.О.21 Международное право',\n 'Б.1.О.22 Международное частное право',\n 'Б.1.О.23 Криминалистика',\n 'Б.1.О.24 Криминология',\n 'Б.1.О.25 Право социального обеспечения',\n 'Б.1.О.26 Семейное право',\n 'Б.1.О.27 Информационные технологии в юридической деятельности',\n 'Б.1.О.28 Правоохранительные органы',\n 'Б.1.О.29 Административно-процессуальное право',\n 'Б.1.О.30 Уголовно-исполнительное право',\n 'Б.1.О.31 Экономика',\n 'Б.1.О.32 Социология',\n 'Б.1.О.33 Профессиональная этика и служебный этикет',\n 'Б.1.О.34 Психология',\n 'Б.1.О.35 Русский язык в деловой документации',\n 'Б.1.О.36 Риторика',\n 'Б.1.О.37 Физическая культура и спорт',\n 'Б.1.В.1 Административная деятельность полиции',\n 'Б.1.В.2 Основы оперативно-розыскной деятельности органов внутренних дел',\n 'Б.1.В.3 Практикум по административной юрисдикции органов внутренних дел',\n 'Б.1.В.4 Социально-психологический тренинг профессионального общения',\n 'Б.1.В.5 Организация деятельности участкового уполномоченного полиции',\n 'Б.1.В.6 Психология в деятельности сотрудников органов внутренних дел',\n 'Б.1.В.7 Судебная медицина и судебная психиатрия',\n 'Б.1.В.8 Основы управления в органах внутренних дел',\n 'Б.1.В.9 Обеспечение прав человека в деятельности органов внутренних дел',\n 'Б.1.В.10 Специальная техника органов внутренних дел',\n 'Б.1.В.11 Делопроизводство и режим секретности',\n 'Б.1.В.12 Взаимодействие сотрудника полиции с лицами с ограниченными возможностями здоровья в социальной и профессиональной сферах',\n 'Б.1.В.13 Тактико-специальная подготовка',\n 'Б.1.В.14 Огневая подготовка',\n 'Б.1.В.15 Личная безопасность сотрудников органов внутренних дел',\n 'Б.1.В.16 Первая помощь',\n 'Б.1.В.17 Предупреждение преступлений и административных правонарушений органами внутренних дел',\n 'Б.1.В.18 Государственная служба в органах внутренних дел',\n 'Б.1.В.19 История органов внутренних дел',\n 'Б.1.В.20 Основы кибербезопасности',\n 'Б.1.В.ЭД.1.1 Правовая статистика',\n 'Б.1.В.ЭД.1.2 Основы информационной безопасности органов внутренних дел',\n 'Б.1В.ЭД.2.1 Прокурорский надзор',\n 'Б.1В.ЭД.2.2 Дознание в органах внутренних дел',\n 'Б.1В.ЭД.3.1 Практикум по особенностям квалификации отдельных видов преступлений',\n 'Б.1В.ЭД.3.2 Практикум по работе со следами преступлений',\n 'Б.1В.ЭД.4.1 Государственно-правовые основы миграции и миграционных процессов',\n 'Б.1В.ЭД.4.2 Предупреждение коррупции в органах внутренних дел и формирование антикоррупционного поведения сотрудников и работников органов внутренних дел',\n 'ФТД1 Актуальные проблемы административного права и административной деятельности полиции',\n 'None',\n 'None',\n 'None',\n 'None',\n 'None',\n 'None',\n 'None',\n 'None',\n 'None',\n 'None',\n 'None',\n 'None',\n 'None',\n 'None',\n 'None',\n 'None',\n 'None',\n 'None',\n 'None',\n 'None',\n 'None',\n 'None',\n 'None',\n 'None',\n 'None',\n 'None',\n 'None',\n 'None',\n 'None',\n 'None',\n 'None',\n 'None',\n 'None',\n 'None',\n 'None',\n 'None',\n 'None',\n 'None',\n 'None',\n 'None',\n 'None',\n 'None',\n 'None',\n 'None',\n 'None',\n 'None',\n 'None',\n 'None',\n 'None',\n 'None',\n 'None',\n 'None',\n 'None',\n 'None',\n 'None',\n 'None',\n 'None',\n 'None',\n 'None',\n 'None',\n 'None',\n 'None',\n 'None',\n 'None',\n 'None',\n 'None',\n 'None',\n 'None',\n 'None',\n 'None',\n 'None',\n 'None',\n 'None',\n 'None',\n 'None',\n 'None',\n 'None',\n 'None',\n 'None',\n 'None',\n 'None',\n 'None',\n 'None',\n 'None',\n 'None',\n 'None',\n 'None',\n 'None',\n 'None',\n 'None',\n 'None',\n 'None',\n 'None',\n 'None',\n 'None',\n 'None',\n 'None',\n 'None']"
     },
     "execution_count": 51,
     "metadata": {},
     "output_type": "execute_result"
    }
   ],
   "source": [
    "matrix.disciplines_list"
   ],
   "metadata": {
    "collapsed": false,
    "pycharm": {
     "name": "#%%\n"
    }
   }
  },
  {
   "cell_type": "code",
   "execution_count": 34,
   "outputs": [
    {
     "data": {
      "text/plain": "[]"
     },
     "execution_count": 34,
     "metadata": {},
     "output_type": "execute_result"
    }
   ],
   "source": [
    "not_found = []\n",
    "extensions_to_check = [\".з.\", \".у.\", \".в.\"]\n",
    "for k in range(2, len(matrix.file_data[0])):\n",
    "    if matrix.file_data[0][k] and matrix.file_data[0][k] != 'None':\n",
    "        if all(ext not in matrix.file_data[0][k] for ext in extensions_to_check):\n",
    "            not_found.append(matrix.file_data[0][k])\n",
    "not_found"
   ],
   "metadata": {
    "collapsed": false,
    "pycharm": {
     "name": "#%%\n"
    }
   }
  },
  {
   "cell_type": "code",
   "execution_count": 77,
   "outputs": [
    {
     "ename": "IndexError",
     "evalue": "list index out of range",
     "output_type": "error",
     "traceback": [
      "\u001B[1;31m---------------------------------------------------------------------------\u001B[0m",
      "\u001B[1;31mIndexError\u001B[0m                                Traceback (most recent call last)",
      "\u001B[1;32m~\\AppData\\Local\\Temp/ipykernel_780/206465582.py\u001B[0m in \u001B[0;36m<module>\u001B[1;34m\u001B[0m\n\u001B[0;32m      4\u001B[0m \u001B[1;33m\u001B[0m\u001B[0m\n\u001B[0;32m      5\u001B[0m \u001B[1;32mfor\u001B[0m \u001B[0mi\u001B[0m \u001B[1;32min\u001B[0m \u001B[0mrange\u001B[0m\u001B[1;33m(\u001B[0m\u001B[0mlen\u001B[0m\u001B[1;33m(\u001B[0m\u001B[0ma\u001B[0m\u001B[1;33m)\u001B[0m\u001B[1;33m)\u001B[0m\u001B[1;33m:\u001B[0m\u001B[1;33m\u001B[0m\u001B[1;33m\u001B[0m\u001B[0m\n\u001B[1;32m----> 6\u001B[1;33m     \u001B[1;32mif\u001B[0m \u001B[0ma\u001B[0m\u001B[1;33m[\u001B[0m\u001B[1;33m-\u001B[0m\u001B[0mi\u001B[0m\u001B[1;33m]\u001B[0m\u001B[1;33m[\u001B[0m\u001B[1;36m1\u001B[0m\u001B[1;33m]\u001B[0m \u001B[1;33m==\u001B[0m \u001B[1;34m'None'\u001B[0m\u001B[1;33m:\u001B[0m\u001B[1;33m\u001B[0m\u001B[1;33m\u001B[0m\u001B[0m\n\u001B[0m\u001B[0;32m      7\u001B[0m         \u001B[1;32mdel\u001B[0m \u001B[0ma\u001B[0m\u001B[1;33m[\u001B[0m\u001B[1;33m-\u001B[0m\u001B[0mi\u001B[0m\u001B[1;33m]\u001B[0m\u001B[1;33m\u001B[0m\u001B[1;33m\u001B[0m\u001B[0m\n\u001B[0;32m      8\u001B[0m \u001B[1;33m\u001B[0m\u001B[0m\n",
      "\u001B[1;31mIndexError\u001B[0m: list index out of range"
     ]
    }
   ],
   "source": [
    "a = matrix.file_data\n",
    "\n",
    "len(a)\n",
    "\n",
    "for i in range(len(a)):\n",
    "    if a[-i][1] == 'None':\n",
    "        del a[-i]\n",
    "\n",
    "len(a)"
   ],
   "metadata": {
    "collapsed": false,
    "pycharm": {
     "name": "#%%\n"
    }
   }
  },
  {
   "cell_type": "code",
   "execution_count": 122,
   "outputs": [],
   "source": [
    "from openpyxl import load_workbook\n",
    "\n",
    "wb = load_workbook(FlaskConfig.UPLOAD_FILE_DIR + '40.03.01 Юриспруденция 3++ (Ответы).xlsx')\n",
    "ws = wb.active\n",
    "        self.normalize()\n",
    "        self.file_data = list(xlsx_iter_rows(self.ws))"
   ],
   "metadata": {
    "collapsed": false,
    "pycharm": {
     "name": "#%%\n"
    }
   }
  },
  {
   "cell_type": "code",
   "execution_count": null,
   "outputs": [],
   "source": [],
   "metadata": {
    "collapsed": false,
    "pycharm": {
     "name": "#%%\n"
    }
   }
  },
  {
   "cell_type": "code",
   "execution_count": 121,
   "outputs": [
    {
     "name": "stdout",
     "output_type": "stream",
     "text": [
      "68 None\n",
      "69 None\n",
      "70 None\n",
      "71 None\n",
      "72 None\n",
      "73 None\n",
      "74 None\n",
      "75 None\n",
      "76 None\n",
      "77 None\n",
      "78 None\n",
      "79 None\n",
      "80 None\n",
      "81 None\n",
      "82 None\n",
      "83 None\n",
      "84 None\n",
      "85 None\n",
      "86 None\n",
      "87 None\n",
      "88 None\n",
      "89 None\n",
      "90 None\n",
      "91 None\n",
      "92 None\n",
      "93 None\n",
      "94 None\n",
      "95 None\n",
      "96 None\n",
      "97 None\n",
      "98 None\n",
      "99 None\n",
      "100 None\n",
      "101 None\n",
      "102 None\n",
      "103 None\n",
      "104 None\n",
      "105 None\n",
      "106 None\n",
      "107 None\n",
      "108 None\n",
      "109 None\n",
      "110 None\n",
      "111 None\n",
      "112 None\n",
      "113 None\n",
      "114 None\n",
      "115 None\n",
      "116 None\n",
      "117 None\n",
      "118 None\n",
      "119 None\n",
      "120 None\n",
      "121 None\n",
      "122 None\n",
      "123 None\n",
      "124 None\n",
      "125 None\n",
      "126 None\n",
      "127 None\n",
      "128 None\n",
      "129 None\n",
      "130 None\n",
      "131 None\n",
      "132 None\n",
      "133 None\n",
      "134 None\n",
      "135 None\n",
      "136 None\n",
      "137 None\n",
      "138 None\n",
      "139 None\n",
      "140 None\n",
      "141 None\n",
      "142 None\n",
      "143 None\n",
      "144 None\n",
      "145 None\n",
      "146 None\n",
      "147 None\n",
      "148 None\n",
      "149 None\n",
      "150 None\n",
      "151 None\n",
      "152 None\n",
      "153 None\n",
      "154 None\n",
      "155 None\n",
      "156 None\n",
      "157 None\n",
      "158 None\n",
      "159 None\n",
      "160 None\n",
      "161 None\n",
      "162 None\n",
      "163 None\n",
      "164 None\n",
      "165 None\n"
     ]
    }
   ],
   "source": [
    "for i in range(1, ws.max_row):\n",
    "    if ws.cell(i, 2).value is None:\n",
    "        print(i, ws.cell(i, 2).value)"
   ],
   "metadata": {
    "collapsed": false,
    "pycharm": {
     "name": "#%%\n"
    }
   }
  },
  {
   "cell_type": "code",
   "execution_count": 115,
   "outputs": [],
   "source": [
    "for i in range(1, ws.max_row):\n",
    "    if ws.cell(i, 2).value == 'None':\n",
    "        print(i)"
   ],
   "metadata": {
    "collapsed": false,
    "pycharm": {
     "name": "#%%\n"
    }
   }
  },
  {
   "cell_type": "code",
   "execution_count": 105,
   "outputs": [
    {
     "name": "stdout",
     "output_type": "stream",
     "text": [
      "166\n",
      "116\n"
     ]
    }
   ],
   "source": [
    "print(ws.max_row)\n",
    "\n",
    "for i in range(1, ws.max_row):\n",
    "    if ws.cell(i, 2).value is None or ws.cell(i, 2).value == 'None':\n",
    "        ws.delete_rows(i)\n",
    "\n",
    "print(ws.max_row)"
   ],
   "metadata": {
    "collapsed": false,
    "pycharm": {
     "name": "#%%\n"
    }
   }
  },
  {
   "cell_type": "code",
   "execution_count": 58,
   "outputs": [
    {
     "name": "stdout",
     "output_type": "stream",
     "text": [
      "68\n",
      "69\n",
      "70\n",
      "71\n",
      "72\n",
      "73\n",
      "74\n",
      "75\n",
      "76\n",
      "77\n",
      "78\n",
      "79\n",
      "80\n",
      "81\n",
      "82\n",
      "83\n",
      "84\n",
      "85\n",
      "86\n",
      "87\n",
      "88\n",
      "89\n",
      "90\n",
      "91\n",
      "92\n",
      "93\n",
      "94\n",
      "95\n",
      "96\n",
      "97\n",
      "98\n",
      "99\n"
     ]
    }
   ],
   "source": [
    "for i in range(1, ws.max_row):\n",
    "    if ws.cell(i, 2).value is None:\n",
    "        print(i)"
   ],
   "metadata": {
    "collapsed": false,
    "pycharm": {
     "name": "#%%\n"
    }
   }
  },
  {
   "cell_type": "code",
   "execution_count": null,
   "outputs": [],
   "source": [
    "for row in ws.iter_rows():\n",
    "    i = 1\n",
    "    if row[i].internal_value() == None:\n",
    "        ws.delete_rows(row, 2)"
   ],
   "metadata": {
    "collapsed": false,
    "pycharm": {
     "name": "#%%\n"
    }
   }
  },
  {
   "cell_type": "code",
   "execution_count": 7,
   "outputs": [
    {
     "data": {
      "text/plain": "0"
     },
     "execution_count": 7,
     "metadata": {},
     "output_type": "execute_result"
    }
   ],
   "source": [
    "2 // 5"
   ],
   "metadata": {
    "collapsed": false,
    "pycharm": {
     "name": "#%%\n"
    }
   }
  }
 ],
 "metadata": {
  "kernelspec": {
   "display_name": "Python 3",
   "language": "python",
   "name": "python3"
  },
  "language_info": {
   "codemirror_mode": {
    "name": "ipython",
    "version": 2
   },
   "file_extension": ".py",
   "mimetype": "text/x-python",
   "name": "python",
   "nbconvert_exporter": "python",
   "pygments_lexer": "ipython2",
   "version": "2.7.6"
  }
 },
 "nbformat": 4,
 "nbformat_minor": 0
}