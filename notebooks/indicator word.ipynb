{
 "cells": [
  {
   "cell_type": "code",
   "execution_count": 55,
   "metadata": {
    "collapsed": true
   },
   "outputs": [],
   "source": [
    "import os\n",
    "from config import FlaskConfig\n",
    "from app.plans.models import MatrixIndicatorsFile\n",
    "from docx import Document\n",
    "from docx.enum.text import WD_PARAGRAPH_ALIGNMENT, WD_LINE_SPACING\n",
    "# from docx.enum.text import WD_ALIGN_PARAGRAPH,\n",
    "from docx.shared import Pt, Cm\n",
    "\n",
    "file = \"matrix_ind.temp.xlsx\"\n",
    "filename = FlaskConfig.UPLOAD_FILE_DIR + file\n",
    "name = os.path.splitext(os.path.basename(FlaskConfig.UPLOAD_FILE_DIR + file))[0]\n",
    "\n",
    "matrix = MatrixIndicatorsFile(filename)"
   ]
  },
  {
   "cell_type": "markdown",
   "source": [],
   "metadata": {
    "collapsed": false,
    "pycharm": {
     "name": "#%% md\n"
    }
   }
  },
  {
   "cell_type": "code",
   "source": [
    "document = Document()\n",
    "\n",
    "section = document.sections[-1]\n",
    "section.top_margin = Cm(1) #Верхний отступ\n",
    "section.bottom_margin = Cm(1) #Нижний отступ\n",
    "section.left_margin = Cm(1) #Отступ слева\n",
    "section.right_margin = Cm(1) #Отступ справа\n",
    "\n",
    "paragraph_format = document.styles['Normal'].paragraph_format\n",
    "paragraph_format.line_spacing_rule = WD_LINE_SPACING.SINGLE #межстрочный интервал\n",
    "paragraph_format.space_after = Pt(0) #между абзацами\n",
    "\n",
    "style = document.styles['Normal']\n",
    "font = style.font\n",
    "font.name ='Times New Roman' #Стиль шрифта\n",
    "font.size = Pt(12)\n",
    "\n",
    "document.add_heading(name, 0)\n",
    "p = document.add_paragraph('Индикаторы компетенций по дисциплинам')\n",
    "\n",
    "for row in range(1, len(matrix.file_data)):\n",
    "    document.add_page_break()\n",
    "    document.add_heading(matrix.file_data[row][1], level=1)\n",
    "    # Список компетенций\n",
    "    disc_data = matrix.disc_comp(matrix.file_data[row][1])\n",
    "    document.add_paragraph(', '.join(list(disc_data.keys())))\n",
    "    # Индикаторы\n",
    "    indicator_types = {\"knowledge\": \"Знать:\", \"abilities\": \"Уметь:\", \"ownerships\": \"Владеть:\"}\n",
    "    for typ in indicator_types:\n",
    "        document.add_paragraph('')\n",
    "        p = document.add_paragraph('')\n",
    "        p.add_run(indicator_types[typ]).bold = True\n",
    "        load = []\n",
    "        for d in disc_data:\n",
    "            for ind in range(len(disc_data[d][typ])):\n",
    "                paragraph = document.add_paragraph('- ' + disc_data[d][typ][ind])\n",
    "                paragraph.add_run(';')\n",
    "                paragraph.alignment = WD_PARAGRAPH_ALIGNMENT.JUSTIFY\n",
    "\n",
    "document.save(name + '.docx')"
   ],
   "metadata": {
    "collapsed": false,
    "pycharm": {
     "name": "#%%\n"
    }
   },
   "execution_count": 56,
   "outputs": []
  },
  {
   "cell_type": "code",
   "execution_count": 32,
   "outputs": [
    {
     "name": "stdout",
     "output_type": "stream",
     "text": [
      "['нормы официально-делового стиля коммуникации, правила составления и оформления текстов деловых бумаг, формулы речевого этикета (УК-4.з.1)', 'юридическую лексику (УК-4.з.2)', 'лексический минимум, достаточный для осуществления профессионального взаимодействия на иностранном(ых) языке(ах) (УК-4.з.3)']\n",
      "['социокультурные особенности российского общества и основных мировых цивилизаций (УК-5.з.1)', 'гуманистические принципы межкультурного взаимодействия (УК-5.з.2)']\n",
      "['содержание основных понятий и категории, основные историко-правовые источники, процесс становления и развития основных отраслей и институтов права; становление и развитие основных правовых систем, их особенности (ОПК-4.з.2)']\n",
      "['правила грамматики, фонетики и орфографии русского языка (изучаемого иностранного языка) (ПК-19.з.1)']\n"
     ]
    }
   ],
   "source": [
    "disc_data = matrix.disc_comp(matrix.file_data[1][1])\n",
    "\n"
   ],
   "metadata": {
    "collapsed": false,
    "pycharm": {
     "name": "#%%\n"
    }
   }
  }
 ],
 "metadata": {
  "kernelspec": {
   "display_name": "Python 3",
   "language": "python",
   "name": "python3"
  },
  "language_info": {
   "codemirror_mode": {
    "name": "ipython",
    "version": 2
   },
   "file_extension": ".py",
   "mimetype": "text/x-python",
   "name": "python",
   "nbconvert_exporter": "python",
   "pygments_lexer": "ipython2",
   "version": "2.7.6"
  }
 },
 "nbformat": 4,
 "nbformat_minor": 0
}