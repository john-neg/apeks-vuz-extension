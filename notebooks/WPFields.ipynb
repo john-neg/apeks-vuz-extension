{
 "cells": [
  {
   "cell_type": "code",
   "execution_count": 2,
   "metadata": {
    "collapsed": true,
    "pycharm": {
     "name": "#%%\n"
    }
   },
   "outputs": [],
   "source": [
    "import requests\n",
    "\n",
    "\n",
    "class ApeksAPI(object):\n",
    "    URL = 'https://avtorvuz.orurinst.site'\n",
    "    TOKEN = 'b41dfa22-0a72-477f-9f05-995b8409863a'\n",
    "    APEKS_DEPT_ID = '4'  # ID of Department divisions type\n",
    "\n",
    "def db_request(dbname):\n",
    "    \"\"\"DB request function without filter\"\"\"\n",
    "    params = {\"token\": ApeksAPI.TOKEN, \"table\": dbname}\n",
    "    response = requests.get(\n",
    "        ApeksAPI.URL + \"/api/call/system-database/get\", params=params\n",
    "    )\n",
    "    return response.json()[\"data\"]\n",
    "\n",
    "\n",
    "def db_filter_req(dbname, sqltable, sqlvalue):\n",
    "    \"\"\"Filtered DB request (DB table, filter, value)\"\"\"\n",
    "    params = {\n",
    "        \"token\": ApeksAPI.TOKEN,\n",
    "        \"table\": dbname,\n",
    "        \"filter[\" + sqltable + \"]\": str(sqlvalue),\n",
    "    }\n",
    "    response = requests.get(\n",
    "        ApeksAPI.URL + \"/api/call/system-database/get\", params=params\n",
    "    )\n",
    "    return response.json()[\"data\"]\n",
    "\n",
    "\n",
    "def plan_curriculum_disciplines(education_plan_id):\n",
    "    \"\"\"Getting disciplines info as dict (disc_ID:[disc_code:disc_name])\"\"\"\n",
    "    disciplines = {}\n",
    "    resp = db_filter_req(\n",
    "        \"plan_curriculum_disciplines\", \"education_plan_id\", education_plan_id\n",
    "    )\n",
    "    for disc in resp:\n",
    "        if disc[\"level\"] == \"3\":\n",
    "            disciplines[disc[\"id\"]] = [\n",
    "                disc[\"code\"],\n",
    "                db_filter_req(\"plan_disciplines\", \"id\", disc[\"discipline_id\"])[0][\"name\"],\n",
    "            ]\n",
    "    return disciplines\n",
    "\n",
    "def education_plans(education_specialty_id, year='0'):\n",
    "    \"\"\"Getting education plans with selected speciality\"\"\"\n",
    "    payload = {\n",
    "        \"token\": ApeksAPI.TOKEN,\n",
    "        \"table\": \"plan_education_plans\",\n",
    "        \"filter[data_type]\": \"plan\",\n",
    "        \"filter[education_specialty_id]\": education_specialty_id,\n",
    "        \"filter[active]\": \"1\",\n",
    "    }\n",
    "    request = requests.get(\n",
    "        ApeksAPI.URL + \"/api/call/system-database/get\", params=payload\n",
    "    )\n",
    "    plans = {}\n",
    "    if year == '0':\n",
    "        for i in request.json()[\"data\"]:\n",
    "            plans[i.get(\"id\")] = i.get(\"name\")\n",
    "        return plans\n",
    "    else:\n",
    "        for i in request.json()[\"data\"]:\n",
    "            if i.get(\"custom_start_year\") == str(year):\n",
    "                plans[i.get(\"id\")] = i.get(\"name\")\n",
    "            elif i.get(\"custom_start_year\") is None:\n",
    "                if db_filter_req('plan_semesters', 'education_plan_id', i.get(\"id\"))[0]['start_date'].split('-')[0] == str(year):\n",
    "                    plans[i.get(\"id\")] = i.get(\"name\")\n",
    "        return plans"
   ]
  },
  {
   "cell_type": "code",
   "execution_count": 6,
   "outputs": [],
   "source": [
    "from app.programs.models import WorkProgram\n",
    "\n",
    "wp = WorkProgram(10465)"
   ],
   "metadata": {
    "collapsed": false,
    "pycharm": {
     "name": "#%%\n"
    }
   }
  },
  {
   "cell_type": "code",
   "execution_count": 7,
   "outputs": [
    {
     "ename": "IndexError",
     "evalue": "list index out of range",
     "output_type": "error",
     "traceback": [
      "\u001B[1;31m---------------------------------------------------------------------------\u001B[0m",
      "\u001B[1;31mIndexError\u001B[0m                                Traceback (most recent call last)",
      "\u001B[1;32m~\\AppData\\Local\\Temp/ipykernel_9232/3801109322.py\u001B[0m in \u001B[0;36m<module>\u001B[1;34m\u001B[0m\n\u001B[1;32m----> 1\u001B[1;33m \u001B[0mwp\u001B[0m\u001B[1;33m.\u001B[0m\u001B[0mget\u001B[0m\u001B[1;33m(\u001B[0m\u001B[1;34m'tasks'\u001B[0m\u001B[1;33m)\u001B[0m\u001B[1;33m\u001B[0m\u001B[1;33m\u001B[0m\u001B[0m\n\u001B[0m",
      "\u001B[1;32mD:\\PyCharm\\app\\programs\\models.py\u001B[0m in \u001B[0;36mget\u001B[1;34m(self, parameter)\u001B[0m\n\u001B[0;32m     80\u001B[0m             \u001B[1;32mreturn\u001B[0m \u001B[1;34mf\"Дата заседания кафедры: {date_department}\\r\\nПротокол № {document_department}\"\u001B[0m\u001B[1;33m\u001B[0m\u001B[1;33m\u001B[0m\u001B[0m\n\u001B[0;32m     81\u001B[0m         \u001B[1;32melif\u001B[0m \u001B[0mparameter\u001B[0m \u001B[1;32min\u001B[0m \u001B[0mself\u001B[0m\u001B[1;33m.\u001B[0m\u001B[0mmm_sections_items\u001B[0m\u001B[1;33m:\u001B[0m\u001B[1;33m\u001B[0m\u001B[1;33m\u001B[0m\u001B[0m\n\u001B[1;32m---> 82\u001B[1;33m             return db_filter_req(\n\u001B[0m\u001B[0;32m     83\u001B[0m                 \u001B[1;34m\"mm_sections\"\u001B[0m\u001B[1;33m,\u001B[0m \u001B[1;34m\"work_program_id\"\u001B[0m\u001B[1;33m,\u001B[0m \u001B[0mself\u001B[0m\u001B[1;33m.\u001B[0m\u001B[0mwork_program_id\u001B[0m\u001B[1;33m\u001B[0m\u001B[1;33m\u001B[0m\u001B[0m\n\u001B[0;32m     84\u001B[0m             )[-1][self.mm_sections_items.get(parameter)]\n",
      "\u001B[1;31mIndexError\u001B[0m: list index out of range"
     ]
    }
   ],
   "source": [
    "wp.get('tasks')"
   ],
   "metadata": {
    "collapsed": false,
    "pycharm": {
     "name": "#%%\n"
    }
   }
  }
 ],
 "metadata": {
  "kernelspec": {
   "display_name": "Python 3",
   "language": "python",
   "name": "python3"
  },
  "language_info": {
   "codemirror_mode": {
    "name": "ipython",
    "version": 2
   },
   "file_extension": ".py",
   "mimetype": "text/x-python",
   "name": "python",
   "nbconvert_exporter": "python",
   "pygments_lexer": "ipython2",
   "version": "2.7.6"
  }
 },
 "nbformat": 4,
 "nbformat_minor": 0
}