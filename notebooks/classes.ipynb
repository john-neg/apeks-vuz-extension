{
 "cells": [
  {
   "cell_type": "code",
   "execution_count": 7,
   "id": "authorized-arena",
   "metadata": {},
   "outputs": [],
   "source": [
    "class ApeksAPI:\n",
    "    TOKEN = 'b41dfa22-0a72-477f-9f05-995b8409863a'\n",
    "    URL = 'https://avtorvuz.orurinst.site'  \n",
    "    \n",
    "\n",
    "        "
   ]
  },
  {
   "cell_type": "code",
   "execution_count": null,
   "id": "1c3f0c06-1ad6-48af-9031-e6f9ce51a714",
   "metadata": {},
   "outputs": [],
   "source": []
  }
 ],
 "metadata": {
  "kernelspec": {
   "display_name": "Python 3 (ipykernel)",
   "language": "python",
   "name": "python3"
  },
  "language_info": {
   "codemirror_mode": {
    "name": "ipython",
    "version": 3
   },
   "file_extension": ".py",
   "mimetype": "text/x-python",
   "name": "python",
   "nbconvert_exporter": "python",
   "pygments_lexer": "ipython3",
   "version": "3.8.10"
  }
 },
 "nbformat": 4,
 "nbformat_minor": 5
}