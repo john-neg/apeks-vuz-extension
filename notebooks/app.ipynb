{
 "cells": [
  {
   "cell_type": "code",
   "execution_count": 1,
   "id": "intense-donna",
   "metadata": {},
   "outputs": [],
   "source": [
    "import requests\n",
    "import pandas as pd\n",
    "from numpy import nan\n",
    "\n",
    "%run classes.ipynb\n",
    "%run functions.ipynb"
   ]
  },
  {
   "cell_type": "code",
   "execution_count": 1,
   "id": "stunning-brooklyn",
   "metadata": {},
   "outputs": [],
   "source": [
    "from app.plans.models import CompPlan\n",
    "\n",
    "plan = CompPlan(133)\n",
    "# matrix = CompMatrix('40.03.02 Обеспечение законности и правопорядка (Ответы).xlsx')"
   ]
  },
  {
   "cell_type": "code",
   "execution_count": 5,
   "id": "dying-start",
   "metadata": {
    "tags": []
   },
   "outputs": [
    {
     "data": {
      "text/plain": "{'10463': ['Б.1.О.34',\n  'Делопроизводство и режим секретности в органах внутренних дел'],\n '10464': ['Б.1.О.35', 'Основы управления в органах внутренних дел'],\n '10465': ['Б.1.В.ЭД.3.02',\n  'Обеспечение прав человека в деятельности органов внутренних дел'],\n '10466': ['Б.1.О.25', 'Криминология'],\n '10550': ['Б.1.О.38', 'Административная деятельность полиции']}"
     },
     "execution_count": 5,
     "metadata": {},
     "output_type": "execute_result"
    }
   ],
   "source": [
    "plan.disciplines  # Получение списка дисциплин плана"
   ]
  },
  {
   "cell_type": "code",
   "execution_count": 31,
   "id": "auburn-record",
   "metadata": {
    "collapsed": true,
    "jupyter": {
     "outputs_hidden": true
    },
    "tags": []
   },
   "outputs": [
    {
     "data": {
      "text/plain": "[{'id': '4541',\n  'education_plan_id': '133',\n  'code': '11',\n  'description': 'as',\n  'level': '1',\n  'left_node': '1',\n  'right_node': '2'},\n {'id': '4542',\n  'education_plan_id': '133',\n  'code': '22',\n  'description': '22',\n  'level': '1',\n  'left_node': '3',\n  'right_node': '4'}]"
     },
     "execution_count": 31,
     "metadata": {},
     "output_type": "execute_result"
    }
   ],
   "source": [
    "plan.competencies  # Получение списка компетенций плана"
   ]
  },
  {
   "cell_type": "code",
   "execution_count": 21,
   "outputs": [
    {
     "data": {
      "text/plain": "{'status': 1, 'data': 2}"
     },
     "execution_count": 21,
     "metadata": {},
     "output_type": "execute_result"
    }
   ],
   "source": [
    "from config import ApeksAPI\n",
    "\n",
    "params = {'token': ApeksAPI.TOKEN,\n",
    "          'table': 'plan_curriculum_discipline_competencies',\n",
    "          'filter[curriculum_discipline_id]': 10464}\n",
    "resp = requests.delete(ApeksAPI.URL + '/api/call/system-database/delete', params=params)\n",
    "resp.json()"
   ],
   "metadata": {
    "collapsed": false,
    "pycharm": {
     "name": "#%%\n"
    }
   }
  },
  {
   "cell_type": "code",
   "execution_count": 24,
   "outputs": [
    {
     "data": {
      "text/plain": "[{'curriculum_discipline_id': '10464', 'competency_id': '4541'},\n {'curriculum_discipline_id': '10464', 'competency_id': '4542'},\n {'curriculum_discipline_id': '10465', 'competency_id': '4542'},\n {'curriculum_discipline_id': '10466', 'competency_id': '4541'}]"
     },
     "execution_count": 24,
     "metadata": {},
     "output_type": "execute_result"
    }
   ],
   "source": [
    "plan.disciplines_comp()  # Получение связей дисциплин и компетенций"
   ],
   "metadata": {
    "collapsed": false,
    "pycharm": {
     "name": "#%%\n"
    }
   }
  },
  {
   "cell_type": "code",
   "execution_count": 5,
   "outputs": [
    {
     "data": {
      "text/plain": "{'Б.1.О.35 Основы управления в органах внутренних дел': ['as', '22'],\n 'Б.1.В.ЭД.3.02 Обеспечение прав человека в деятельности органов внутренних дел': ['22'],\n 'Б.1.О.25 Криминология': ['as']}"
     },
     "execution_count": 5,
     "metadata": {},
     "output_type": "execute_result"
    }
   ],
   "source": [
    "data = plan.disciplines_comp()\n",
    "mtrx_dict = {}\n",
    "dics_id = 0\n",
    "if data:\n",
    "    for i in data:\n",
    "        if dics_id == i['curriculum_discipline_id']:\n",
    "            mtrx_dict[plan.discipline_name(i['curriculum_discipline_id'])].append(plan.get_comp_code_by_id(i['competency_id']))\n",
    "        else:\n",
    "            mtrx_dict[plan.discipline_name(i['curriculum_discipline_id'])] = [plan.get_comp_code_by_id(i['competency_id'])]\n",
    "            dics_id = i['curriculum_discipline_id']\n",
    "mtrx_dict"
   ],
   "metadata": {
    "collapsed": false,
    "pycharm": {
     "name": "#%%\n"
    }
   }
  },
  {
   "cell_type": "code",
   "execution_count": 31,
   "outputs": [],
   "source": [
    "plan_disc = db_filter_req(\n",
    "        \"plan_curriculum_disciplines\", \"education_plan_id\", 41\n",
    "    )"
   ],
   "metadata": {
    "collapsed": false,
    "pycharm": {
     "name": "#%%\n"
    }
   }
  },
  {
   "cell_type": "code",
   "execution_count": 48,
   "outputs": [
    {
     "data": {
      "text/plain": "[{'curriculum_discipline_id': '3725', 'competency_id': '3275'},\n {'curriculum_discipline_id': '3725', 'competency_id': '3276'},\n {'curriculum_discipline_id': '3725', 'competency_id': '3279'},\n {'curriculum_discipline_id': '3725', 'competency_id': '3280'},\n {'curriculum_discipline_id': '3725', 'competency_id': '3286'},\n {'curriculum_discipline_id': '3725', 'competency_id': '3287'},\n {'curriculum_discipline_id': '3725', 'competency_id': '3295'},\n {'curriculum_discipline_id': '3725', 'competency_id': '3309'},\n {'curriculum_discipline_id': '3726', 'competency_id': '3286'},\n {'curriculum_discipline_id': '3726', 'competency_id': '3289'},\n {'curriculum_discipline_id': '3727', 'competency_id': '3286'},\n {'curriculum_discipline_id': '3727', 'competency_id': '3289'},\n {'curriculum_discipline_id': '3728', 'competency_id': '3278'},\n {'curriculum_discipline_id': '3728', 'competency_id': '3290'},\n {'curriculum_discipline_id': '3728', 'competency_id': '3313'},\n {'curriculum_discipline_id': '3729', 'competency_id': '3278'},\n {'curriculum_discipline_id': '3729', 'competency_id': '3290'},\n {'curriculum_discipline_id': '3730', 'competency_id': '3282'},\n {'curriculum_discipline_id': '3730', 'competency_id': '3297'},\n {'curriculum_discipline_id': '3730', 'competency_id': '3302'},\n {'curriculum_discipline_id': '3730', 'competency_id': '3306'},\n {'curriculum_discipline_id': '3730', 'competency_id': '3321'},\n {'curriculum_discipline_id': '3730', 'competency_id': '3322'},\n {'curriculum_discipline_id': '3730', 'competency_id': '3323'},\n {'curriculum_discipline_id': '3730', 'competency_id': '3324'},\n {'curriculum_discipline_id': '3730', 'competency_id': '3325'},\n {'curriculum_discipline_id': '3731', 'competency_id': '3286'},\n {'curriculum_discipline_id': '3731', 'competency_id': '3287'},\n {'curriculum_discipline_id': '3731', 'competency_id': '3288'},\n {'curriculum_discipline_id': '3731', 'competency_id': '3289'},\n {'curriculum_discipline_id': '3731', 'competency_id': '3290'},\n {'curriculum_discipline_id': '3731', 'competency_id': '3291'},\n {'curriculum_discipline_id': '3731', 'competency_id': '3313'},\n {'curriculum_discipline_id': '3732', 'competency_id': '3287'},\n {'curriculum_discipline_id': '3732', 'competency_id': '3291'},\n {'curriculum_discipline_id': '3732', 'competency_id': '3295'},\n {'curriculum_discipline_id': '3732', 'competency_id': '3336'},\n {'curriculum_discipline_id': '3732', 'competency_id': '3346'},\n {'curriculum_discipline_id': '3733', 'competency_id': '3275'},\n {'curriculum_discipline_id': '3733', 'competency_id': '3276'},\n {'curriculum_discipline_id': '3733', 'competency_id': '3287'},\n {'curriculum_discipline_id': '3733', 'competency_id': '3289'},\n {'curriculum_discipline_id': '3733', 'competency_id': '3295'},\n {'curriculum_discipline_id': '3733', 'competency_id': '3314'},\n {'curriculum_discipline_id': '3733', 'competency_id': '3317'},\n {'curriculum_discipline_id': '3734', 'competency_id': '3287'},\n {'curriculum_discipline_id': '3734', 'competency_id': '3289'},\n {'curriculum_discipline_id': '3734', 'competency_id': '3295'},\n {'curriculum_discipline_id': '3735', 'competency_id': '3289'},\n {'curriculum_discipline_id': '3735', 'competency_id': '3295'},\n {'curriculum_discipline_id': '3736', 'competency_id': '3275'},\n {'curriculum_discipline_id': '3736', 'competency_id': '3287'},\n {'curriculum_discipline_id': '3736', 'competency_id': '3289'},\n {'curriculum_discipline_id': '3736', 'competency_id': '3295'},\n {'curriculum_discipline_id': '3737', 'competency_id': '3287'},\n {'curriculum_discipline_id': '3737', 'competency_id': '3289'},\n {'curriculum_discipline_id': '3737', 'competency_id': '3295'},\n {'curriculum_discipline_id': '3738', 'competency_id': '3275'},\n {'curriculum_discipline_id': '3738', 'competency_id': '3285'},\n {'curriculum_discipline_id': '3738', 'competency_id': '3286'},\n {'curriculum_discipline_id': '3738', 'competency_id': '3287'},\n {'curriculum_discipline_id': '3738', 'competency_id': '3289'},\n {'curriculum_discipline_id': '3738', 'competency_id': '3298'},\n {'curriculum_discipline_id': '3738', 'competency_id': '3326'},\n {'curriculum_discipline_id': '3739', 'competency_id': '3287'},\n {'curriculum_discipline_id': '3739', 'competency_id': '3296'},\n {'curriculum_discipline_id': '3739', 'competency_id': '3314'},\n {'curriculum_discipline_id': '3739', 'competency_id': '3315'},\n {'curriculum_discipline_id': '3739', 'competency_id': '3316'},\n {'curriculum_discipline_id': '3739', 'competency_id': '3320'},\n {'curriculum_discipline_id': '3739', 'competency_id': '3326'},\n {'curriculum_discipline_id': '3739', 'competency_id': '3330'},\n {'curriculum_discipline_id': '3740', 'competency_id': '3282'},\n {'curriculum_discipline_id': '3740', 'competency_id': '3287'},\n {'curriculum_discipline_id': '3740', 'competency_id': '3290'},\n {'curriculum_discipline_id': '3740', 'competency_id': '3295'},\n {'curriculum_discipline_id': '3741', 'competency_id': '3282'},\n {'curriculum_discipline_id': '3741', 'competency_id': '3287'},\n {'curriculum_discipline_id': '3741', 'competency_id': '3290'},\n {'curriculum_discipline_id': '3741', 'competency_id': '3295'},\n {'curriculum_discipline_id': '3742', 'competency_id': '3284'},\n {'curriculum_discipline_id': '3742', 'competency_id': '3286'},\n {'curriculum_discipline_id': '3742', 'competency_id': '3287'},\n {'curriculum_discipline_id': '3742', 'competency_id': '3295'},\n {'curriculum_discipline_id': '3743', 'competency_id': '3287'},\n {'curriculum_discipline_id': '3743', 'competency_id': '3289'},\n {'curriculum_discipline_id': '3743', 'competency_id': '3295'},\n {'curriculum_discipline_id': '3744', 'competency_id': '3275'},\n {'curriculum_discipline_id': '3744', 'competency_id': '3287'},\n {'curriculum_discipline_id': '3744', 'competency_id': '3289'},\n {'curriculum_discipline_id': '3744', 'competency_id': '3295'},\n {'curriculum_discipline_id': '3745', 'competency_id': '3275'},\n {'curriculum_discipline_id': '3745', 'competency_id': '3287'},\n {'curriculum_discipline_id': '3745', 'competency_id': '3333'},\n {'curriculum_discipline_id': '3746', 'competency_id': '3275'},\n {'curriculum_discipline_id': '3746', 'competency_id': '3287'},\n {'curriculum_discipline_id': '3746', 'competency_id': '3289'},\n {'curriculum_discipline_id': '3746', 'competency_id': '3295'},\n {'curriculum_discipline_id': '3747', 'competency_id': '3277'},\n {'curriculum_discipline_id': '3747', 'competency_id': '3290'},\n {'curriculum_discipline_id': '3747', 'competency_id': '3296'},\n {'curriculum_discipline_id': '3747', 'competency_id': '3298'},\n {'curriculum_discipline_id': '3747', 'competency_id': '3302'},\n {'curriculum_discipline_id': '3747', 'competency_id': '3315'},\n {'curriculum_discipline_id': '3747', 'competency_id': '3319'},\n {'curriculum_discipline_id': '3747', 'competency_id': '3320'},\n {'curriculum_discipline_id': '3747', 'competency_id': '3329'},\n {'curriculum_discipline_id': '3747', 'competency_id': '3330'},\n {'curriculum_discipline_id': '3747', 'competency_id': '3332'},\n {'curriculum_discipline_id': '3748', 'competency_id': '3275'},\n {'curriculum_discipline_id': '3748', 'competency_id': '3286'},\n {'curriculum_discipline_id': '3748', 'competency_id': '3298'},\n {'curriculum_discipline_id': '3748', 'competency_id': '3318'},\n {'curriculum_discipline_id': '3748', 'competency_id': '3337'},\n {'curriculum_discipline_id': '3748', 'competency_id': '3341'},\n {'curriculum_discipline_id': '3749', 'competency_id': '3287'},\n {'curriculum_discipline_id': '3749', 'competency_id': '3289'},\n {'curriculum_discipline_id': '3749', 'competency_id': '3295'},\n {'curriculum_discipline_id': '3750', 'competency_id': '3287'},\n {'curriculum_discipline_id': '3750', 'competency_id': '3289'},\n {'curriculum_discipline_id': '3750', 'competency_id': '3295'},\n {'curriculum_discipline_id': '3751', 'competency_id': '3293'},\n {'curriculum_discipline_id': '3751', 'competency_id': '3294'},\n {'curriculum_discipline_id': '3751', 'competency_id': '3307'},\n {'curriculum_discipline_id': '3752', 'competency_id': '3275'},\n {'curriculum_discipline_id': '3752', 'competency_id': '3285'},\n {'curriculum_discipline_id': '3752', 'competency_id': '3287'},\n {'curriculum_discipline_id': '3752', 'competency_id': '3290'},\n {'curriculum_discipline_id': '3752', 'competency_id': '3292'},\n {'curriculum_discipline_id': '3752', 'competency_id': '3295'},\n {'curriculum_discipline_id': '3752', 'competency_id': '3301'},\n {'curriculum_discipline_id': '3753', 'competency_id': '3285'},\n {'curriculum_discipline_id': '3753', 'competency_id': '3286'},\n {'curriculum_discipline_id': '3753', 'competency_id': '3287'},\n {'curriculum_discipline_id': '3753', 'competency_id': '3288'},\n {'curriculum_discipline_id': '3753', 'competency_id': '3289'},\n {'curriculum_discipline_id': '3753', 'competency_id': '3291'},\n {'curriculum_discipline_id': '3753', 'competency_id': '3295'},\n {'curriculum_discipline_id': '3753', 'competency_id': '3298'},\n {'curriculum_discipline_id': '3753', 'competency_id': '3317'},\n {'curriculum_discipline_id': '3753', 'competency_id': '3318'},\n {'curriculum_discipline_id': '3753', 'competency_id': '3319'},\n {'curriculum_discipline_id': '3753', 'competency_id': '3328'},\n {'curriculum_discipline_id': '3753', 'competency_id': '3336'},\n {'curriculum_discipline_id': '3753', 'competency_id': '3348'},\n {'curriculum_discipline_id': '3754', 'competency_id': '3275'},\n {'curriculum_discipline_id': '3754', 'competency_id': '3286'},\n {'curriculum_discipline_id': '3754', 'competency_id': '3287'},\n {'curriculum_discipline_id': '3754', 'competency_id': '3289'},\n {'curriculum_discipline_id': '3754', 'competency_id': '3346'},\n {'curriculum_discipline_id': '3755', 'competency_id': '3284'},\n {'curriculum_discipline_id': '3755', 'competency_id': '3287'},\n {'curriculum_discipline_id': '3755', 'competency_id': '3295'},\n {'curriculum_discipline_id': '3756', 'competency_id': '3275'},\n {'curriculum_discipline_id': '3756', 'competency_id': '3279'},\n {'curriculum_discipline_id': '3756', 'competency_id': '3287'},\n {'curriculum_discipline_id': '3756', 'competency_id': '3295'},\n {'curriculum_discipline_id': '3756', 'competency_id': '3309'},\n {'curriculum_discipline_id': '3757', 'competency_id': '3277'},\n {'curriculum_discipline_id': '3757', 'competency_id': '3278'},\n {'curriculum_discipline_id': '3757', 'competency_id': '3279'},\n {'curriculum_discipline_id': '3757', 'competency_id': '3283'},\n {'curriculum_discipline_id': '3757', 'competency_id': '3285'},\n {'curriculum_discipline_id': '3757', 'competency_id': '3292'},\n {'curriculum_discipline_id': '3757', 'competency_id': '3309'},\n {'curriculum_discipline_id': '3758', 'competency_id': '3277'},\n {'curriculum_discipline_id': '3758', 'competency_id': '3279'},\n {'curriculum_discipline_id': '3758', 'competency_id': '3280'},\n {'curriculum_discipline_id': '3758', 'competency_id': '3283'},\n {'curriculum_discipline_id': '3758', 'competency_id': '3309'},\n {'curriculum_discipline_id': '3758', 'competency_id': '3310'},\n {'curriculum_discipline_id': '3758', 'competency_id': '3311'},\n {'curriculum_discipline_id': '3758', 'competency_id': '3312'},\n {'curriculum_discipline_id': '3759', 'competency_id': '3278'},\n {'curriculum_discipline_id': '3759', 'competency_id': '3290'},\n {'curriculum_discipline_id': '3760', 'competency_id': '3278'},\n {'curriculum_discipline_id': '3760', 'competency_id': '3290'},\n {'curriculum_discipline_id': '3760', 'competency_id': '3313'},\n {'curriculum_discipline_id': '3761', 'competency_id': '3281'},\n {'curriculum_discipline_id': '3761', 'competency_id': '3299'},\n {'curriculum_discipline_id': '3761', 'competency_id': '3301'},\n {'curriculum_discipline_id': '3761', 'competency_id': '3303'},\n {'curriculum_discipline_id': '3763', 'competency_id': '3275'},\n {'curriculum_discipline_id': '3763', 'competency_id': '3276'},\n {'curriculum_discipline_id': '3763', 'competency_id': '3282'},\n {'curriculum_discipline_id': '3763', 'competency_id': '3295'},\n {'curriculum_discipline_id': '3763', 'competency_id': '3297'},\n {'curriculum_discipline_id': '3763', 'competency_id': '3298'},\n {'curriculum_discipline_id': '3763', 'competency_id': '3299'},\n {'curriculum_discipline_id': '3763', 'competency_id': '3301'},\n {'curriculum_discipline_id': '3763', 'competency_id': '3308'},\n {'curriculum_discipline_id': '3763', 'competency_id': '3314'},\n {'curriculum_discipline_id': '3763', 'competency_id': '3315'},\n {'curriculum_discipline_id': '3763', 'competency_id': '3317'},\n {'curriculum_discipline_id': '3763', 'competency_id': '3318'},\n {'curriculum_discipline_id': '3763', 'competency_id': '3319'},\n {'curriculum_discipline_id': '3763', 'competency_id': '3322'},\n {'curriculum_discipline_id': '3763', 'competency_id': '3323'},\n {'curriculum_discipline_id': '3763', 'competency_id': '3324'},\n {'curriculum_discipline_id': '3763', 'competency_id': '3325'},\n {'curriculum_discipline_id': '3763', 'competency_id': '3327'},\n {'curriculum_discipline_id': '3763', 'competency_id': '3328'},\n {'curriculum_discipline_id': '3763', 'competency_id': '3329'},\n {'curriculum_discipline_id': '3763', 'competency_id': '3331'},\n {'curriculum_discipline_id': '3763', 'competency_id': '3332'},\n {'curriculum_discipline_id': '3763', 'competency_id': '3334'},\n {'curriculum_discipline_id': '3763', 'competency_id': '3336'},\n {'curriculum_discipline_id': '3763', 'competency_id': '3337'},\n {'curriculum_discipline_id': '3763', 'competency_id': '3338'},\n {'curriculum_discipline_id': '3763', 'competency_id': '3339'},\n {'curriculum_discipline_id': '3763', 'competency_id': '3340'},\n {'curriculum_discipline_id': '3763', 'competency_id': '3343'},\n {'curriculum_discipline_id': '3763', 'competency_id': '3344'},\n {'curriculum_discipline_id': '3763', 'competency_id': '3346'},\n {'curriculum_discipline_id': '3763', 'competency_id': '3347'},\n {'curriculum_discipline_id': '3763', 'competency_id': '3348'},\n {'curriculum_discipline_id': '3764', 'competency_id': '3275'},\n {'curriculum_discipline_id': '3764', 'competency_id': '3295'},\n {'curriculum_discipline_id': '3764', 'competency_id': '3307'},\n {'curriculum_discipline_id': '3764', 'competency_id': '3308'},\n {'curriculum_discipline_id': '3764', 'competency_id': '3329'},\n {'curriculum_discipline_id': '3764', 'competency_id': '3330'},\n {'curriculum_discipline_id': '3764', 'competency_id': '3335'},\n {'curriculum_discipline_id': '3764', 'competency_id': '3337'},\n {'curriculum_discipline_id': '3764', 'competency_id': '3338'},\n {'curriculum_discipline_id': '3764', 'competency_id': '3340'},\n {'curriculum_discipline_id': '3764', 'competency_id': '3347'},\n {'curriculum_discipline_id': '3765', 'competency_id': '3275'},\n {'curriculum_discipline_id': '3765', 'competency_id': '3276'},\n {'curriculum_discipline_id': '3765', 'competency_id': '3298'},\n {'curriculum_discipline_id': '3765', 'competency_id': '3299'},\n {'curriculum_discipline_id': '3765', 'competency_id': '3314'},\n {'curriculum_discipline_id': '3765', 'competency_id': '3315'},\n {'curriculum_discipline_id': '3765', 'competency_id': '3317'},\n {'curriculum_discipline_id': '3765', 'competency_id': '3318'},\n {'curriculum_discipline_id': '3765', 'competency_id': '3322'},\n {'curriculum_discipline_id': '3765', 'competency_id': '3323'},\n {'curriculum_discipline_id': '3765', 'competency_id': '3329'},\n {'curriculum_discipline_id': '3765', 'competency_id': '3332'},\n {'curriculum_discipline_id': '3766', 'competency_id': '3275'},\n {'curriculum_discipline_id': '3766', 'competency_id': '3277'},\n {'curriculum_discipline_id': '3766', 'competency_id': '3278'},\n {'curriculum_discipline_id': '3766', 'competency_id': '3309'},\n {'curriculum_discipline_id': '3766', 'competency_id': '3310'},\n {'curriculum_discipline_id': '3766', 'competency_id': '3311'},\n {'curriculum_discipline_id': '3766', 'competency_id': '3335'},\n {'curriculum_discipline_id': '3767', 'competency_id': '3275'},\n {'curriculum_discipline_id': '3767', 'competency_id': '3282'},\n {'curriculum_discipline_id': '3767', 'competency_id': '3285'},\n {'curriculum_discipline_id': '3767', 'competency_id': '3298'},\n {'curriculum_discipline_id': '3767', 'competency_id': '3299'},\n {'curriculum_discipline_id': '3767', 'competency_id': '3314'},\n {'curriculum_discipline_id': '3767', 'competency_id': '3315'},\n {'curriculum_discipline_id': '3767', 'competency_id': '3316'},\n {'curriculum_discipline_id': '3767', 'competency_id': '3317'},\n {'curriculum_discipline_id': '3767', 'competency_id': '3318'},\n {'curriculum_discipline_id': '3767', 'competency_id': '3320'},\n {'curriculum_discipline_id': '3767', 'competency_id': '3321'},\n {'curriculum_discipline_id': '3767', 'competency_id': '3322'},\n {'curriculum_discipline_id': '3767', 'competency_id': '3323'},\n {'curriculum_discipline_id': '3767', 'competency_id': '3324'},\n {'curriculum_discipline_id': '3767', 'competency_id': '3325'},\n {'curriculum_discipline_id': '3767', 'competency_id': '3326'},\n {'curriculum_discipline_id': '3767', 'competency_id': '3327'},\n {'curriculum_discipline_id': '3767', 'competency_id': '3328'},\n {'curriculum_discipline_id': '3767', 'competency_id': '3329'},\n {'curriculum_discipline_id': '3767', 'competency_id': '3330'},\n {'curriculum_discipline_id': '3767', 'competency_id': '3331'},\n {'curriculum_discipline_id': '3767', 'competency_id': '3332'},\n {'curriculum_discipline_id': '3767', 'competency_id': '3334'},\n {'curriculum_discipline_id': '3767', 'competency_id': '3337'},\n {'curriculum_discipline_id': '3767', 'competency_id': '3338'},\n {'curriculum_discipline_id': '3767', 'competency_id': '3339'},\n {'curriculum_discipline_id': '3767', 'competency_id': '3340'},\n {'curriculum_discipline_id': '3767', 'competency_id': '3341'},\n {'curriculum_discipline_id': '3767', 'competency_id': '3342'},\n {'curriculum_discipline_id': '3767', 'competency_id': '3343'},\n {'curriculum_discipline_id': '3767', 'competency_id': '3344'},\n {'curriculum_discipline_id': '3767', 'competency_id': '3346'},\n {'curriculum_discipline_id': '3767', 'competency_id': '3347'},\n {'curriculum_discipline_id': '3767', 'competency_id': '3348'},\n {'curriculum_discipline_id': '3768', 'competency_id': '3275'},\n {'curriculum_discipline_id': '3768', 'competency_id': '3277'},\n {'curriculum_discipline_id': '3768', 'competency_id': '3278'},\n {'curriculum_discipline_id': '3768', 'competency_id': '3280'},\n {'curriculum_discipline_id': '3768', 'competency_id': '3309'},\n {'curriculum_discipline_id': '3768', 'competency_id': '3310'},\n {'curriculum_discipline_id': '3768', 'competency_id': '3311'},\n {'curriculum_discipline_id': '3768', 'competency_id': '3312'},\n {'curriculum_discipline_id': '3768', 'competency_id': '3335'},\n {'curriculum_discipline_id': '3769', 'competency_id': '3326'},\n {'curriculum_discipline_id': '3769', 'competency_id': '3330'},\n {'curriculum_discipline_id': '3770', 'competency_id': '3275'},\n {'curriculum_discipline_id': '3770', 'competency_id': '3276'},\n {'curriculum_discipline_id': '3770', 'competency_id': '3277'},\n {'curriculum_discipline_id': '3770', 'competency_id': '3282'},\n {'curriculum_discipline_id': '3770', 'competency_id': '3297'},\n {'curriculum_discipline_id': '3770', 'competency_id': '3307'},\n {'curriculum_discipline_id': '3770', 'competency_id': '3324'},\n {'curriculum_discipline_id': '3770', 'competency_id': '3334'},\n {'curriculum_discipline_id': '3770', 'competency_id': '3344'},\n {'curriculum_discipline_id': '3771', 'competency_id': '3275'},\n {'curriculum_discipline_id': '3771', 'competency_id': '3285'},\n {'curriculum_discipline_id': '3771', 'competency_id': '3295'},\n {'curriculum_discipline_id': '3771', 'competency_id': '3333'},\n {'curriculum_discipline_id': '3772', 'competency_id': '3296'},\n {'curriculum_discipline_id': '3772', 'competency_id': '3299'},\n {'curriculum_discipline_id': '3772', 'competency_id': '3300'},\n {'curriculum_discipline_id': '3772', 'competency_id': '3301'},\n {'curriculum_discipline_id': '3772', 'competency_id': '3308'},\n {'curriculum_discipline_id': '3772', 'competency_id': '3319'},\n {'curriculum_discipline_id': '3772', 'competency_id': '3323'},\n {'curriculum_discipline_id': '3773', 'competency_id': '3308'},\n {'curriculum_discipline_id': '3774', 'competency_id': '3275'},\n {'curriculum_discipline_id': '3774', 'competency_id': '3277'},\n {'curriculum_discipline_id': '3774', 'competency_id': '3282'},\n {'curriculum_discipline_id': '3774', 'competency_id': '3297'},\n {'curriculum_discipline_id': '3774', 'competency_id': '3299'},\n {'curriculum_discipline_id': '3774', 'competency_id': '3300'},\n {'curriculum_discipline_id': '3774', 'competency_id': '3301'},\n {'curriculum_discipline_id': '3774', 'competency_id': '3302'},\n {'curriculum_discipline_id': '3774', 'competency_id': '3303'},\n {'curriculum_discipline_id': '3774', 'competency_id': '3305'},\n {'curriculum_discipline_id': '3774', 'competency_id': '3321'},\n {'curriculum_discipline_id': '3774', 'competency_id': '3324'},\n {'curriculum_discipline_id': '3774', 'competency_id': '3325'},\n {'curriculum_discipline_id': '3774', 'competency_id': '3345'},\n {'curriculum_discipline_id': '3775', 'competency_id': '3275'},\n {'curriculum_discipline_id': '3775', 'competency_id': '3280'},\n {'curriculum_discipline_id': '3775', 'competency_id': '3282'},\n {'curriculum_discipline_id': '3775', 'competency_id': '3301'},\n {'curriculum_discipline_id': '3775', 'competency_id': '3306'},\n {'curriculum_discipline_id': '3775', 'competency_id': '3324'},\n {'curriculum_discipline_id': '3776', 'competency_id': '3285'},\n {'curriculum_discipline_id': '3776', 'competency_id': '3298'},\n {'curriculum_discipline_id': '3776', 'competency_id': '3321'},\n {'curriculum_discipline_id': '3776', 'competency_id': '3337'},\n {'curriculum_discipline_id': '3776', 'competency_id': '3338'},\n {'curriculum_discipline_id': '3776', 'competency_id': '3339'},\n {'curriculum_discipline_id': '3776', 'competency_id': '3340'},\n {'curriculum_discipline_id': '3776', 'competency_id': '3341'},\n {'curriculum_discipline_id': '3776', 'competency_id': '3342'},\n {'curriculum_discipline_id': '3776', 'competency_id': '3344'},\n {'curriculum_discipline_id': '3777', 'competency_id': '3275'},\n {'curriculum_discipline_id': '3777', 'competency_id': '3276'},\n {'curriculum_discipline_id': '3777', 'competency_id': '3285'},\n {'curriculum_discipline_id': '3778', 'competency_id': '3275'},\n {'curriculum_discipline_id': '3779', 'competency_id': '3307'},\n {'curriculum_discipline_id': '3886', 'competency_id': '3275'},\n {'curriculum_discipline_id': '3886', 'competency_id': '3276'},\n {'curriculum_discipline_id': '3886', 'competency_id': '3286'},\n {'curriculum_discipline_id': '3886', 'competency_id': '3287'},\n {'curriculum_discipline_id': '3886', 'competency_id': '3289'},\n {'curriculum_discipline_id': '3886', 'competency_id': '3291'},\n {'curriculum_discipline_id': '3886', 'competency_id': '3295'},\n {'curriculum_discipline_id': '3886', 'competency_id': '3298'},\n {'curriculum_discipline_id': '3886', 'competency_id': '3314'},\n {'curriculum_discipline_id': '3886', 'competency_id': '3315'},\n {'curriculum_discipline_id': '3886', 'competency_id': '3317'},\n {'curriculum_discipline_id': '3886', 'competency_id': '3322'},\n {'curriculum_discipline_id': '3886', 'competency_id': '3329'},\n {'curriculum_discipline_id': '3886', 'competency_id': '3333'},\n {'curriculum_discipline_id': '3886', 'competency_id': '3334'},\n {'curriculum_discipline_id': '3886', 'competency_id': '3336'},\n {'curriculum_discipline_id': '3886', 'competency_id': '3337'},\n {'curriculum_discipline_id': '3886', 'competency_id': '3338'},\n {'curriculum_discipline_id': '3886', 'competency_id': '3340'},\n {'curriculum_discipline_id': '3886', 'competency_id': '3342'},\n {'curriculum_discipline_id': '3886', 'competency_id': '3343'},\n {'curriculum_discipline_id': '3886', 'competency_id': '3344'},\n {'curriculum_discipline_id': '3886', 'competency_id': '3346'},\n {'curriculum_discipline_id': '3886', 'competency_id': '3348'},\n {'curriculum_discipline_id': '4504', 'competency_id': '3285'},\n {'curriculum_discipline_id': '4504', 'competency_id': '3295'},\n {'curriculum_discipline_id': '4504', 'competency_id': '3298'},\n {'curriculum_discipline_id': '4504', 'competency_id': '3307'},\n {'curriculum_discipline_id': '4504', 'competency_id': '3308'},\n {'curriculum_discipline_id': '4504', 'competency_id': '3313'},\n {'curriculum_discipline_id': '4504', 'competency_id': '3317'},\n {'curriculum_discipline_id': '4504', 'competency_id': '3321'},\n {'curriculum_discipline_id': '4504', 'competency_id': '3342'},\n {'curriculum_discipline_id': '4505', 'competency_id': '3296'},\n {'curriculum_discipline_id': '4505', 'competency_id': '3298'},\n {'curriculum_discipline_id': '4505', 'competency_id': '3316'},\n {'curriculum_discipline_id': '4505', 'competency_id': '3320'},\n {'curriculum_discipline_id': '4507', 'competency_id': '3275'},\n {'curriculum_discipline_id': '4507', 'competency_id': '3298'},\n {'curriculum_discipline_id': '4508', 'competency_id': '3296'},\n {'curriculum_discipline_id': '4508', 'competency_id': '3302'},\n {'curriculum_discipline_id': '4508', 'competency_id': '3329'},\n {'curriculum_discipline_id': '4513', 'competency_id': '3275'},\n {'curriculum_discipline_id': '4513', 'competency_id': '3298'},\n {'curriculum_discipline_id': '4513', 'competency_id': '3307'},\n {'curriculum_discipline_id': '4514', 'competency_id': '3307'},\n {'curriculum_discipline_id': '4516', 'competency_id': '3295'},\n {'curriculum_discipline_id': '4516', 'competency_id': '3317'},\n {'curriculum_discipline_id': '4516', 'competency_id': '3333'},\n {'curriculum_discipline_id': '4517', 'competency_id': '3275'},\n {'curriculum_discipline_id': '4517', 'competency_id': '3285'},\n {'curriculum_discipline_id': '4517', 'competency_id': '3298'},\n {'curriculum_discipline_id': '4517', 'competency_id': '3309'},\n {'curriculum_discipline_id': '4517', 'competency_id': '3337'},\n {'curriculum_discipline_id': '9841', 'competency_id': '3275'},\n {'curriculum_discipline_id': '9841', 'competency_id': '3283'},\n {'curriculum_discipline_id': '9841', 'competency_id': '3286'},\n {'curriculum_discipline_id': '9841', 'competency_id': '3287'},\n {'curriculum_discipline_id': '9841', 'competency_id': '3288'},\n {'curriculum_discipline_id': '9841', 'competency_id': '3311'},\n {'curriculum_discipline_id': '9841', 'competency_id': '3346'},\n {'curriculum_discipline_id': '9842', 'competency_id': '3299'},\n {'curriculum_discipline_id': '9842', 'competency_id': '3301'},\n {'curriculum_discipline_id': '9842', 'competency_id': '3304'},\n {'curriculum_discipline_id': '9858', 'competency_id': '3275'},\n {'curriculum_discipline_id': '9858', 'competency_id': '3277'},\n {'curriculum_discipline_id': '9858', 'competency_id': '3282'},\n {'curriculum_discipline_id': '9858', 'competency_id': '3297'},\n {'curriculum_discipline_id': '9858', 'competency_id': '3299'},\n {'curriculum_discipline_id': '9858', 'competency_id': '3300'},\n {'curriculum_discipline_id': '9858', 'competency_id': '3301'},\n {'curriculum_discipline_id': '9858', 'competency_id': '3302'},\n {'curriculum_discipline_id': '9858', 'competency_id': '3304'},\n {'curriculum_discipline_id': '9858', 'competency_id': '3310'},\n {'curriculum_discipline_id': '9858', 'competency_id': '3311'},\n {'curriculum_discipline_id': '9858', 'competency_id': '3312'},\n {'curriculum_discipline_id': '9858', 'competency_id': '3322'},\n {'curriculum_discipline_id': '9858', 'competency_id': '3323'},\n {'curriculum_discipline_id': '9858', 'competency_id': '3324'},\n {'curriculum_discipline_id': '9858', 'competency_id': '3325'},\n {'curriculum_discipline_id': '9858', 'competency_id': '3329'},\n {'curriculum_discipline_id': '9858', 'competency_id': '3345'}]"
     },
     "execution_count": 48,
     "metadata": {},
     "output_type": "execute_result"
    }
   ],
   "source": [
    "plan.disciplines_comp()"
   ],
   "metadata": {
    "collapsed": false,
    "pycharm": {
     "name": "#%%\n"
    }
   }
  },
  {
   "cell_type": "code",
   "execution_count": 5,
   "outputs": [],
   "source": [
    "from app.main.func import xlsx_iter_rows\n",
    "from openpyxl import load_workbook\n",
    "\n",
    "plan = CompPlan(133)\n",
    "\n",
    "wb = load_workbook('Матрица - ПЛАН для тестирования.xlsx')\n",
    "ws = wb.active\n",
    "liblist = list(xlsx_iter_rows(ws))"
   ],
   "metadata": {
    "collapsed": false,
    "pycharm": {
     "name": "#%%\n"
    }
   }
  },
  {
   "cell_type": "code",
   "execution_count": 55,
   "outputs": [
    {
     "data": {
      "text/plain": "[['Код', 'Название дисциплины', '11', '22'],\n ['Блок 1', 'Дисциплины (модули)', None, None],\n ['Б.1.О', 'Обязательная часть ', None, None],\n ['Б.1.О.34',\n  'Делопроизводство и режим секретности в органах внутренних дел',\n  '+',\n  None],\n ['Б.1.О.35', 'Основы управления в органах внутренних дел', None, None],\n ['Б.1.В.ЭД.3.02',\n  'Обеспечение прав человека в деятельности органов внутренних дел',\n  None,\n  '+'],\n ['Б.1.О.25', 'Криминология', None, None],\n ['Б.1.О.38', 'Административная деятельность полиции', '=+C7', None]]"
     },
     "execution_count": 55,
     "metadata": {},
     "output_type": "execute_result"
    }
   ],
   "source": [
    "liblist"
   ],
   "metadata": {
    "collapsed": false,
    "pycharm": {
     "name": "#%%\n"
    }
   }
  },
  {
   "cell_type": "code",
   "execution_count": 16,
   "outputs": [
    {
     "name": "stdout",
     "output_type": "stream",
     "text": [
      "10463 4541\n",
      "10465 4542\n",
      "10466 4541\n",
      "10466 4542\n"
     ]
    }
   ],
   "source": [
    "load_data = {}\n",
    "for disc in plan.disciplines:\n",
    "    load_data[disc] = []\n",
    "    for line in liblist:\n",
    "        if plan.disciplines[disc][1] == line[1]:\n",
    "            for i in range(2, len(line)):\n",
    "                if str(line[i]) == \"+\":\n",
    "                    load_data[disc].append(plan.get_comp_id_by_code(liblist[0][i]))\n",
    "for data in load_data:\n",
    "    if load_data.get(data):\n",
    "        for comp in load_data.get(data):\n",
    "            if comp is not None:\n",
    "                print(data, comp)"
   ],
   "metadata": {
    "collapsed": false,
    "pycharm": {
     "name": "#%%\n"
    }
   }
  },
  {
   "cell_type": "code",
   "execution_count": 76,
   "outputs": [],
   "source": [
    "report['Административная деятельность полиции'].append('TEST')"
   ],
   "metadata": {
    "collapsed": false,
    "pycharm": {
     "name": "#%%\n"
    }
   }
  },
  {
   "cell_type": "code",
   "execution_count": 77,
   "outputs": [
    {
     "data": {
      "text/plain": "{'Делопроизводство и режим секретности в органах внутренних дел': 'Нет в файле',\n 'Основы управления в органах внутренних дел': 'Нет в файле',\n 'Обеспечение прав человека в деятельности органов внутренних дел': 'Нет в файле',\n 'Криминология': 'Нет в файле',\n 'Административная деятельность полиции': ['TEST']}"
     },
     "execution_count": 77,
     "metadata": {},
     "output_type": "execute_result"
    }
   ],
   "source": [
    "report"
   ],
   "metadata": {
    "collapsed": false,
    "pycharm": {
     "name": "#%%\n"
    }
   }
  },
  {
   "cell_type": "code",
   "execution_count": 57,
   "outputs": [
    {
     "name": "stdout",
     "output_type": "stream",
     "text": [
      "11\n",
      "22\n"
     ]
    }
   ],
   "source": [
    "for i in range(2, len(liblist[0])):\n",
    "    print(liblist[0][i])"
   ],
   "metadata": {
    "collapsed": false,
    "pycharm": {
     "name": "#%%\n"
    }
   }
  },
  {
   "cell_type": "code",
   "execution_count": 32,
   "id": "structured-victim",
   "metadata": {},
   "outputs": [],
   "source": [
    "plan.disciplines_all_comp_del()  # Удаление всех связей дисциплин, компетенций и содержания из программ"
   ]
  },
  {
   "cell_type": "code",
   "execution_count": 33,
   "id": "monthly-member",
   "metadata": {
    "tags": []
   },
   "outputs": [
    {
     "data": {
      "text/plain": [
       "[]"
      ]
     },
     "execution_count": 33,
     "metadata": {},
     "output_type": "execute_result"
    }
   ],
   "source": [
    "plan.del_comp()  # Удаление всех компетенций плана"
   ]
  },
  {
   "cell_type": "code",
   "execution_count": 5,
   "id": "prescription-action",
   "metadata": {},
   "outputs": [
    {
     "ename": "NameError",
     "evalue": "name 'pd' is not defined",
     "output_type": "error",
     "traceback": [
      "\u001B[0;31m---------------------------------------------------------------------------\u001B[0m",
      "\u001B[0;31mNameError\u001B[0m                                 Traceback (most recent call last)",
      "\u001B[0;32m/var/folders/d5/4nwn2rys5sz573f88fj_4vfc0000gn/T/ipykernel_9317/2701970847.py\u001B[0m in \u001B[0;36m<module>\u001B[0;34m\u001B[0m\n\u001B[1;32m      1\u001B[0m \u001B[0;31m# Загрузка Компетенций из файла\u001B[0m\u001B[0;34m\u001B[0m\u001B[0;34m\u001B[0m\u001B[0m\n\u001B[1;32m      2\u001B[0m \u001B[0;34m\u001B[0m\u001B[0m\n\u001B[0;32m----> 3\u001B[0;31m \u001B[0mdf\u001B[0m \u001B[0;34m=\u001B[0m \u001B[0mpd\u001B[0m\u001B[0;34m.\u001B[0m\u001B[0mDataFrame\u001B[0m\u001B[0;34m(\u001B[0m\u001B[0mpd\u001B[0m\u001B[0;34m.\u001B[0m\u001B[0mread_excel\u001B[0m\u001B[0;34m(\u001B[0m\u001B[0;34m'40-03-02-comp.xlsx'\u001B[0m\u001B[0;34m,\u001B[0m \u001B[0mengine\u001B[0m\u001B[0;34m=\u001B[0m\u001B[0;34m'openpyxl'\u001B[0m\u001B[0;34m)\u001B[0m\u001B[0;34m)\u001B[0m\u001B[0;34m\u001B[0m\u001B[0;34m\u001B[0m\u001B[0m\n\u001B[0m\u001B[1;32m      4\u001B[0m \u001B[0;31m# Normalize DataFrame\u001B[0m\u001B[0;34m\u001B[0m\u001B[0;34m\u001B[0m\u001B[0m\n\u001B[1;32m      5\u001B[0m \u001B[0mreplace_dict\u001B[0m \u001B[0;34m=\u001B[0m \u001B[0;34m{\u001B[0m\u001B[0;34m'  '\u001B[0m\u001B[0;34m:\u001B[0m\u001B[0;34m' '\u001B[0m\u001B[0;34m,\u001B[0m \u001B[0;34m'–'\u001B[0m\u001B[0;34m:\u001B[0m\u001B[0;34m'-'\u001B[0m\u001B[0;34m,\u001B[0m \u001B[0;34m'. - '\u001B[0m\u001B[0;34m:\u001B[0m\u001B[0;34m' - '\u001B[0m\u001B[0;34m,\u001B[0m \u001B[0;34m'K'\u001B[0m\u001B[0;34m:\u001B[0m\u001B[0;34m'К'\u001B[0m\u001B[0;34m,\u001B[0m \u001B[0;34m'O'\u001B[0m\u001B[0;34m:\u001B[0m\u001B[0;34m'О'\u001B[0m\u001B[0;34m}\u001B[0m\u001B[0;34m\u001B[0m\u001B[0;34m\u001B[0m\u001B[0m\n",
      "\u001B[0;31mNameError\u001B[0m: name 'pd' is not defined"
     ]
    }
   ],
   "source": [
    "# Загрузка Компетенций из файла\n",
    "\n",
    "df = pd.DataFrame(pd.read_excel('40-03-02-comp.xlsx', engine='openpyxl'))\n",
    "# Normalize DataFrame\n",
    "replace_dict = {'  ':' ', '–':'-', '. - ':' - ', 'K':'К', 'O':'О'}\n",
    "for key, value in replace_dict.items():\n",
    "    df[df.columns[0]] = df[df.columns[0]].str.replace(key, value, regex=False)\n",
    "\n",
    "left_node, right_node  = 1, 2\n",
    "\n",
    "for i in range(len(df)): #len(df)\n",
    "    code = df.at[i, df.columns[0]]\n",
    "    description = df.at[i, df.columns[1]]\n",
    "    plan.load_comp(code, description, left_node, right_node)\n",
    "    left_node += 2\n",
    "    right_node += 2"
   ]
  },
  {
   "cell_type": "code",
   "execution_count": 6,
   "outputs": [],
   "source": [
    "from openpyxl import load_workbook\n",
    "\n",
    "# Загрузка Компетенций из файла\n",
    "\n",
    "wb = load_workbook('comp_load_temp.xlsx')\n",
    "ws = wb.active\n",
    "\n",
    "# Normalize Data\n",
    "replace_dict = {'  ':' ', '–':'-', '. - ':' - ', 'K':'К', 'O':'О'}\n",
    "for key, val in replace_dict.items():\n",
    "    for r in range(1, ws.max_row + 1):\n",
    "        for c in range(1, 2):\n",
    "            s = str(ws.cell(r, c).value)\n",
    "            ws.cell(r, c).value = s.replace(key, val)\n",
    "\n",
    "def iter_rows(ws):\n",
    "    for row in ws.iter_rows():\n",
    "        yield [cell.value for cell in row]\n",
    "comps = list(iter_rows(ws))\n",
    "del comps[0]\n",
    "\n",
    "left_node, right_node  = 1, 2\n",
    "\n",
    "for comp in comps:\n",
    "    code = comp[0]\n",
    "    description = comp[1]\n",
    "    plan.load_comp(code, description, left_node, right_node)\n",
    "    left_node += 2\n",
    "    right_node += 2"
   ],
   "metadata": {
    "collapsed": false,
    "pycharm": {
     "name": "#%%\n"
    }
   }
  },
  {
   "cell_type": "code",
   "execution_count": 2,
   "id": "greater-chassis",
   "metadata": {
    "collapsed": true,
    "jupyter": {
     "outputs_hidden": true
    },
    "tags": []
   },
   "outputs": [
    {
     "ename": "NameError",
     "evalue": "name 'matrix' is not defined",
     "output_type": "error",
     "traceback": [
      "\u001B[1;31m---------------------------------------------------------------------------\u001B[0m",
      "\u001B[1;31mNameError\u001B[0m                                 Traceback (most recent call last)",
      "\u001B[1;32m~\\AppData\\Local\\Temp/ipykernel_9368/2049814312.py\u001B[0m in \u001B[0;36m<module>\u001B[1;34m\u001B[0m\n\u001B[1;32m----> 1\u001B[1;33m \u001B[0mmatrix\u001B[0m\u001B[1;33m.\u001B[0m\u001B[0mdf\u001B[0m  \u001B[1;31m# Данные из файла\u001B[0m\u001B[1;33m\u001B[0m\u001B[1;33m\u001B[0m\u001B[0m\n\u001B[0m",
      "\u001B[1;31mNameError\u001B[0m: name 'matrix' is not defined"
     ]
    }
   ],
   "source": [
    "matrix.df  # Данные из файла"
   ]
  },
  {
   "cell_type": "code",
   "execution_count": 20,
   "id": "narrow-budget",
   "metadata": {
    "tags": []
   },
   "outputs": [
    {
     "data": {
      "text/plain": [
       "['Выберите дисциплину']"
      ]
     },
     "execution_count": 20,
     "metadata": {},
     "output_type": "execute_result"
    }
   ],
   "source": [
    "matrix.df_errors()  # Ошибки данных"
   ]
  },
  {
   "cell_type": "code",
   "execution_count": 21,
   "id": "coastal-gnome",
   "metadata": {
    "tags": []
   },
   "outputs": [
    {
     "data": {
      "text/plain": [
       "True"
      ]
     },
     "execution_count": 21,
     "metadata": {},
     "output_type": "execute_result"
    }
   ],
   "source": [
    "matrix.disc_check('Б.1.О.3 Экономика')  # Проверка есть ли дисциплина в матрице"
   ]
  },
  {
   "cell_type": "code",
   "execution_count": 22,
   "id": "cardiac-attitude",
   "metadata": {
    "collapsed": true,
    "jupyter": {
     "outputs_hidden": true
    },
    "tags": []
   },
   "outputs": [
    {
     "data": {
      "text/plain": [
       "{'УК-1': {'knowledge': ['- сущность и основные принципы системного подхода к решению задач профессиональной деятельности, основные формы мышления, мыслительные операции, способы поиска информации (УК-1.з.1)'],\n",
       "  'abilities': ['- осуществлять поиск информации, необходимой для решения задач профессиональной деятельности; выделять главную информацию; подвергать сомнению достоверность информации (УК-1.у.1)',\n",
       "   '- выявлять закономерности и взаимосвязи; устанавливать объективную истину; обосновывать выбранные пути решения задач профессиональной деятельности (УК-1.у.3)'],\n",
       "  'ownerships': ['- способностью применять системный подход при решении проблемных ситуаций и выработке стратегии действий в профессиональной деятельности (УК-1.в.1)']},\n",
       " 'УК-2': {'knowledge': ['- способы постановки цели и определения в ее рамках круга задач (УК-2.з.2)'],\n",
       "  'abilities': ['- формулировать в рамках поставленной цели проекта совокупность взаимосвязанных задач, обеспечивающих ее достижение (УК-2.у.1)',\n",
       "   '- проектировать решение конкретной задачи проекта, выбирать оптимальный способ ее решения, исходя из действующих правовых норм и имеющихся ресурсов и ограничений (УК-2.у.3)'],\n",
       "  'ownerships': ['- способностью определять ожидаемые результаты решения выделенных задач (УК-2.в.1)',\n",
       "   '- навыками публично представлять результаты решения конкретной задачи проекта (УК-2.в.2)']},\n",
       " 'УК-3': {'knowledge': [],\n",
       "  'abilities': ['- эффективно взаимодействовать с другими членами команды, в том числе участвовать в обмене информацией, знаниями и опытом, и презентации результатов работы команды (УК-3.у.2)'],\n",
       "  'ownerships': ['- навыками эффективного использования стратегии сотрудничества для достижения поставленной цели, определения свей роли в команде (УК-3.в.1)']},\n",
       " 'УК-8': {'knowledge': ['- чрезвычайные ситуации; поражающие факторы и правила поведения при угрозе и возникновении чрезвычайных ситуаций и военных конфликтов; единую государственную систему предупреждения и ликвидации чрезвычайных ситуаций (УК-8.з.2)'],\n",
       "  'abilities': [],\n",
       "  'ownerships': []},\n",
       " 'ОПК-3': {'knowledge': ['- виды и способы толкования норм права, требования к процессу толкования норм права (ОПК-3.з.4)',\n",
       "   '- свойства юридических фактов и особенности возникающих на их основе правоотношений (ОПК-3.з.5)'],\n",
       "  'abilities': ['- оперировать юридическими понятиями, категориями и терминами в процессе осуществления своей профессиональной и служебной деятельности (ОПК-3.у.1)',\n",
       "   '- толковать нормы права, устанавливать их действительный смысл и значение в системе права (ОПК-3.у.4)',\n",
       "   '- выявлять юридически значимые фактические данные и обстоятельства, анализировать юридические факты и возникающие в связи с ними правовые отношения, давать правовую квалификацию выявленным фактам и обстоятельствам в сфере своей профессиональной и служебной деятельности (ОПК-3.у.5)'],\n",
       "  'ownerships': ['- навыками использования категориально-понятийного аппарата юриспруденции в решении профессиональных задач (ОПК-3.в.1)',\n",
       "   '- способами и приемами толкования норм права (ОПК-3.в.4)',\n",
       "   '- навыками профессиональной квалификации выявленных в сфере профессиональной и служебной деятельности фактов и обстоятельств (ОПК-3.в.5)']},\n",
       " 'ОПК-4': {'knowledge': ['- порядок организации документирования и документооборота с учетом сферы своей профессиональной деятельности (ОПК-4.з.1)',\n",
       "   '- порядок составления и оформления процессуальных и служебных документов (ОПК-4.з.2)'],\n",
       "  'abilities': ['- правильно составлять и оформлять процессуальные и служебные документы связанные с профессиональной деятельностью (ОПК-4.у.1)'],\n",
       "  'ownerships': []},\n",
       " 'ОПК-5': {'knowledge': ['- законодательство Российской Федерации, нормы материального и процессуального права, сущность и содержание основных понятий, категорий, институтов, правовых статусов субъектов, правоотношений субъектов правоотношений (ОПК-5.з.1)',\n",
       "   '- формы и способы реализации норм права, механизм правового регулирования (ОПК-5.з.2)'],\n",
       "  'abilities': ['- собирать, анализировать и оценивать информацию, имеющую значение для реализации правовых норм, устанавливать фактические обстоятельства, имеющие юридическое значение, определять характер правоотношения и правовые нормы, подлежащие применению при принятии юридически обоснованного решения, принимать юридически значимые решения и совершать юридические действия в соответствии с законом (ОПК-5.у.1)'],\n",
       "  'ownerships': ['- навыками сбора, анализа и оценки информации, имеющей значение для реализации правовых норм; навыками принятия юридически значимых решений, отвечающих требованиям действующего законодательства (ОПК-5.в.1)']},\n",
       " 'ОПК-6': {'knowledge': ['- положения действующего законодательства Российской Федерации в области обеспечения законности и правопорядка (ОПК-6.з.1)',\n",
       "   '- способы установления фактических обстоятельств, имеющих юридическое значение при решении задач профессиональной деятельности (ОПК-6.з.3)'],\n",
       "  'abilities': ['- правильно толковать и квалифицированно применять положения нормативных правовых актов (ОПК-6.у.3)',\n",
       "   '- принимать юридические решения в соответствии с законодательством Российской Федерации (ОПК-6.у.4)',\n",
       "   '- выполнять должностные обязанности по обеспечению законности и правопорядка (ОПК-6.у.6)'],\n",
       "  'ownerships': []},\n",
       " 'ОПК-7': {'knowledge': ['- задачи по выявлению, предупреждению, пресечению и раскрытию преступлений и иных правонарушений (ОПК-7.з.1)',\n",
       "   '- порядок приема, регистрации и документального оформления сообщения о преступлении (ОПК-7.з.2)',\n",
       "   '- производство по делам об административных правонарушениях (ОПК-7.з.4)'],\n",
       "  'abilities': ['- принимать и регистрировать все сообщения о правонарушениях, преступлениях и происшествиях (ОПК-7.у.1)',\n",
       "   '- документировать действия лиц, совершивших преступление и иные правонарушения (ОПК-7.у.2)',\n",
       "   '- получать, анализировать и оценивать оперативно-значимую информацию, способствующую выявлению, предупреждению, пресечению и раскрытию преступлений и иных правонарушений (ОПК-7.у.3)'],\n",
       "  'ownerships': ['- навыком обеспечения безопасности граждан и общественной безопасности (ОПК-7.в.1)']},\n",
       " 'ОПК-11': {'knowledge': ['- основы профилактики, предупреждения правонарушений, организационно-правовые средства их обеспечения (ОПК-11.з.2)'],\n",
       "  'abilities': ['- выявлять причины и условия, способствующие различным видам правонарушений (ОПК-11.у.1)',\n",
       "   '- планировать и своевременно осуществлять мероприятия по предупреждению, профилактике правонарушений (ОПК-11.у.2)'],\n",
       "  'ownerships': ['- навыками выявления и устранения причин и условий, способствующих совершению преступлений (ОПК-11.в.1)',\n",
       "   '- навыками применения средств предупреждения, профилактики правонарушений (ОПК-11.в.2)']},\n",
       " 'ПК-1': {'knowledge': [],\n",
       "  'abilities': ['- анализировать юридические факты нарушения прав и свобод человека и гражданина, и возникающие в связи с этим правовые отношения, правильно составлять и оформлять процессуальные документы (ПК-1.у.1)'],\n",
       "  'ownerships': ['- навыками принятия необходимых мер по защите и обеспечению прав человека в процессе профессиональной деятельности сотрудника подразделения по обеспечению безопасности дорожного движения (ПК-1.в.1)',\n",
       "   '- навыками защиты прав, свобод и интересов в случае нарушения таковых (ПК-1.в.2)']},\n",
       " 'ПК-2': {'knowledge': ['- виды и назначение нарядов полиции при чрезвычайных обстоятельствах (ПК-2.з.2)',\n",
       "   '- задачи, правовые основы и порядок действий ОВД при решении задач в особых условиях, чрезвычайных обстоятельствах чрезвычайных ситуациях, условиях режима чрезвычайного положения и в военное время (ПК-2.з.3)'],\n",
       "  'abilities': [],\n",
       "  'ownerships': []},\n",
       " 'ПК-4': {'knowledge': ['- основания и порядок применения физической силы, специальных средств и огнестрельного оружия в случаях и порядке, предусмотренных Федеральным законом от 7 февраля 2011 г. № 3-ФЗ «О полиции» (ПК-4.з.1)'],\n",
       "  'abilities': ['- выявлять факты нарушения прав и законных интересов граждан при применении специальных мер принуждения (ПК-4.у.2)'],\n",
       "  'ownerships': []},\n",
       " 'ПК-5': {'knowledge': [],\n",
       "  'abilities': [],\n",
       "  'ownerships': ['- навыками процессуального оформления материалов дел об административных правонарушениях (ПК-5.в.1)']},\n",
       " 'ПК-6': {'knowledge': ['- порядок и тактику применения физической силы, специальных средств и огнестрельного оружия при задержании правонарушителей, а также в условиях крайней необходимости и необходимой самообороны (ПК-6.з.1)'],\n",
       "  'abilities': [],\n",
       "  'ownerships': []},\n",
       " 'ПК-19': {'knowledge': ['- формы и методы организации деятельности строевых подразделений дорожно-патрульной службы Государственной инспекции безопасности дорожного движения Министерства внутренних дел Российской Федерации (ПК-19.з.1)'],\n",
       "  'abilities': [],\n",
       "  'ownerships': ['- навыками выявления нарушений Правил дорожного движения и других нормативов, действующих в области дорожного движения (ПК-19.в.1)']},\n",
       " 'ПК-29': {'knowledge': ['- порядок и тактику применения мер обеспечения производства по делам об административных правонарушениях в области дорожного движения (ПК-29.з.1)'],\n",
       "  'abilities': ['- применять меры обеспечения производства по делам об административных правонарушениях в области дорожного движения (ПК-29.у.1)'],\n",
       "  'ownerships': ['- навыками применения мер обеспечения производства по делам об административных правонарушениях в области дорожного движения (ПК-29.в.1)']},\n",
       " 'ПК-30': {'knowledge': ['- алгоритм квалификации состава административного правонарушения в сфере безопасности дорожного движения (ПК-30.з.2)'],\n",
       "  'abilities': ['- квалифицировать состав административного правонарушения в сфере безопасности дорожного движения (ПК-30.у.1)'],\n",
       "  'ownerships': ['- навыками квалификации составов административных правонарушений в сфере безопасности дорожного движения (ПК-30.в.1)']},\n",
       " 'ПК-31': {'knowledge': ['- порядок рассмотрения и принятия решения по обращениям граждан при производстве по делу об административном правонарушении (ПК-31.з.1)'],\n",
       "  'abilities': ['- правильно составлять и оформлять служебные и процессуальные документы, связанные с рассмотрением и принятием решения по обращениям граждан при производстве по делу об административном правонарушении (ПК-31.у.1)'],\n",
       "  'ownerships': []},\n",
       " 'ПК-44': {'knowledge': ['- профессиональные задачи, реализуемые в процессе осуществления деятельности подразделений по обеспечению безопасности дорожного движения (ПК-44.з.1)'],\n",
       "  'abilities': [],\n",
       "  'ownerships': []}}"
      ]
     },
     "execution_count": 22,
     "metadata": {},
     "output_type": "execute_result"
    }
   ],
   "source": [
    "matrix.disc_comp('Б.1.О.38 Административная деятельность полиции')  # Выгрузка компетенций и индикаторов по дисциплине"
   ]
  },
  {
   "cell_type": "code",
   "execution_count": 14,
   "id": "plain-garage",
   "metadata": {},
   "outputs": [],
   "source": [
    "# Удаление содержания всех компетенций из программ и связей в учебном плане, создание программ если их нет\n",
    "\n",
    "for disc in plan.disciplines.keys():\n",
    "    wp = WorkProgram(disc)\n",
    "    wp.comp_data_del()\n",
    "    plan.disciplines_comp_del(disc)"
   ]
  },
  {
   "cell_type": "code",
   "execution_count": 23,
   "id": "synthetic-subject",
   "metadata": {},
   "outputs": [],
   "source": [
    "# Проверка соответствия дисциплин в плане и матрице\n",
    "\n",
    "for disc in plan.disciplines.keys():\n",
    "    disc_name = plan.discipline_name(disc)\n",
    "    if matrix.disc_check(disc_name) is False:\n",
    "        print (disc_name, 'не найдена в матрице')\n",
    "        \n",
    "# Дописать \"не найдена в плане\""
   ]
  },
  {
   "cell_type": "code",
   "execution_count": 24,
   "id": "local-collect",
   "metadata": {
    "tags": []
   },
   "outputs": [],
   "source": [
    "# получение ID компетенций плана для дисциплины для загрузки\n",
    "\n",
    "# for disc in plan.disciplines.keys():\n",
    "\n",
    "def disc_load_ids(curriculum_discipline_id):\n",
    "    disc_comp_load = []\n",
    "    disc_name = plan.discipline_name(curriculum_discipline_id)\n",
    "    comp_data = matrix.disc_comp(disc_name)\n",
    "    for comp in comp_data:\n",
    "        for v in range(len(plan.competencies)):\n",
    "            if comp == plan.competencies[v]['code']:\n",
    "                disc_comp_load.append(plan.competencies[v]['id'])\n",
    "    return disc_comp_load\n"
   ]
  },
  {
   "cell_type": "code",
   "execution_count": 25,
   "id": "vanilla-bulletin",
   "metadata": {
    "tags": []
   },
   "outputs": [
    {
     "data": {
      "text/plain": [
       "['4115', '4116', '4117', '4137', '4139', '4140', '4149']"
      ]
     },
     "execution_count": 25,
     "metadata": {},
     "output_type": "execute_result"
    }
   ],
   "source": [
    "disc_load_ids(10464)"
   ]
  },
  {
   "cell_type": "code",
   "execution_count": 26,
   "id": "occupied-naples",
   "metadata": {
    "tags": []
   },
   "outputs": [],
   "source": [
    "# Загрузка компетенций для дисциплин в план (создание связей)\n",
    "\n",
    "for disc in plan.disciplines.keys():\n",
    "    for comp in disc_load_ids(disc):\n",
    "        plan.disciplines_comp_load(disc, comp)    "
   ]
  },
  {
   "cell_type": "code",
   "execution_count": 27,
   "id": "amateur-samuel",
   "metadata": {
    "tags": []
   },
   "outputs": [],
   "source": [
    "# Загрузка индикаторов в программу\n",
    "\n",
    "def work_program_load(curriculum_discipline_id):\n",
    "    wp = WorkProgram(curriculum_discipline_id)\n",
    "    wp.comp_data_del()\n",
    "    disc_name = plan.discipline_name(curriculum_discipline_id)\n",
    "    comp_data = matrix.disc_comp(disc_name)\n",
    "    fields = {1:'knowledge', 2:'abilities', 3:'ownerships'}\n",
    "    knowledge, abilities, ownerships = [], [], []\n",
    "\n",
    "    for comp in comp_data.keys():\n",
    "        for v in range(len(plan.competencies)):\n",
    "            if comp == plan.competencies[v]['code']:\n",
    "                competency_id = plan.competencies[v]['id']\n",
    "                for f in fields:\n",
    "                    value = (';\\n').join(comp_data[comp][fields[f]])\n",
    "                    if value:\n",
    "                        wp.comp_data_add(competency_id, f, value)\n",
    "\n",
    "        knowledge += comp_data[comp]['knowledge']\n",
    "        abilities += comp_data[comp]['abilities']\n",
    "        ownerships += comp_data[comp]['ownerships']\n",
    "\n",
    "    wp.comp_level_edit((';\\n').join(knowledge), (';\\n').join(knowledge), (';\\n').join(knowledge))"
   ]
  },
  {
   "cell_type": "code",
   "execution_count": 28,
   "id": "australian-belief",
   "metadata": {},
   "outputs": [],
   "source": [
    "for disc in plan.disciplines.keys():\n",
    "    work_program_load(disc)"
   ]
  },
  {
   "cell_type": "code",
   "execution_count": 30,
   "id": "endless-latest",
   "metadata": {
    "collapsed": true,
    "jupyter": {
     "outputs_hidden": true
    },
    "tags": []
   },
   "outputs": [
    {
     "data": {
      "text/plain": [
       "[{'id': '19808',\n",
       "  'work_program_id': '3229',\n",
       "  'competency_id': '4115',\n",
       "  'field_id': '2',\n",
       "  'value': '- осуществлять поиск информации, необходимой для решения задач профессиональной деятельности; выделять главную информацию; подвергать сомнению достоверность информации (УК-1.у.1);\\n- сопоставлять предметы и явления с целью нахождения общих и частных характеристик; разделять объект (процесс) на составные части в целях выявления различных его сторон, свойств и отношений; соединять выделенные в процессе анализа части, признаки, свойства и отношения объекта (процесса) (УК-1.у.2);\\n- выявлять закономерности и взаимосвязи; устанавливать объективную истину; обосновывать выбранные пути решения задач профессиональной деятельности (УК-1.у.3)'},\n",
       " {'id': '19809',\n",
       "  'work_program_id': '3229',\n",
       "  'competency_id': '4115',\n",
       "  'field_id': '3',\n",
       "  'value': '- способностью применять системный подход при решении проблемных ситуаций и выработке стратегии действий в профессиональной деятельности (УК-1.в.1)'},\n",
       " {'id': '19810',\n",
       "  'work_program_id': '3229',\n",
       "  'competency_id': '4116',\n",
       "  'field_id': '1',\n",
       "  'value': '- способы постановки цели и определения в ее рамках круга задач (УК-2.з.2)'},\n",
       " {'id': '19811',\n",
       "  'work_program_id': '3229',\n",
       "  'competency_id': '4116',\n",
       "  'field_id': '2',\n",
       "  'value': '- формулировать в рамках поставленной цели проекта совокупность взаимосвязанных задач, обеспечивающих ее достижение (УК-2.у.1);\\n- проектировать решение конкретной задачи проекта, выбирать оптимальный способ ее решения, исходя из действующих правовых норм и имеющихся ресурсов и ограничений (УК-2.у.3)'},\n",
       " {'id': '19812',\n",
       "  'work_program_id': '3229',\n",
       "  'competency_id': '4116',\n",
       "  'field_id': '3',\n",
       "  'value': '- способностью определять ожидаемые результаты решения выделенных задач (УК-2.в.1)'},\n",
       " {'id': '19813',\n",
       "  'work_program_id': '3229',\n",
       "  'competency_id': '4117',\n",
       "  'field_id': '1',\n",
       "  'value': '- особенности поведения выделенных групп людей, с которыми работает (взаимодействует), учитывает их в своей деятельности (УК-3.з.1)'},\n",
       " {'id': '19814',\n",
       "  'work_program_id': '3229',\n",
       "  'competency_id': '4117',\n",
       "  'field_id': '2',\n",
       "  'value': '- предвидеть результаты (последствия) личных действий и планировать последовательность шагов для достижения заданного результата (УК-3.у.1);\\n- эффективно взаимодействовать с другими членами команды, в том числе участвовать в обмене информацией, знаниями и опытом, и презентации результатов работы команды (УК-3.у.2)'},\n",
       " {'id': '19815',\n",
       "  'work_program_id': '3229',\n",
       "  'competency_id': '4137',\n",
       "  'field_id': '1',\n",
       "  'value': '- основные методы и средства сбора, хранения, поиска, систематизации, обработки, передачи информации; состав, функции и возможности аппаратно-программного обеспечения; понятия информационной сферы, информационных технологий, использование информационных технологий в правоохранительной деятельности и перспективы их развития; основные методы, способы и средства защиты информации; назначение, функции и возможности профессионально-ориентированных справочных информационно-правовых и информационно-поисковых систем; роль и место мобильных систем в решении профессиональных задач (ОПК-12.з.1)'},\n",
       " {'id': '19816',\n",
       "  'work_program_id': '3229',\n",
       "  'competency_id': '4137',\n",
       "  'field_id': '2',\n",
       "  'value': '- эффективно использовать компьютерную технику при решении служебных задач; использовать локальные и глобальные ресурсы компьютерных сетей для решения служебных задач; самообучаться в современных компьютерных средах; организовывать свое автоматизированное рабочее место (ОПК-12.у.1)'},\n",
       " {'id': '19817',\n",
       "  'work_program_id': '3229',\n",
       "  'competency_id': '4137',\n",
       "  'field_id': '3',\n",
       "  'value': '- навыками компьютерной обработки служебной документации, статистической информации и деловой графики; практическими методами работы с информационными системами и базами данных, используемыми в профессиональной деятельности (ОПК-12.в.1)'},\n",
       " {'id': '19818',\n",
       "  'work_program_id': '3229',\n",
       "  'competency_id': '4139',\n",
       "  'field_id': '1',\n",
       "  'value': '- задачи, правовые основы и порядок действий ОВД при решении задач в особых условиях, чрезвычайных обстоятельствах чрезвычайных ситуациях, условиях режима чрезвычайного положения и в военное время (ПК-2.з.3)'},\n",
       " {'id': '19819',\n",
       "  'work_program_id': '3229',\n",
       "  'competency_id': '4140',\n",
       "  'field_id': '1',\n",
       "  'value': '- порядок осуществления телекоммуникационного, технико-криминалистического и специального технического обеспечения оперативно-служебной деятельности подразделений по обеспечению безопасности дорожного движения (ПК-3.з.1)'},\n",
       " {'id': '19820',\n",
       "  'work_program_id': '3229',\n",
       "  'competency_id': '4140',\n",
       "  'field_id': '2',\n",
       "  'value': '- использовать в процессе профессиональной деятельности оперативно-справочные, розыскные, криминалистические и иные формы учетов (ПК-3.у.2)'},\n",
       " {'id': '19821',\n",
       "  'work_program_id': '3229',\n",
       "  'competency_id': '4140',\n",
       "  'field_id': '3',\n",
       "  'value': '- навыками осуществления телекоммуникационного, технико-криминалистического и специального технического обеспечения оперативно-служебной деятельности подразделений по обеспечению безопасности дорожного движения (ПК-3.в.1)'},\n",
       " {'id': '19822',\n",
       "  'work_program_id': '3229',\n",
       "  'competency_id': '4149',\n",
       "  'field_id': '1',\n",
       "  'value': '- порядок формирования автоматизированных учетов разыскиваемых транспортных средств, утраченных, похищенных регистрационных и иных документов и передачи соответствующей информации (ПК-12.з.1)'},\n",
       " {'id': '19823',\n",
       "  'work_program_id': '3229',\n",
       "  'competency_id': '4149',\n",
       "  'field_id': '2',\n",
       "  'value': '- пользоваться базами автоматизированных учетов разыскиваемого автомототранспорта, утраченных, похищенных регистрационных и иных документов, и спецпродукции Госавтоинспекции (ПК-12.у.1)'},\n",
       " {'id': '19824',\n",
       "  'work_program_id': '3229',\n",
       "  'competency_id': '4149',\n",
       "  'field_id': '3',\n",
       "  'value': '- навыками формирования автоматизированных учетов разыскиваемых транспортных средств, утраченных, похищенных регистрационных и иных документов (ПК-12.в.1)'}]"
      ]
     },
     "execution_count": 30,
     "metadata": {},
     "output_type": "execute_result"
    }
   ],
   "source": [
    "db_filter_req('mm_work_programs_competencies_data', 'work_program_id', 3229)"
   ]
  }
 ],
 "metadata": {
  "kernelspec": {
   "display_name": "Python 3 (ipykernel)",
   "language": "python",
   "name": "python3"
  },
  "language_info": {
   "codemirror_mode": {
    "name": "ipython",
    "version": 3
   },
   "file_extension": ".py",
   "mimetype": "text/x-python",
   "name": "python",
   "nbconvert_exporter": "python",
   "pygments_lexer": "ipython3",
   "version": "3.8.10"
  }
 },
 "nbformat": 4,
 "nbformat_minor": 5
}