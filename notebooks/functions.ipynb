{
 "cells": [
  {
   "cell_type": "code",
   "execution_count": null,
   "id": "bizarre-charity",
   "metadata": {},
   "outputs": [],
   "source": [
    "def db_request(dbname):  # DB request function without filter\n",
    "    params = {'token': ApeksAPI.TOKEN,\n",
    "              'table': dbname}\n",
    "    response = requests.get(ApeksAPI.URL + '/api/call/system-database/get', params=params)\n",
    "    return response.json()['data']\n",
    "\n",
    "\n",
    "def db_filter_req(dbname, sqltable, sqlvalue):  # Filtered DB request (DB table, filter, value)\n",
    "    params = {'token': ApeksAPI.TOKEN,\n",
    "              'table': dbname,\n",
    "              'filter[' + sqltable + ']': str(sqlvalue)}\n",
    "    response = requests.get(ApeksAPI.URL + '/api/call/system-database/get', params=params)\n",
    "    return response.json()['data']\n"
   ]
  }
 ],
 "metadata": {
  "kernelspec": {
   "display_name": "Python 3 (ipykernel)",
   "language": "python",
   "name": "python3"
  },
  "language_info": {
   "codemirror_mode": {
    "name": "ipython",
    "version": 3
   },
   "file_extension": ".py",
   "mimetype": "text/x-python",
   "name": "python",
   "nbconvert_exporter": "python",
   "pygments_lexer": "ipython3",
   "version": "3.8.10"
  }
 },
 "nbformat": 4,
 "nbformat_minor": 5
}
