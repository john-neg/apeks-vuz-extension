{
 "cells": [
  {
   "cell_type": "code",
   "execution_count": 83,
   "outputs": [],
   "source": [
    "from openpyxl import load_workbook\n",
    "\n",
    "wb = load_workbook('comp_load_temp.xlsx')\n",
    "ws = wb.active"
   ],
   "metadata": {
    "collapsed": false,
    "pycharm": {
     "name": "#%%\n"
    }
   }
  },
  {
   "cell_type": "code",
   "execution_count": 54,
   "outputs": [
    {
     "data": {
      "text/plain": "12"
     },
     "execution_count": 54,
     "metadata": {},
     "output_type": "execute_result"
    }
   ],
   "source": [
    "rows = ws.max_row\n",
    "rows"
   ],
   "metadata": {
    "collapsed": false,
    "pycharm": {
     "name": "#%%\n"
    }
   }
  },
  {
   "cell_type": "code",
   "execution_count": 55,
   "outputs": [
    {
     "data": {
      "text/plain": "2"
     },
     "execution_count": 55,
     "metadata": {},
     "output_type": "execute_result"
    }
   ],
   "source": [
    "cols = ws.max_column\n",
    "cols"
   ],
   "metadata": {
    "collapsed": false,
    "pycharm": {
     "name": "#%%\n"
    }
   }
  },
  {
   "cell_type": "code",
   "execution_count": 69,
   "outputs": [
    {
     "data": {
      "text/plain": "[['УК-1',\n  'способностью к критическому анализу и оценке современных научных достижений, генерированию новых идей при решении исследовательских и практических задач, в том числе в междисциплинарных областях'],\n ['УК-2',\n  'способностью проетировать и осуществлять комплексные исследования, в том числе междисциплинарные, на основе целостного системного научного мировоззрения с использованием знаний в области истории и философии науки'],\n ['УК-3',\n  'готовностью участвовать в работе российских и международных исследовательских коллективов по решению научных и научно-образовательных задач'],\n ['УК-4',\n  'готовностью использовать современные методы и технологии научной коммуникации на государственном и иностранном языке'],\n ['УК-5',\n  'способностью следовать этическим нормам в профессиональной деятельности'],\n ['УК-6',\n  'способностью планировать и решать задачи собственного профессионального и личностного развития'],\n ['ОПК-1',\n  'владением методологией научно-исследовательской деятельности в области юриспруденции'],\n ['ОПК-2',\n  'владением культурой научного исследования в области юриспруденции, в том числе с использованием новейших информационно-коммуникационных технологий '],\n ['ОПК-3',\n  'способностью к разработке новых методов исследования и их применению в самостоятельной научно-исследовательской деятельностив области юриспруденции с соблюдением законодательсква Российской Федерации об авторском праве'],\n ['ОПК-4',\n  'готовностью организовать работу исследовательского и (или) педагогического коллектива в области юриспруденции'],\n ['ОПК-5',\n  'готовностью к преподавательской деятельности по образовательным программам высшего образования']]"
     },
     "execution_count": 69,
     "metadata": {},
     "output_type": "execute_result"
    }
   ],
   "source": [
    "def iter_rows(ws):\n",
    "    for row in ws.iter_rows():\n",
    "        yield [cell.value for cell in row]\n",
    "a = list(iter_rows(ws))\n",
    "del a[0]\n",
    "a"
   ],
   "metadata": {
    "collapsed": false,
    "pycharm": {
     "name": "#%%\n"
    }
   }
  },
  {
   "cell_type": "code",
   "execution_count": 86,
   "outputs": [
    {
     "data": {
      "text/plain": "'Code'"
     },
     "execution_count": 86,
     "metadata": {},
     "output_type": "execute_result"
    }
   ],
   "source": [
    "ws.cell(row=1, column=1).value"
   ],
   "metadata": {
    "collapsed": false,
    "pycharm": {
     "name": "#%%\n"
    }
   }
  },
  {
   "cell_type": "code",
   "execution_count": 85,
   "outputs": [],
   "source": [
    "ws.cell(row=1, column=1).value = 'Code'"
   ],
   "metadata": {
    "collapsed": false,
    "pycharm": {
     "name": "#%%\n"
    }
   }
  },
  {
   "cell_type": "code",
   "execution_count": 93,
   "outputs": [],
   "source": [
    "from app.main.func import db_filter_req\n",
    "\n",
    "wp_fields = db_filter_req(\n",
    "                    \"mm_work_programs_data\", \"work_program_id\", 3025)"
   ],
   "metadata": {
    "collapsed": false,
    "pycharm": {
     "name": "#%%\n"
    }
   }
  },
  {
   "cell_type": "code",
   "execution_count": 98,
   "outputs": [],
   "source": [
    "from app.library.models import LibraryPlan\n",
    "\n",
    "plan = LibraryPlan(133)"
   ],
   "metadata": {
    "collapsed": false,
    "pycharm": {
     "name": "#%%\n"
    }
   }
  },
  {
   "cell_type": "code",
   "execution_count": 100,
   "outputs": [],
   "source": [
    "a = plan.work_programs"
   ],
   "metadata": {
    "collapsed": false,
    "pycharm": {
     "name": "#%%\n"
    }
   }
  },
  {
   "cell_type": "code",
   "execution_count": 103,
   "outputs": [
    {
     "data": {
      "text/plain": "{'3228': 'Делопроизводство и режим секретности в органах внутренних дел',\n '3229': 'Основы управления в органах внутренних дел',\n '3230': 'Обеспечение прав человека в деятельности органов внутренних дел',\n '3233': 'Криминология'}"
     },
     "execution_count": 103,
     "metadata": {},
     "output_type": "execute_result"
    }
   ],
   "source": [
    "a"
   ],
   "metadata": {
    "collapsed": false,
    "pycharm": {
     "name": "#%%\n"
    }
   }
  },
  {
   "cell_type": "code",
   "execution_count": 105,
   "outputs": [
    {
     "name": "stdout",
     "output_type": "stream",
     "text": [
      "1\n"
     ]
    }
   ],
   "source": [
    "if 'Основы управления в органах внутренних дел' in a.values():\n",
    "    print('1')"
   ],
   "metadata": {
    "collapsed": false,
    "pycharm": {
     "name": "#%%\n"
    }
   }
  },
  {
   "cell_type": "code",
   "execution_count": 108,
   "outputs": [],
   "source": [
    "from app.library.func import load_bibl\n",
    "\n",
    "load_bibl('3229', '1', 'Тест')"
   ],
   "metadata": {
    "collapsed": false,
    "pycharm": {
     "name": "#%%\n"
    }
   }
  },
  {
   "cell_type": "code",
   "execution_count": 109,
   "outputs": [
    {
     "data": {
      "text/plain": "{'status': 1, 'data': 1}"
     },
     "execution_count": 109,
     "metadata": {},
     "output_type": "execute_result"
    }
   ],
   "source": [
    "import requests\n",
    "from config import ApeksAPI\n",
    "work_program_id = 3229\n",
    "field_id = 3\n",
    "load_data = 'TEST'\n",
    "\n",
    "params = {\"token\": ApeksAPI.TOKEN}\n",
    "data = {\n",
    "    \"table\": \"mm_work_programs_data\",\n",
    "    \"filter[work_program_id]\": work_program_id,\n",
    "    \"filter[field_id]\": field_id,\n",
    "    \"fields[data]\": load_data,\n",
    "}\n",
    "resp = requests.post(ApeksAPI.URL + \"/api/call/system-database/edit\", params=params, data=data)\n",
    "resp.json()"
   ],
   "metadata": {
    "collapsed": false,
    "pycharm": {
     "name": "#%%\n"
    }
   }
  }
 ],
 "metadata": {
  "kernelspec": {
   "display_name": "Python 3",
   "language": "python",
   "name": "python3"
  },
  "language_info": {
   "codemirror_mode": {
    "name": "ipython",
    "version": 2
   },
   "file_extension": ".py",
   "mimetype": "text/x-python",
   "name": "python",
   "nbconvert_exporter": "python",
   "pygments_lexer": "ipython2",
   "version": "2.7.6"
  }
 },
 "nbformat": 4,
 "nbformat_minor": 0
}